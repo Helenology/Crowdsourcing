{
 "cells": [
  {
   "cell_type": "code",
   "execution_count": 7,
   "id": "96c550be",
   "metadata": {},
   "outputs": [],
   "source": [
    "# ticks = np.linspace(0.51, 1, 1000)\n",
    "# Phis = st.norm.cdf(ticks)"
   ]
  },
  {
   "cell_type": "code",
   "execution_count": 22,
   "id": "605bc928",
   "metadata": {},
   "outputs": [],
   "source": [
    "import numpy as np\n",
    "import scipy.stats as st\n",
    "import matplotlib.pyplot as plt\n",
    "from scipy.special import ndtri\n",
    "import pandas as pd\n",
    "\n",
    "%matplotlib inline"
   ]
  },
  {
   "cell_type": "code",
   "execution_count": 17,
   "id": "3f712439",
   "metadata": {},
   "outputs": [
    {
     "name": "stdout",
     "output_type": "stream",
     "text": [
      "weight: [1.]\n"
     ]
    },
    {
     "data": {
      "text/plain": [
       "(0.5808717568070868, 0.6)"
      ]
     },
     "execution_count": 17,
     "metadata": {},
     "output_type": "execute_result"
    }
   ],
   "source": [
    "pim = np.array([0.6])\n",
    "Mi = len(pim)\n",
    "wm = np.ones(Mi) / Mi\n",
    "print(f\"weight: {wm}\")\n",
    "\n",
    "a = np.sum(pim * wm) - 0.5\n",
    "b = np.sqrt(np.sum(wm**2 * pim * (1 - pim)))\n",
    "st.norm.cdf(a / b), pim[0]"
   ]
  },
  {
   "cell_type": "code",
   "execution_count": 14,
   "id": "fb5ad087",
   "metadata": {},
   "outputs": [
    {
     "name": "stderr",
     "output_type": "stream",
     "text": [
      "/var/folders/g8/pcvlzrfj0qj3r46v1s41ylvc0000gn/T/ipykernel_26413/2292019254.py:2: RuntimeWarning: invalid value encountered in multiply\n",
      "  ndtri(ps) * np.sqrt(ps * (1 - ps) / (ps - 0.5))\n"
     ]
    },
    {
     "data": {
      "text/plain": [
       "array([0.12531947, 0.12835485, 0.13131992, 0.13421932, 0.13705722,\n",
       "       0.13983735, 0.14256309, 0.14523749, 0.14786334, 0.15044315,\n",
       "       0.15297926, 0.15547381, 0.15792874, 0.16034588, 0.1627269 ,\n",
       "       0.16507336, 0.1673867 , 0.16966828, 0.17191935, 0.17414109,\n",
       "       0.17633461, 0.17850093, 0.18064103, 0.18275582, 0.18484617,\n",
       "       0.1869129 , 0.18895676, 0.19097849, 0.19297879, 0.1949583 ,\n",
       "       0.19691764, 0.19885741, 0.20077817, 0.20268045, 0.20456476,\n",
       "       0.2064316 , 0.20828142, 0.21011467, 0.21193178, 0.21373314,\n",
       "       0.21551916, 0.21729021, 0.21904663, 0.22078878, 0.22251699,\n",
       "       0.22423158, 0.22593284, 0.22762108, 0.22929658, 0.23095961,\n",
       "       0.23261043, 0.23424929, 0.23587645, 0.23749213, 0.23909657,\n",
       "       0.24068999, 0.24227259, 0.24384459, 0.24540618, 0.24695756,\n",
       "       0.24849891, 0.25003042, 0.25155226, 0.2530646 , 0.25456761,\n",
       "       0.25606144, 0.25754625, 0.25902219, 0.26048942, 0.26194806,\n",
       "       0.26339827, 0.26484017, 0.26627389, 0.26769957, 0.26911732,\n",
       "       0.27052727, 0.27192953, 0.27332422, 0.27471145, 0.27609133,\n",
       "       0.27746396, 0.27882945, 0.2801879 , 0.2815394 , 0.28288405,\n",
       "       0.28422195, 0.28555319, 0.28687784, 0.28819601, 0.28950778,\n",
       "       0.29081322, 0.29211243, 0.29340547, 0.29469243, 0.29597339,\n",
       "       0.29724841, 0.29851756, 0.29978093, 0.30103857, 0.30229057,\n",
       "       0.30353697, 0.30477785, 0.30601327, 0.3072433 , 0.30846799,\n",
       "       0.3096874 , 0.31090159, 0.31211063, 0.31331456, 0.31451344,\n",
       "       0.31570732, 0.31689627, 0.31808032, 0.31925953, 0.32043396,\n",
       "       0.32160364, 0.32276863, 0.32392897, 0.32508472, 0.32623591,\n",
       "       0.3273826 , 0.32852481, 0.32966261, 0.33079602, 0.3319251 ,\n",
       "       0.33304988, 0.33417039, 0.3352867 , 0.33639882, 0.33750679,\n",
       "       0.33861067, 0.33971047, 0.34080625, 0.34189802, 0.34298584,\n",
       "       0.34406972, 0.34514971, 0.34622585, 0.34729815, 0.34836665,\n",
       "       0.3494314 , 0.3504924 , 0.35154971, 0.35260334, 0.35365333,\n",
       "       0.3546997 , 0.35574249, 0.35678171, 0.35781741, 0.35884961,\n",
       "       0.35987833, 0.3609036 , 0.36192545, 0.3629439 , 0.36395897,\n",
       "       0.36497071, 0.36597911, 0.36698422, 0.36798605, 0.36898464,\n",
       "       0.36997999, 0.37097214, 0.37196111, 0.37294691, 0.37392958,\n",
       "       0.37490913, 0.37588558, 0.37685895, 0.37782928, 0.37879656,\n",
       "       0.37976084, 0.38072212, 0.38168042, 0.38263577, 0.38358818,\n",
       "       0.38453767, 0.38548426, 0.38642798, 0.38736882, 0.38830682,\n",
       "       0.389242  , 0.39017436, 0.39110393, 0.39203072, 0.39295474,\n",
       "       0.39387603, 0.39479458, 0.39571043, 0.39662357, 0.39753404,\n",
       "       0.39844183, 0.39934698, 0.40024949, 0.40114938, 0.40204667,\n",
       "       0.40294136, 0.40383347, 0.40472302, 0.40561001, 0.40649447,\n",
       "       0.40737641, 0.40825584, 0.40913277, 0.41000721, 0.41087919,\n",
       "       0.4117487 , 0.41261577, 0.41348041, 0.41434262, 0.41520243,\n",
       "       0.41605983, 0.41691485, 0.4177675 , 0.41861779, 0.41946572,\n",
       "       0.42031131, 0.42115457, 0.42199552, 0.42283416, 0.4236705 ,\n",
       "       0.42450455, 0.42533633, 0.42616584, 0.4269931 , 0.42781811,\n",
       "       0.42864089, 0.42946144, 0.43027977, 0.4310959 , 0.43190984,\n",
       "       0.43272158, 0.43353115, 0.43433855, 0.43514378, 0.43594687,\n",
       "       0.43674782, 0.43754663, 0.43834332, 0.43913789, 0.43993035,\n",
       "       0.44072071, 0.44150899, 0.44229518, 0.44307929, 0.44386134,\n",
       "       0.44464133, 0.44541927, 0.44619516, 0.44696902, 0.44774085,\n",
       "       0.44851066, 0.44927845, 0.45004424, 0.45080803, 0.45156983,\n",
       "       0.45232964, 0.45308748, 0.45384334, 0.45459725, 0.45534919,\n",
       "       0.45609918, 0.45684723, 0.45759334, 0.45833752, 0.45907977,\n",
       "       0.45982011, 0.46055853, 0.46129505, 0.46202966, 0.46276238,\n",
       "       0.46349322, 0.46422217, 0.46494924, 0.46567445, 0.46639779,\n",
       "       0.46711927, 0.46783889, 0.46855667, 0.4692726 , 0.4699867 ,\n",
       "       0.47069897, 0.4714094 , 0.47211802, 0.47282482, 0.4735298 ,\n",
       "       0.47423298, 0.47493436, 0.47563395, 0.47633174, 0.47702774,\n",
       "       0.47772196, 0.4784144 , 0.47910507, 0.47979398, 0.48048111,\n",
       "       0.48116649, 0.48185011, 0.48253199, 0.48321211, 0.4838905 ,\n",
       "       0.48456714, 0.48524206, 0.48591524, 0.4865867 , 0.48725644,\n",
       "       0.48792445, 0.48859076, 0.48925536, 0.48991825, 0.49057943,\n",
       "       0.49123892, 0.49189672, 0.49255283, 0.49320724, 0.49385998,\n",
       "       0.49451103, 0.49516041, 0.49580811, 0.49645415, 0.49709852,\n",
       "       0.49774122, 0.49838227, 0.49902165, 0.49965939, 0.50029547,\n",
       "       0.50092991, 0.50156271, 0.50219386, 0.50282338, 0.50345126,\n",
       "       0.5040775 , 0.50470212, 0.50532512, 0.50594649, 0.50656623,\n",
       "       0.50718436, 0.50780088, 0.50841578, 0.50902908, 0.50964076,\n",
       "       0.51025084, 0.51085932, 0.5114662 , 0.51207148, 0.51267517,\n",
       "       0.51327726, 0.51387776, 0.51447668, 0.51507401, 0.51566975,\n",
       "       0.51626392, 0.5168565 , 0.51744751, 0.51803695, 0.51862481,\n",
       "       0.5192111 , 0.51979582, 0.52037898, 0.52096057, 0.5215406 ,\n",
       "       0.52211907, 0.52269597, 0.52327133, 0.52384512, 0.52441736,\n",
       "       0.52498805, 0.52555719, 0.52612479, 0.52669083, 0.52725533,\n",
       "       0.52781829, 0.5283797 , 0.52893958, 0.52949791, 0.53005471,\n",
       "       0.53060997, 0.53116369, 0.53171589, 0.53226655, 0.53281568,\n",
       "       0.53336328, 0.53390935, 0.5344539 , 0.53499692, 0.53553841,\n",
       "       0.53607839, 0.53661684, 0.53715377, 0.53768918, 0.53822307,\n",
       "       0.53875544, 0.53928629, 0.53981563, 0.54034346, 0.54086977,\n",
       "       0.54139457, 0.54191785, 0.54243962, 0.54295989, 0.54347864,\n",
       "       0.54399588, 0.54451162, 0.54502585, 0.54553857, 0.54604978,\n",
       "       0.54655949, 0.54706769, 0.54757439, 0.54807958, 0.54858328,\n",
       "       0.54908546, 0.54958615, 0.55008533, 0.55058301, 0.55107919,\n",
       "       0.55157387, 0.55206705, 0.55255873, 0.55304891, 0.55353759,\n",
       "       0.55402477, 0.55451045, 0.55499463, 0.55547732, 0.5559585 ,\n",
       "       0.55643819, 0.55691637, 0.55739306, 0.55786825, 0.55834195,\n",
       "       0.55881414, 0.55928484, 0.55975403, 0.56022173, 0.56068793,\n",
       "       0.56115264, 0.56161584, 0.56207754, 0.56253775, 0.56299646,\n",
       "       0.56345366, 0.56390937, 0.56436358, 0.56481628, 0.56526749,\n",
       "       0.56571719, 0.56616539, 0.5666121 , 0.56705729, 0.56750099,\n",
       "       0.56794318, 0.56838387, 0.56882306, 0.56926074, 0.56969691,\n",
       "       0.57013158, 0.57056474, 0.5709964 , 0.57142654, 0.57185518,\n",
       "       0.57228231, 0.57270793, 0.57313203, 0.57355463, 0.57397571,\n",
       "       0.57439528, 0.57481334, 0.57522988, 0.5756449 , 0.57605841,\n",
       "       0.5764704 , 0.57688087, 0.57728982, 0.57769725, 0.57810316,\n",
       "       0.57850755, 0.57891041, 0.57931174, 0.57971155, 0.58010983,\n",
       "       0.58050658, 0.58090181, 0.5812955 , 0.58168766, 0.58207828,\n",
       "       0.58246737, 0.58285492, 0.58324093, 0.58362541, 0.58400834,\n",
       "       0.58438973, 0.58476958, 0.58514788, 0.58552464, 0.58589984,\n",
       "       0.5862735 , 0.5866456 , 0.58701616, 0.58738515, 0.58775259,\n",
       "       0.58811847, 0.5884828 , 0.58884555, 0.58920675, 0.58956638,\n",
       "       0.58992444, 0.59028094, 0.59063586, 0.59098921, 0.59134098,\n",
       "       0.59169118, 0.5920398 , 0.59238683, 0.59273229, 0.59307616,\n",
       "       0.59341844, 0.59375913, 0.59409823, 0.59443574, 0.59477165,\n",
       "       0.59510596, 0.59543867, 0.59576978, 0.59609928, 0.59642718,\n",
       "       0.59675346, 0.59707813, 0.59740119, 0.59772263, 0.59804245,\n",
       "       0.59836065, 0.59867722, 0.59899216, 0.59930548, 0.59961716,\n",
       "       0.59992721, 0.60023561, 0.60054238, 0.6008475 , 0.60115098,\n",
       "       0.6014528 , 0.60175297, 0.60205149, 0.60234835, 0.60264355,\n",
       "       0.60293708, 0.60322895, 0.60351914, 0.60380766, 0.60409451,\n",
       "       0.60437967, 0.60466316, 0.60494495, 0.60522506, 0.60550347,\n",
       "       0.60578019, 0.60605521, 0.60632852, 0.60660013, 0.60687003,\n",
       "       0.60713821, 0.60740468, 0.60766943, 0.60793245, 0.60819375,\n",
       "       0.60845331, 0.60871114, 0.60896723, 0.60922158, 0.60947418,\n",
       "       0.60972503, 0.60997413, 0.61022147, 0.61046704, 0.61071086,\n",
       "       0.6109529 , 0.61119316, 0.61143165, 0.61166835, 0.61190327,\n",
       "       0.6121364 , 0.61236773, 0.61259726, 0.61282499, 0.61305091,\n",
       "       0.61327502, 0.6134973 , 0.61371777, 0.61393641, 0.61415322,\n",
       "       0.6143682 , 0.61458133, 0.61479262, 0.61500206, 0.61520964,\n",
       "       0.61541537, 0.61561923, 0.61582122, 0.61602133, 0.61621957,\n",
       "       0.61641592, 0.61661038, 0.61680295, 0.61699362, 0.61718238,\n",
       "       0.61736923, 0.61755416, 0.61773718, 0.61791826, 0.61809742,\n",
       "       0.61827463, 0.6184499 , 0.61862322, 0.61879459, 0.618964  ,\n",
       "       0.61913143, 0.6192969 , 0.61946039, 0.61962189, 0.6197814 ,\n",
       "       0.61993892, 0.62009443, 0.62024793, 0.62039942, 0.62054889,\n",
       "       0.62069633, 0.62084173, 0.62098509, 0.62112641, 0.62126567,\n",
       "       0.62140287, 0.621538  , 0.62167106, 0.62180204, 0.62193093,\n",
       "       0.62205772, 0.62218242, 0.622305  , 0.62242547, 0.62254381,\n",
       "       0.62266003, 0.6227741 , 0.62288603, 0.62299581, 0.62310342,\n",
       "       0.62320887, 0.62331214, 0.62341323, 0.62351213, 0.62360883,\n",
       "       0.62370332, 0.6237956 , 0.62388565, 0.62397347, 0.62405905,\n",
       "       0.62414238, 0.62422346, 0.62430227, 0.62437881, 0.62445306,\n",
       "       0.62452503, 0.62459469, 0.62466205, 0.62472709, 0.6247898 ,\n",
       "       0.62485018, 0.62490821, 0.62496388, 0.6250172 , 0.62506814,\n",
       "       0.6251167 , 0.62516286, 0.62520663, 0.62524798, 0.62528691,\n",
       "       0.62532341, 0.62535746, 0.62538907, 0.62541821, 0.62544488,\n",
       "       0.62546907, 0.62549076, 0.62550995, 0.62552663, 0.62554077,\n",
       "       0.62555238, 0.62556145, 0.62556795, 0.62557188, 0.62557323,\n",
       "       0.62557199, 0.62556814, 0.62556168, 0.62555259, 0.62554085,\n",
       "       0.62552647, 0.62550942, 0.62548969, 0.62546727, 0.62544215,\n",
       "       0.62541431, 0.62538375, 0.62535045, 0.62531439, 0.62527557,\n",
       "       0.62523396, 0.62518957, 0.62514236, 0.62509233, 0.62503947,\n",
       "       0.62498377, 0.62492519, 0.62486375, 0.6247994 , 0.62473216,\n",
       "       0.62466199, 0.62458889, 0.62451284, 0.62443382, 0.62435182,\n",
       "       0.62426682, 0.62417881, 0.62408777, 0.62399369, 0.62389655,\n",
       "       0.62379634, 0.62369303, 0.62358661, 0.62347706, 0.62336438,\n",
       "       0.62324853, 0.6231295 , 0.62300728, 0.62288185, 0.62275318,\n",
       "       0.62262127, 0.62248609, 0.62234762, 0.62220585, 0.62206076,\n",
       "       0.62191232, 0.62176053, 0.62160535, 0.62144677, 0.62128477,\n",
       "       0.62111933, 0.62095043, 0.62077805, 0.62060216, 0.62042275,\n",
       "       0.6202398 , 0.62005328, 0.61986317, 0.61966945, 0.6194721 ,\n",
       "       0.61927109, 0.6190664 , 0.61885802, 0.61864591, 0.61843005,\n",
       "       0.61821042, 0.61798699, 0.61775975, 0.61752866, 0.6172937 ,\n",
       "       0.61705484, 0.61681206, 0.61656534, 0.61631464, 0.61605995,\n",
       "       0.61580122, 0.61553845, 0.61527159, 0.61500062, 0.61472552,\n",
       "       0.61444625, 0.61416279, 0.6138751 , 0.61358316, 0.61328693,\n",
       "       0.6129864 , 0.61268151, 0.61237226, 0.61205859, 0.61174049,\n",
       "       0.61141791, 0.61109083, 0.61075922, 0.61042303, 0.61008224,\n",
       "       0.60973681, 0.6093867 , 0.60903188, 0.60867232, 0.60830798,\n",
       "       0.60793882, 0.6075648 , 0.60718589, 0.60680205, 0.60641323,\n",
       "       0.60601941, 0.60562053, 0.60521657, 0.60480747, 0.6043932 ,\n",
       "       0.60397371, 0.60354896, 0.60311892, 0.60268352, 0.60224274,\n",
       "       0.60179652, 0.60134482, 0.60088759, 0.60042478, 0.59995635,\n",
       "       0.59948225, 0.59900242, 0.59851682, 0.59802541, 0.59752811,\n",
       "       0.59702489, 0.59651569, 0.59600045, 0.59547913, 0.59495166,\n",
       "       0.59441799, 0.59387805, 0.59333181, 0.59277918, 0.59222012,\n",
       "       0.59165456, 0.59108244, 0.59050369, 0.58991826, 0.58932608,\n",
       "       0.58872707, 0.58812118, 0.58750833, 0.58688846, 0.58626149,\n",
       "       0.58562735, 0.58498597, 0.58433728, 0.58368119, 0.58301764,\n",
       "       0.58234654, 0.58166781, 0.58098137, 0.58028714, 0.57958503,\n",
       "       0.57887496, 0.57815685, 0.57743059, 0.57669611, 0.57595331,\n",
       "       0.57520209, 0.57444237, 0.57367403, 0.57289699, 0.57211115,\n",
       "       0.57131639, 0.57051261, 0.56969971, 0.56887758, 0.56804611,\n",
       "       0.56720518, 0.56635467, 0.56549447, 0.56462446, 0.56374451,\n",
       "       0.56285451, 0.56195431, 0.56104379, 0.56012281, 0.55919124,\n",
       "       0.55824894, 0.55729577, 0.55633158, 0.55535622, 0.55436953,\n",
       "       0.55337137, 0.55236158, 0.55133998, 0.55030642, 0.54926072,\n",
       "       0.54820272, 0.54713222, 0.54604905, 0.54495302, 0.54384395,\n",
       "       0.54272162, 0.54158585, 0.54043643, 0.53927314, 0.53809576,\n",
       "       0.53690409, 0.53569788, 0.53447691, 0.53324093, 0.5319897 ,\n",
       "       0.53072296, 0.52944046, 0.52814193, 0.5268271 , 0.52549568,\n",
       "       0.52414738, 0.52278191, 0.52139896, 0.51999821, 0.51857934,\n",
       "       0.51714201, 0.51568589, 0.51421061, 0.51271582, 0.51120112,\n",
       "       0.50966615, 0.50811048, 0.50653372, 0.50493543, 0.50331516,\n",
       "       0.50167248, 0.50000689, 0.49831792, 0.49660507, 0.49486779,\n",
       "       0.49310557, 0.49131783, 0.489504  , 0.48766347, 0.48579562,\n",
       "       0.4838998 , 0.48197533, 0.48002152, 0.47803764, 0.47602293,\n",
       "       0.4739766 , 0.47189783, 0.46978577, 0.46763952, 0.46545815,\n",
       "       0.46324069, 0.46098612, 0.45869338, 0.45636135, 0.45398888,\n",
       "       0.45157473, 0.44911764, 0.44661624, 0.44406913, 0.44147481,\n",
       "       0.43883173, 0.43613822, 0.43339254, 0.43059286, 0.42773721,\n",
       "       0.42482354, 0.42184966, 0.41881324, 0.41571181, 0.41254274,\n",
       "       0.40930324, 0.40599029, 0.4026007 , 0.39913103, 0.3955776 ,\n",
       "       0.39193643, 0.38820325, 0.38437343, 0.38044198, 0.37640345,\n",
       "       0.37225195, 0.367981  , 0.36358355, 0.35905183, 0.3543773 ,\n",
       "       0.34955049, 0.34456089, 0.33939679, 0.33404503, 0.32849084,\n",
       "       0.32271743, 0.3167057 , 0.31043371, 0.30387607, 0.29700319,\n",
       "       0.28978019, 0.28216554, 0.27410918, 0.26554986, 0.25641136,\n",
       "       0.24659694, 0.23598081, 0.22439447, 0.2116036 , 0.19726613,\n",
       "       0.18084854, 0.16143545, 0.13719866, 0.10325575,        nan])"
      ]
     },
     "execution_count": 14,
     "metadata": {},
     "output_type": "execute_result"
    }
   ],
   "source": [
    "ps = np.linspace(0.51, 1, 1000)\n",
    "ndtri(ps) * np.sqrt(ps * (1 - ps) / (ps - 0.5))"
   ]
  },
  {
   "cell_type": "code",
   "execution_count": 15,
   "id": "fbbbd160",
   "metadata": {},
   "outputs": [
    {
     "name": "stderr",
     "output_type": "stream",
     "text": [
      "/var/folders/g8/pcvlzrfj0qj3r46v1s41ylvc0000gn/T/ipykernel_26413/2498771747.py:2: RuntimeWarning: divide by zero encountered in true_divide\n",
      "  tmp = (ticks - 0.5) / np.sqrt(ticks * (1 - ticks) / Mi)\n"
     ]
    },
    {
     "data": {
      "text/plain": [
       "[<matplotlib.lines.Line2D at 0x7fd7980fcf40>]"
      ]
     },
     "execution_count": 15,
     "metadata": {},
     "output_type": "execute_result"
    },
    {
     "data": {
      "image/png": "[encoded data removed]",
      "text/plain": [
       "<Figure size 432x288 with 1 Axes>"
      ]
     },
     "metadata": {
      "needs_background": "light"
     },
     "output_type": "display_data"
    }
   ],
   "source": [
    "ticks = np.linspace(0.51, 1, 1000)\n",
    "tmp = (ticks - 0.5) / np.sqrt(ticks * (1 - ticks) / Mi)\n",
    "y = st.norm.cdf(tmp)\n",
    "plt.plot(ticks, y - ticks)"
   ]
  },
  {
   "cell_type": "code",
   "execution_count": 20,
   "id": "426f540b",
   "metadata": {},
   "outputs": [
    {
     "data": {
      "text/plain": [
       "-0.2021154391971346"
      ]
     },
     "execution_count": 20,
     "metadata": {},
     "output_type": "execute_result"
    }
   ],
   "source": [
    "2 / np.sqrt(2 * np.pi) - 1"
   ]
  },
  {
   "cell_type": "code",
   "execution_count": 23,
   "id": "79acd96e",
   "metadata": {},
   "outputs": [],
   "source": [
    "data = pd.DataFrame({\"pi0\": ticks,\n",
    "                     \"p(2)\": y})"
   ]
  },
  {
   "cell_type": "code",
   "execution_count": 24,
   "id": "f7471d94",
   "metadata": {},
   "outputs": [
    {
     "data": {
      "text/html": [
       "<div>\n",
       "<style scoped>\n",
       "    .dataframe tbody tr th:only-of-type {\n",
       "        vertical-align: middle;\n",
       "    }\n",
       "\n",
       "    .dataframe tbody tr th {\n",
       "        vertical-align: top;\n",
       "    }\n",
       "\n",
       "    .dataframe thead th {\n",
       "        text-align: right;\n",
       "    }\n",
       "</style>\n",
       "<table border=\"1\" class=\"dataframe\">\n",
       "  <thead>\n",
       "    <tr style=\"text-align: right;\">\n",
       "      <th></th>\n",
       "      <th>pi0</th>\n",
       "      <th>p(2)</th>\n",
       "    </tr>\n",
       "  </thead>\n",
       "  <tbody>\n",
       "    <tr>\n",
       "      <th>0</th>\n",
       "      <td>0.510000</td>\n",
       "      <td>0.507980</td>\n",
       "    </tr>\n",
       "    <tr>\n",
       "      <th>1</th>\n",
       "      <td>0.510490</td>\n",
       "      <td>0.508371</td>\n",
       "    </tr>\n",
       "    <tr>\n",
       "      <th>2</th>\n",
       "      <td>0.510981</td>\n",
       "      <td>0.508763</td>\n",
       "    </tr>\n",
       "    <tr>\n",
       "      <th>3</th>\n",
       "      <td>0.511471</td>\n",
       "      <td>0.509155</td>\n",
       "    </tr>\n",
       "    <tr>\n",
       "      <th>4</th>\n",
       "      <td>0.511962</td>\n",
       "      <td>0.509546</td>\n",
       "    </tr>\n",
       "  </tbody>\n",
       "</table>\n",
       "</div>"
      ],
      "text/plain": [
       "        pi0      p(2)\n",
       "0  0.510000  0.507980\n",
       "1  0.510490  0.508371\n",
       "2  0.510981  0.508763\n",
       "3  0.511471  0.509155\n",
       "4  0.511962  0.509546"
      ]
     },
     "execution_count": 24,
     "metadata": {},
     "output_type": "execute_result"
    }
   ],
   "source": [
    "data.head()"
   ]
  },
  {
   "cell_type": "code",
   "execution_count": 25,
   "id": "8da2c060",
   "metadata": {},
   "outputs": [],
   "source": [
    "data.to_csv(\"/Users/helenology/Desktop/光华/ 论文/4-Crowdsourcing/codes/simulation/zero_annotator_props.csv\")"
   ]
  },
  {
   "cell_type": "code",
   "execution_count": null,
   "id": "748d5193",
   "metadata": {},
   "outputs": [],
   "source": []
  }
 ],
 "metadata": {
  "kernelspec": {
   "display_name": "Python 3 (ipykernel)",
   "language": "python",
   "name": "python3"
  },
  "language_info": {
   "codemirror_mode": {
    "name": "ipython",
    "version": 3
   },
   "file_extension": ".py",
   "mimetype": "text/x-python",
   "name": "python",
   "nbconvert_exporter": "python",
   "pygments_lexer": "ipython3",
   "version": "3.9.7"
  },
  "toc": {
   "base_numbering": 1,
   "nav_menu": {},
   "number_sections": true,
   "sideBar": true,
   "skip_h1_title": false,
   "title_cell": "Table of Contents",
   "title_sidebar": "Contents",
   "toc_cell": false,
   "toc_position": {},
   "toc_section_display": true,
   "toc_window_display": false
  }
 },
 "nbformat": 4,
 "nbformat_minor": 5
}
