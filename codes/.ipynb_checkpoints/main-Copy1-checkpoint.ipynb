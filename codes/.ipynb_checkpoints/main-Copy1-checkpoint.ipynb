{
 "cells": [
  {
   "cell_type": "code",
   "execution_count": 1,
   "metadata": {
    "ExecuteTime": {
     "end_time": "2024-06-09T13:07:29.853536Z",
     "start_time": "2024-06-09T13:07:29.847323Z"
    }
   },
   "outputs": [
    {
     "name": "stderr",
     "output_type": "stream",
     "text": [
      "/opt/anaconda3/lib/python3.9/site-packages/scipy/__init__.py:146: UserWarning: A NumPy version >=1.16.5 and <1.23.0 is required for this version of SciPy (detected version 1.24.3\n",
      "  warnings.warn(f\"A NumPy version >={np_minversion} and <{np_maxversion}\"\n"
     ]
    }
   ],
   "source": [
    "# basic (built-in) Python packages\n",
    "import numpy as np\n",
    "from numpy.linalg import norm\n",
    "import pandas as pd\n",
    "import matplotlib.pyplot as plt\n",
    "\n",
    "# advanced (built-in) Python packages\n",
    "from sklearn.model_selection import train_test_split\n",
    "from sklearn.linear_model import LogisticRegression\n",
    "from scipy.optimize import minimize\n",
    "\n",
    "# my implemented Python functions and classes\n",
    "from data.generate_data import generate_data\n",
    "from model.BaseModel import BaseModel\n",
    "from model.MLE import MLE\n",
    "from model.OS import OS\n",
    "from model.ORACLE import ORACLE\n",
    "from model.Initial import Initial"
   ]
  },
  {
   "cell_type": "markdown",
   "metadata": {
    "ExecuteTime": {
     "end_time": "2024-06-09T13:08:21.298583Z",
     "start_time": "2024-06-09T13:08:21.224257Z"
    },
    "collapsed": false,
    "jupyter": {
     "outputs_hidden": false
    }
   },
   "source": [
    "# Hyperparameters"
   ]
  },
  {
   "cell_type": "code",
   "execution_count": 2,
   "metadata": {
    "ExecuteTime": {
     "end_time": "2024-06-09T13:08:20.241157Z",
     "start_time": "2024-06-09T13:08:20.145109Z"
    },
    "collapsed": false,
    "jupyter": {
     "outputs_hidden": false
    }
   },
   "outputs": [
    {
     "name": "stdout",
     "output_type": "stream",
     "text": [
      "alpha=1.0000\n",
      "[n*alpha=5000/N=100000]\n",
      "[M=587] vs [n*alpha=5000]\n"
     ]
    }
   ],
   "source": [
    "seed = 1\n",
    "np.random.seed(seed=seed)\n",
    "\n",
    "N = 100000        # the size of the unlabeled dataset\n",
    "n = 5000            # pilot sample size\n",
    "alpha = 1 # n**(-0.1)  \n",
    "print(f\"alpha={alpha:.4f}\")\n",
    "\n",
    "p = 10          # feature dimension\n",
    "K = 2           # (K+1) classes\n",
    "M = int(n / np.log(n))          # the size of the annotator pool\n",
    "print(f\"[n*alpha={int(n*alpha)}/N={N}]\")\n",
    "print(f\"[M={M}] vs [n*alpha={int(n*alpha)}]\")"
   ]
  },
  {
   "cell_type": "markdown",
   "metadata": {},
   "source": [
    "# Data Generation"
   ]
  },
  {
   "cell_type": "code",
   "execution_count": 3,
   "metadata": {},
   "outputs": [
    {
     "name": "stdout",
     "output_type": "stream",
     "text": [
      "True Labels 1    39315\n",
      "0    33292\n",
      "2    27393\n",
      "dtype: int64 \n",
      "\n"
     ]
    }
   ],
   "source": [
    "beta, sigma_list, theta, X, Y, X1, X2, Y1, Y2, A1, AY1 = generate_data(K, p, N, n, M, alpha, seed=0)"
   ]
  },
  {
   "cell_type": "code",
   "execution_count": 4,
   "metadata": {
    "scrolled": true
   },
   "outputs": [
    {
     "data": {
      "text/plain": [
       "array([0.1       , 0.10511073, 0.11022147, 0.1153322 , 0.12044293,\n",
       "       0.12555366, 0.1306644 , 0.13577513, 0.14088586, 0.14599659,\n",
       "       0.15110733, 0.15621806, 0.16132879, 0.16643952, 0.17155026,\n",
       "       0.17666099, 0.18177172, 0.18688245, 0.19199319, 0.19710392,\n",
       "       0.20221465, 0.20732538, 0.21243612, 0.21754685, 0.22265758,\n",
       "       0.22776831, 0.23287905, 0.23798978, 0.24310051, 0.24821124,\n",
       "       0.25332198, 0.25843271, 0.26354344, 0.26865417, 0.27376491,\n",
       "       0.27887564, 0.28398637, 0.2890971 , 0.29420784, 0.29931857,\n",
       "       0.3044293 , 0.30954003, 0.31465077, 0.3197615 , 0.32487223,\n",
       "       0.32998296, 0.3350937 , 0.34020443, 0.34531516, 0.35042589,\n",
       "       0.35553663, 0.36064736, 0.36575809, 0.37086882, 0.37597956,\n",
       "       0.38109029, 0.38620102, 0.39131175, 0.39642249, 0.40153322,\n",
       "       0.40664395, 0.41175468, 0.41686542, 0.42197615, 0.42708688,\n",
       "       0.43219761, 0.43730835, 0.44241908, 0.44752981, 0.45264055,\n",
       "       0.45775128, 0.46286201, 0.46797274, 0.47308348, 0.47819421,\n",
       "       0.48330494, 0.48841567, 0.49352641, 0.49863714, 0.50374787,\n",
       "       0.5088586 , 0.51396934, 0.51908007, 0.5241908 , 0.52930153,\n",
       "       0.53441227, 0.539523  , 0.54463373, 0.54974446, 0.5548552 ,\n",
       "       0.55996593, 0.56507666, 0.57018739, 0.57529813, 0.58040886,\n",
       "       0.58551959, 0.59063032, 0.59574106, 0.60085179, 0.60596252,\n",
       "       0.61107325, 0.61618399, 0.62129472, 0.62640545, 0.63151618,\n",
       "       0.63662692, 0.64173765, 0.64684838, 0.65195911, 0.65706985,\n",
       "       0.66218058, 0.66729131, 0.67240204, 0.67751278, 0.68262351,\n",
       "       0.68773424, 0.69284497, 0.69795571, 0.70306644, 0.70817717,\n",
       "       0.7132879 , 0.71839864, 0.72350937, 0.7286201 , 0.73373083,\n",
       "       0.73884157, 0.7439523 , 0.74906303, 0.75417376, 0.7592845 ,\n",
       "       0.76439523, 0.76950596, 0.7746167 , 0.77972743, 0.78483816,\n",
       "       0.78994889, 0.79505963, 0.80017036, 0.80528109, 0.81039182,\n",
       "       0.81550256, 0.82061329, 0.82572402, 0.83083475, 0.83594549,\n",
       "       0.84105622, 0.84616695, 0.85127768, 0.85638842, 0.86149915,\n",
       "       0.86660988, 0.87172061, 0.87683135, 0.88194208, 0.88705281,\n",
       "       0.89216354, 0.89727428, 0.90238501, 0.90749574, 0.91260647,\n",
       "       0.91771721, 0.92282794, 0.92793867, 0.9330494 , 0.93816014,\n",
       "       0.94327087, 0.9483816 , 0.95349233, 0.95860307, 0.9637138 ,\n",
       "       0.96882453, 0.97393526, 0.979046  , 0.98415673, 0.98926746,\n",
       "       0.99437819, 0.99948893, 1.00459966, 1.00971039, 1.01482112,\n",
       "       1.01993186, 1.02504259, 1.03015332, 1.03526405, 1.04037479,\n",
       "       1.04548552, 1.05059625, 1.05570698, 1.06081772, 1.06592845,\n",
       "       1.07103918, 1.07614991, 1.08126065, 1.08637138, 1.09148211,\n",
       "       1.09659284, 1.10170358, 1.10681431, 1.11192504, 1.11703578,\n",
       "       1.12214651, 1.12725724, 1.13236797, 1.13747871, 1.14258944,\n",
       "       1.14770017, 1.1528109 , 1.15792164, 1.16303237, 1.1681431 ,\n",
       "       1.17325383, 1.17836457, 1.1834753 , 1.18858603, 1.19369676,\n",
       "       1.1988075 , 1.20391823, 1.20902896, 1.21413969, 1.21925043,\n",
       "       1.22436116, 1.22947189, 1.23458262, 1.23969336, 1.24480409,\n",
       "       1.24991482, 1.25502555, 1.26013629, 1.26524702, 1.27035775,\n",
       "       1.27546848, 1.28057922, 1.28568995, 1.29080068, 1.29591141,\n",
       "       1.30102215, 1.30613288, 1.31124361, 1.31635434, 1.32146508,\n",
       "       1.32657581, 1.33168654, 1.33679727, 1.34190801, 1.34701874,\n",
       "       1.35212947, 1.3572402 , 1.36235094, 1.36746167, 1.3725724 ,\n",
       "       1.37768313, 1.38279387, 1.3879046 , 1.39301533, 1.39812606,\n",
       "       1.4032368 , 1.40834753, 1.41345826, 1.41856899, 1.42367973,\n",
       "       1.42879046, 1.43390119, 1.43901193, 1.44412266, 1.44923339,\n",
       "       1.45434412, 1.45945486, 1.46456559, 1.46967632, 1.47478705,\n",
       "       1.47989779, 1.48500852, 1.49011925, 1.49522998, 1.50034072,\n",
       "       1.50545145, 1.51056218, 1.51567291, 1.52078365, 1.52589438,\n",
       "       1.53100511, 1.53611584, 1.54122658, 1.54633731, 1.55144804,\n",
       "       1.55655877, 1.56166951, 1.56678024, 1.57189097, 1.5770017 ,\n",
       "       1.58211244, 1.58722317, 1.5923339 , 1.59744463, 1.60255537,\n",
       "       1.6076661 , 1.61277683, 1.61788756, 1.6229983 , 1.62810903,\n",
       "       1.63321976, 1.63833049, 1.64344123, 1.64855196, 1.65366269,\n",
       "       1.65877342, 1.66388416, 1.66899489, 1.67410562, 1.67921635,\n",
       "       1.68432709, 1.68943782, 1.69454855, 1.69965928, 1.70477002,\n",
       "       1.70988075, 1.71499148, 1.72010221, 1.72521295, 1.73032368,\n",
       "       1.73543441, 1.74054514, 1.74565588, 1.75076661, 1.75587734,\n",
       "       1.76098807, 1.76609881, 1.77120954, 1.77632027, 1.78143101,\n",
       "       1.78654174, 1.79165247, 1.7967632 , 1.80187394, 1.80698467,\n",
       "       1.8120954 , 1.81720613, 1.82231687, 1.8274276 , 1.83253833,\n",
       "       1.83764906, 1.8427598 , 1.84787053, 1.85298126, 1.85809199,\n",
       "       1.86320273, 1.86831346, 1.87342419, 1.87853492, 1.88364566,\n",
       "       1.88875639, 1.89386712, 1.89897785, 1.90408859, 1.90919932,\n",
       "       1.91431005, 1.91942078, 1.92453152, 1.92964225, 1.93475298,\n",
       "       1.93986371, 1.94497445, 1.95008518, 1.95519591, 1.96030664,\n",
       "       1.96541738, 1.97052811, 1.97563884, 1.98074957, 1.98586031,\n",
       "       1.99097104, 1.99608177, 2.0011925 , 2.00630324, 2.01141397,\n",
       "       2.0165247 , 2.02163543, 2.02674617, 2.0318569 , 2.03696763,\n",
       "       2.04207836, 2.0471891 , 2.05229983, 2.05741056, 2.06252129,\n",
       "       2.06763203, 2.07274276, 2.07785349, 2.08296422, 2.08807496,\n",
       "       2.09318569, 2.09829642, 2.10340716, 2.10851789, 2.11362862,\n",
       "       2.11873935, 2.12385009, 2.12896082, 2.13407155, 2.13918228,\n",
       "       2.14429302, 2.14940375, 2.15451448, 2.15962521, 2.16473595,\n",
       "       2.16984668, 2.17495741, 2.18006814, 2.18517888, 2.19028961,\n",
       "       2.19540034, 2.20051107, 2.20562181, 2.21073254, 2.21584327,\n",
       "       2.220954  , 2.22606474, 2.23117547, 2.2362862 , 2.24139693,\n",
       "       2.24650767, 2.2516184 , 2.25672913, 2.26183986, 2.2669506 ,\n",
       "       2.27206133, 2.27717206, 2.28228279, 2.28739353, 2.29250426,\n",
       "       2.29761499, 2.30272572, 2.30783646, 2.31294719, 2.31805792,\n",
       "       2.32316865, 2.32827939, 2.33339012, 2.33850085, 2.34361158,\n",
       "       2.34872232, 2.35383305, 2.35894378, 2.36405451, 2.36916525,\n",
       "       2.37427598, 2.37938671, 2.38449744, 2.38960818, 2.39471891,\n",
       "       2.39982964, 2.40494037, 2.41005111, 2.41516184, 2.42027257,\n",
       "       2.4253833 , 2.43049404, 2.43560477, 2.4407155 , 2.44582624,\n",
       "       2.45093697, 2.4560477 , 2.46115843, 2.46626917, 2.4713799 ,\n",
       "       2.47649063, 2.48160136, 2.4867121 , 2.49182283, 2.49693356,\n",
       "       2.50204429, 2.50715503, 2.51226576, 2.51737649, 2.52248722,\n",
       "       2.52759796, 2.53270869, 2.53781942, 2.54293015, 2.54804089,\n",
       "       2.55315162, 2.55826235, 2.56337308, 2.56848382, 2.57359455,\n",
       "       2.57870528, 2.58381601, 2.58892675, 2.59403748, 2.59914821,\n",
       "       2.60425894, 2.60936968, 2.61448041, 2.61959114, 2.62470187,\n",
       "       2.62981261, 2.63492334, 2.64003407, 2.6451448 , 2.65025554,\n",
       "       2.65536627, 2.660477  , 2.66558773, 2.67069847, 2.6758092 ,\n",
       "       2.68091993, 2.68603066, 2.6911414 , 2.69625213, 2.70136286,\n",
       "       2.70647359, 2.71158433, 2.71669506, 2.72180579, 2.72691652,\n",
       "       2.73202726, 2.73713799, 2.74224872, 2.74735945, 2.75247019,\n",
       "       2.75758092, 2.76269165, 2.76780239, 2.77291312, 2.77802385,\n",
       "       2.78313458, 2.78824532, 2.79335605, 2.79846678, 2.80357751,\n",
       "       2.80868825, 2.81379898, 2.81890971, 2.82402044, 2.82913118,\n",
       "       2.83424191, 2.83935264, 2.84446337, 2.84957411, 2.85468484,\n",
       "       2.85979557, 2.8649063 , 2.87001704, 2.87512777, 2.8802385 ,\n",
       "       2.88534923, 2.89045997, 2.8955707 , 2.90068143, 2.90579216,\n",
       "       2.9109029 , 2.91601363, 2.92112436, 2.92623509, 2.93134583,\n",
       "       2.93645656, 2.94156729, 2.94667802, 2.95178876, 2.95689949,\n",
       "       2.96201022, 2.96712095, 2.97223169, 2.97734242, 2.98245315,\n",
       "       2.98756388, 2.99267462, 2.99778535, 3.00289608, 3.00800681,\n",
       "       3.01311755, 3.01822828, 3.02333901, 3.02844974, 3.03356048,\n",
       "       3.03867121, 3.04378194, 3.04889267, 3.05400341, 3.05911414,\n",
       "       3.06422487, 3.0693356 , 3.07444634, 3.07955707, 3.0846678 ,\n",
       "       3.08977853, 3.09488927])"
      ]
     },
     "execution_count": 4,
     "metadata": {},
     "output_type": "execute_result"
    }
   ],
   "source": [
    "sigma_list"
   ]
  },
  {
   "cell_type": "markdown",
   "metadata": {
    "collapsed": false,
    "jupyter": {
     "outputs_hidden": false
    }
   },
   "source": [
    "# Initial Estimator"
   ]
  },
  {
   "cell_type": "code",
   "execution_count": 5,
   "metadata": {},
   "outputs": [
    {
     "name": "stdout",
     "output_type": "stream",
     "text": [
      "0.007064082839608573 2.7226237298669465\n"
     ]
    }
   ],
   "source": [
    "init_model = Initial(X1, AY1, A1, K)\n",
    "init_beta, init_sigma, init_betams = init_model.init_param()\n",
    "print(norm(init_beta - beta[1:]), norm(init_sigma - sigma_list))"
   ]
  },
  {
   "cell_type": "code",
   "execution_count": 6,
   "metadata": {},
   "outputs": [
    {
     "data": {
      "image/png": "[encoded data removed]",
      "text/plain": [
       "<Figure size 432x288 with 1 Axes>"
      ]
     },
     "metadata": {
      "needs_background": "light"
     },
     "output_type": "display_data"
    }
   ],
   "source": [
    "diff_mom, diff_son = init_model.check(init_beta, init_sigma, beta[1:], sigma_list)\n",
    "plt.boxplot([diff_mom, diff_son.ravel()])\n",
    "plt.show()"
   ]
  },
  {
   "cell_type": "markdown",
   "metadata": {},
   "source": [
    "# Oracle"
   ]
  },
  {
   "cell_type": "code",
   "execution_count": 7,
   "metadata": {
    "scrolled": true
   },
   "outputs": [
    {
     "name": "stdout",
     "output_type": "stream",
     "text": [
      "######## [Step 1] ########\n",
      "norm(gradient): 2.2361060\n",
      "RMSE(beta): 0.0035080\n",
      "######## [Step 2] ########\n",
      "norm(gradient): 0.0058437\n",
      "RMSE(beta): 0.0035044\n",
      "######## [Step 3] ########\n",
      "norm(gradient): 0.0000001\n",
      "RMSE(beta): 0.0035044\n",
      "0.003205074886370248\n"
     ]
    }
   ],
   "source": [
    "oracle_model = ORACLE(X1, AY1, A1, K, init_beta, sigma_list)\n",
    "oracle_beta = oracle_model.update_alg(max_steps=5, tol=1e-5, true_beta=beta[1:])\n",
    "print(norm(oracle_beta - beta[1:].ravel()))"
   ]
  },
  {
   "cell_type": "code",
   "execution_count": 8,
   "metadata": {},
   "outputs": [
    {
     "data": {
      "image/png": "[encoded data removed]",
      "text/plain": [
       "<Figure size 432x288 with 1 Axes>"
      ]
     },
     "metadata": {
      "needs_background": "light"
     },
     "output_type": "display_data"
    }
   ],
   "source": [
    "diff_mom, diff_son = oracle_model.check(beta[1:], sigma_list)\n",
    "plt.boxplot([diff_mom, diff_son.ravel()])\n",
    "plt.show()"
   ]
  },
  {
   "cell_type": "code",
   "execution_count": 9,
   "metadata": {},
   "outputs": [
    {
     "name": "stdout",
     "output_type": "stream",
     "text": [
      "0.003205074886370248\n"
     ]
    }
   ],
   "source": [
    "print(norm(oracle_beta - beta[1:].ravel()))"
   ]
  },
  {
   "cell_type": "markdown",
   "metadata": {
    "collapsed": false,
    "jupyter": {
     "outputs_hidden": false
    }
   },
   "source": [
    "# One Step Update"
   ]
  },
  {
   "cell_type": "code",
   "execution_count": 10,
   "metadata": {
    "ExecuteTime": {
     "end_time": "2024-02-22T07:40:05.494217Z",
     "start_time": "2024-02-22T07:40:05.273226Z"
    },
    "collapsed": false,
    "jupyter": {
     "outputs_hidden": false
    },
    "scrolled": true
   },
   "outputs": [
    {
     "name": "stdout",
     "output_type": "stream",
     "text": [
      "######## [Step 1] ########\n",
      "norm(gradient): 2.6432527\n",
      "RMSE(beta): 0.0037241\n"
     ]
    }
   ],
   "source": [
    "os_model = OS(X1, AY1, A1, K, init_beta, init_sigma)\n",
    "os_beta, os_sigma = os_model.update_alg(max_steps=1, tol=1e-5, true_beta=beta[1:].ravel())"
   ]
  },
  {
   "cell_type": "code",
   "execution_count": 11,
   "metadata": {},
   "outputs": [
    {
     "name": "stdout",
     "output_type": "stream",
     "text": [
      "######## [Step 1] ########\n",
      "norm(gradient): 2.6432527\n",
      "RMSE(beta): 0.0037241\n",
      "######## [Step 2] ########\n",
      "norm(gradient): 0.2981752\n",
      "RMSE(beta): 0.0030604\n"
     ]
    }
   ],
   "source": [
    "ts_model = OS(X1, AY1, A1, K, init_beta, init_sigma)\n",
    "ts_beta, ts_sigma = ts_model.update_alg(max_steps=2, tol=1e-5, true_beta=beta[1:].ravel())"
   ]
  },
  {
   "cell_type": "code",
   "execution_count": 12,
   "metadata": {},
   "outputs": [
    {
     "data": {
      "image/png": "[encoded data removed]",
      "text/plain": [
       "<Figure size 432x288 with 1 Axes>"
      ]
     },
     "metadata": {
      "needs_background": "light"
     },
     "output_type": "display_data"
    }
   ],
   "source": [
    "diff_mom, diff_son, var = os_model.check(init_beta, init_sigma, beta[1:], sigma_list)\n",
    "plt.boxplot([diff_mom.ravel(), diff_son.ravel()])\n",
    "plt.show()"
   ]
  },
  {
   "cell_type": "markdown",
   "metadata": {
    "collapsed": false,
    "jupyter": {
     "outputs_hidden": false
    }
   },
   "source": [
    "# MLE"
   ]
  },
  {
   "cell_type": "code",
   "execution_count": 13,
   "metadata": {
    "scrolled": true
   },
   "outputs": [
    {
     "name": "stdout",
     "output_type": "stream",
     "text": [
      "######## [Step 1] ########\n",
      "norm(gradient): 2.6432527\n",
      "RMSE(beta): 0.0037241\n",
      "######## [Step 2] ########\n",
      "norm(gradient): 0.2981752\n",
      "RMSE(beta): 0.0030604\n",
      "######## [Step 3] ########\n",
      "norm(gradient): 0.0733066\n",
      "RMSE(beta): 0.0030135\n",
      "######## [Step 4] ########\n",
      "norm(gradient): 0.0130404\n",
      "RMSE(beta): 0.0029984\n",
      "######## [Step 5] ########\n",
      "norm(gradient): 0.0044986\n",
      "RMSE(beta): 0.0029970\n",
      "######## [Step 6] ########\n",
      "norm(gradient): 0.0004877\n",
      "RMSE(beta): 0.0029964\n",
      "######## [Step 7] ########\n",
      "norm(gradient): 0.0001655\n",
      "RMSE(beta): 0.0029964\n",
      "######## [Step 8] ########\n",
      "norm(gradient): 0.0000175\n",
      "RMSE(beta): 0.0029963\n"
     ]
    }
   ],
   "source": [
    "mle_model = OS(X1, AY1, A1, K, init_beta, init_sigma)\n",
    "# mle_beta, mle_sigma = mle_model.NR_alg(max_updates=3, max_steps=5, tol=1e-5, sig=0.1, lbd=0.1, rho=2, \n",
    "#                                         true_beta=beta[1:].ravel())\n",
    "mle_beta, mle_sigma = mle_model.update_alg(max_steps=20, tol=1e-5, true_beta=beta[1:].ravel())"
   ]
  },
  {
   "cell_type": "code",
   "execution_count": 14,
   "metadata": {},
   "outputs": [
    {
     "name": "stdout",
     "output_type": "stream",
     "text": [
      "0.0029963479976241277 2.1513630671076354\n",
      "0.0029963479976241277 2.1513630671076354\n"
     ]
    }
   ],
   "source": [
    "print(norm(mle_beta - beta[1:].ravel()), norm(mle_sigma - sigma_list))"
   ]
  },
  {
   "cell_type": "markdown",
   "metadata": {
    "collapsed": false,
    "jupyter": {
     "outputs_hidden": false
    }
   },
   "source": [
    "# Compare"
   ]
  },
  {
   "cell_type": "code",
   "execution_count": 15,
   "metadata": {},
   "outputs": [],
   "source": [
    "def compute_rmse(est, true):\n",
    "    est = est.ravel()\n",
    "    true = true.ravel()\n",
    "    return norm(est - true)"
   ]
  },
  {
   "cell_type": "code",
   "execution_count": 16,
   "metadata": {
    "ExecuteTime": {
     "end_time": "2024-02-22T07:40:26.939505Z",
     "start_time": "2024-02-22T07:40:26.935164Z"
    },
    "collapsed": false,
    "jupyter": {
     "outputs_hidden": false
    }
   },
   "outputs": [],
   "source": [
    "B = 100\n",
    "RMSE_results = []\n",
    "NAME_results = []"
   ]
  },
  {
   "cell_type": "code",
   "execution_count": null,
   "metadata": {
    "scrolled": true
   },
   "outputs": [
    {
     "name": "stdout",
     "output_type": "stream",
     "text": [
      "True Labels 1    39315\n",
      "0    33292\n",
      "2    27393\n",
      "dtype: int64 \n",
      "\n",
      "\n",
      "########## Initial Estimator ##########\n"
     ]
    }
   ],
   "source": [
    "for seed in range(B):\n",
    "    RMSE_list = [seed, n, alpha, M]\n",
    "    NAME_list = [\"seed\", \"n\", \"alpha\", \"M\"]\n",
    "    np.random.seed(seed)\n",
    "    beta, sigma_list, theta, X, Y, X1, X2, Y1, Y2, A1, AY1 = generate_data(K, p, N, n, M, alpha, seed=seed)\n",
    "\n",
    "    # Initial Estimator\n",
    "    print(f\"\\n########## Initial Estimator ##########\")\n",
    "    init_model = Initial(X1, AY1, A1, K)\n",
    "    init_beta, init_sigma, init_betams = init_model.init_param()\n",
    "    init_beta_rmse = compute_rmse(init_beta, beta[1:])\n",
    "    init_sigma_rmse = compute_rmse(init_sigma, sigma_list)\n",
    "    print(init_beta_rmse, init_sigma_rmse)\n",
    "    RMSE_list += [init_beta_rmse, init_sigma_rmse]\n",
    "    NAME_list += [\"init_beta\", \"init_sigma\"]\n",
    "    \n",
    "    # OS (One-Step) Estimator \n",
    "    print(f\"\\n########## OS Estimator ##########\")\n",
    "    os_model = OS(X1, AY1, A1, K, init_beta, init_sigma)\n",
    "    os_beta, os_sigma = os_model.update_alg(max_steps=1, tol=1e-5, true_beta=beta[1:].ravel())\n",
    "    os_beta_rmse = compute_rmse(os_beta, beta[1:])\n",
    "    os_sigma_rmse = compute_rmse(os_sigma, sigma_list)\n",
    "    print(os_beta_rmse, os_sigma_rmse)\n",
    "    RMSE_list += [os_beta_rmse, os_sigma_rmse]\n",
    "    NAME_list += [\"os_beta\", \"os_sigma\"]\n",
    "\n",
    "    # TS\n",
    "    print(f\"\\n########## MLE(NR) Estimator ##########\")\n",
    "    ts_model = OS(X1, AY1, A1, K, init_beta, init_sigma)\n",
    "    ts_beta, ts_sigma = ts_model.update_alg(max_steps=2, tol=1e-5, true_beta=beta[1:].ravel())\n",
    "    ts_beta_rmse = compute_rmse(ts_beta, beta[1:])\n",
    "    ts_sigma_rmse = compute_rmse(ts_sigma, sigma_list)\n",
    "    print(ts_beta_rmse, ts_sigma_rmse)\n",
    "    RMSE_list += [ts_beta_rmse, ts_sigma_rmse]\n",
    "    NAME_list += [\"ts_beta\", \"ts_sigma\"]\n",
    "    \n",
    "    # Oracle\n",
    "    print(f\"\\n########## ORACLE Estimator ##########\")\n",
    "    oracle_model = ORACLE(X1, AY1, A1, K, init_beta, sigma_list)\n",
    "    oracle_beta = oracle_model.update_alg(max_steps=5, tol=1e-5, true_beta=beta[1:])\n",
    "    oracle_beta_rmse = compute_rmse(oracle_beta, beta[1:])\n",
    "    print(oracle_beta_rmse)\n",
    "    RMSE_list.append(oracle_beta_rmse)\n",
    "    NAME_list.append(\"oracle_beta\")\n",
    "\n",
    "    # Record Results\n",
    "    RMSE_results.append(RMSE_list)\n",
    "    a = pd.DataFrame(RMSE_results, columns=NAME_list)\n",
    "    a.to_csv(f\"/Users/helenology/Desktop/[M={M}]rmse_data.csv\")"
   ]
  },
  {
   "cell_type": "code",
   "execution_count": null,
   "metadata": {},
   "outputs": [],
   "source": []
  }
 ],
 "metadata": {
  "kernelspec": {
   "display_name": "Python 3 (ipykernel)",
   "language": "python",
   "name": "python3"
  },
  "language_info": {
   "codemirror_mode": {
    "name": "ipython",
    "version": 3
   },
   "file_extension": ".py",
   "mimetype": "text/x-python",
   "name": "python",
   "nbconvert_exporter": "python",
   "pygments_lexer": "ipython3",
   "version": "3.9.7"
  }
 },
 "nbformat": 4,
 "nbformat_minor": 4
}
