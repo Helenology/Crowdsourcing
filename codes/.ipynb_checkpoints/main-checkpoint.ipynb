{
 "cells": [
  {
   "cell_type": "code",
   "execution_count": 1,
   "metadata": {
    "ExecuteTime": {
     "end_time": "2024-06-09T13:07:29.853536Z",
     "start_time": "2024-06-09T13:07:29.847323Z"
    }
   },
   "outputs": [
    {
     "name": "stderr",
     "output_type": "stream",
     "text": [
      "/opt/anaconda3/lib/python3.9/site-packages/scipy/__init__.py:146: UserWarning: A NumPy version >=1.16.5 and <1.23.0 is required for this version of SciPy (detected version 1.24.3\n",
      "  warnings.warn(f\"A NumPy version >={np_minversion} and <{np_maxversion}\"\n"
     ]
    }
   ],
   "source": [
    "# basic (built-in) Python packages\n",
    "import numpy as np\n",
    "from numpy.linalg import norm\n",
    "import pandas as pd\n",
    "import matplotlib.pyplot as plt\n",
    "\n",
    "# advanced (built-in) Python packages\n",
    "from sklearn.model_selection import train_test_split\n",
    "from sklearn.linear_model import LogisticRegression\n",
    "from scipy.optimize import minimize\n",
    "\n",
    "# my implemented Python functions and classes\n",
    "from data.generate_data import generate_data\n",
    "from model.BaseModel import BaseModel\n",
    "from model.Initial import Initial\n",
    "# from model.MLE import MLE\n",
    "from model.OS import OS\n",
    "from model.MS import MS\n",
    "from model.ORACLE_beta import ORACLE_beta\n",
    "from model.ORACLE_sigma import ORACLE_sigma"
   ]
  },
  {
   "cell_type": "code",
   "execution_count": 2,
   "metadata": {},
   "outputs": [],
   "source": [
    "def compute_rmse(est, true):\n",
    "    est = est.ravel()\n",
    "    true = true.ravel()\n",
    "    length = len(est)\n",
    "    rmse = norm(est - true) / np.sqrt(length)\n",
    "    return rmse"
   ]
  },
  {
   "cell_type": "markdown",
   "metadata": {
    "ExecuteTime": {
     "end_time": "2024-06-09T13:08:21.298583Z",
     "start_time": "2024-06-09T13:08:21.224257Z"
    },
    "collapsed": false,
    "jupyter": {
     "outputs_hidden": false
    }
   },
   "source": [
    "# Hyperparameters"
   ]
  },
  {
   "cell_type": "code",
   "execution_count": 3,
   "metadata": {
    "ExecuteTime": {
     "end_time": "2024-06-09T13:08:20.241157Z",
     "start_time": "2024-06-09T13:08:20.145109Z"
    },
    "collapsed": false,
    "jupyter": {
     "outputs_hidden": false
    }
   },
   "outputs": [
    {
     "name": "stdout",
     "output_type": "stream",
     "text": [
      "alpha=1.0000\n",
      "[n*alpha=2500/N=5000]\n",
      "[M=159] vs [n*alpha=2500]\n"
     ]
    }
   ],
   "source": [
    "seed = 1\n",
    "np.random.seed(seed=seed)\n",
    "\n",
    "N = 5000        # the size of the unlabeled dataset\n",
    "r = 0.5\n",
    "n = int(N * r)            # pilot sample size\n",
    "alpha = 1 # n**(-0.1)  \n",
    "print(f\"alpha={alpha:.4f}\")\n",
    "\n",
    "p = 20          # feature dimension\n",
    "K = 2           # (K+1) classes\n",
    "M = int(0.5 * int(n / np.log(n)))          # the size of the annotator pool #int(n / np.log(n))\n",
    "print(f\"[n*alpha={int(n*alpha)}/N={N}]\")\n",
    "print(f\"[M={M}] vs [n*alpha={int(n*alpha)}]\")"
   ]
  },
  {
   "cell_type": "markdown",
   "metadata": {},
   "source": [
    "# Data Generation"
   ]
  },
  {
   "cell_type": "code",
   "execution_count": 6,
   "metadata": {},
   "outputs": [
    {
     "name": "stdout",
     "output_type": "stream",
     "text": [
      "True Labels 2    1836\n",
      "1    1619\n",
      "0    1545\n",
      "dtype: int64 \n",
      "\n"
     ]
    }
   ],
   "source": [
    "beta, sigma, theta, X, Y, X1, X2, Y1, Y2, A1, AY1 = generate_data(K, p, N, n, M, alpha, seed=0)"
   ]
  },
  {
   "cell_type": "code",
   "execution_count": 7,
   "metadata": {
    "scrolled": true
   },
   "outputs": [
    {
     "data": {
      "text/plain": [
       "array([0.25, 0.25, 0.25, 0.25, 0.25, 0.25, 0.25, 0.25, 0.25, 0.25, 0.25,\n",
       "       0.25, 0.25, 0.25, 0.25, 0.25, 0.25, 0.25, 0.25, 0.25, 0.25, 0.25,\n",
       "       0.25, 0.25, 0.25, 0.25, 0.25, 0.25, 0.25, 0.25, 0.25, 0.25, 0.25,\n",
       "       0.25, 0.25, 0.25, 0.25, 0.25, 0.25, 0.25, 0.25, 0.25, 0.25, 0.25,\n",
       "       0.25, 0.25, 0.25, 0.25, 0.25, 0.25, 0.25, 0.25, 0.25, 0.25, 0.25,\n",
       "       0.25, 0.25, 0.25, 0.25, 0.25, 0.25, 0.25, 0.25, 0.25, 0.25, 0.25,\n",
       "       0.25, 0.25, 0.25, 0.25, 0.25, 0.25, 0.25, 0.25, 0.25, 0.25, 0.25,\n",
       "       0.25, 0.25, 4.  , 4.  , 4.  , 4.  , 4.  , 4.  , 4.  , 4.  , 4.  ,\n",
       "       4.  , 4.  , 4.  , 4.  , 4.  , 4.  , 4.  , 4.  , 4.  , 4.  , 4.  ,\n",
       "       4.  , 4.  , 4.  , 4.  , 4.  , 4.  , 4.  , 4.  , 4.  , 4.  , 4.  ,\n",
       "       4.  , 4.  , 4.  , 4.  , 4.  , 4.  , 4.  , 4.  , 4.  , 4.  , 4.  ,\n",
       "       4.  , 4.  , 4.  , 4.  , 4.  , 4.  , 4.  , 4.  , 4.  , 4.  , 4.  ,\n",
       "       4.  , 4.  , 4.  , 4.  , 4.  , 4.  , 4.  , 4.  , 4.  , 4.  , 4.  ,\n",
       "       4.  , 4.  , 4.  , 4.  , 4.  , 4.  , 4.  , 4.  , 4.  , 4.  , 4.  ,\n",
       "       4.  , 4.  , 4.  , 4.  , 4.  ])"
      ]
     },
     "execution_count": 7,
     "metadata": {},
     "output_type": "execute_result"
    }
   ],
   "source": [
    "sigma"
   ]
  },
  {
   "cell_type": "markdown",
   "metadata": {
    "collapsed": false,
    "jupyter": {
     "outputs_hidden": false
    }
   },
   "source": [
    "# Initial Estimator"
   ]
  },
  {
   "cell_type": "code",
   "execution_count": 8,
   "metadata": {},
   "outputs": [],
   "source": [
    "init_model = Initial(X1, AY1, A1, K)\n",
    "init_beta, init_sigma, init_betams = init_model.init_param()"
   ]
  },
  {
   "cell_type": "code",
   "execution_count": 9,
   "metadata": {},
   "outputs": [
    {
     "name": "stdout",
     "output_type": "stream",
     "text": [
      "Init beta:  0.0047335\n",
      "Init sigma: 0.4963081\n"
     ]
    }
   ],
   "source": [
    "init_beta_rmse = compute_rmse(init_beta, beta[1:])\n",
    "init_sigma_rmse = compute_rmse(init_sigma, sigma)\n",
    "print(f\"Init beta:  {init_beta_rmse:.7f}\")\n",
    "print(f\"Init sigma: {init_sigma_rmse:.7f}\")"
   ]
  },
  {
   "cell_type": "code",
   "execution_count": 10,
   "metadata": {},
   "outputs": [],
   "source": [
    "# diff_mom, diff_son = init_model.check(init_beta, init_sigma, beta[1:], sigma)\n",
    "# plt.boxplot([diff_mom, diff_son.ravel()])\n",
    "# plt.show()"
   ]
  },
  {
   "cell_type": "markdown",
   "metadata": {},
   "source": [
    "# Oracle_beta"
   ]
  },
  {
   "cell_type": "code",
   "execution_count": 11,
   "metadata": {
    "scrolled": true
   },
   "outputs": [
    {
     "name": "stdout",
     "output_type": "stream",
     "text": [
      "######## [Step 1] ########\n",
      "norm(gradient): 9.2086297\n",
      "RMSE(beta): 0.0097362\n",
      "######## [Step 2] ########\n",
      "norm(gradient): 0.1784264\n",
      "RMSE(beta): 0.0077418\n",
      "######## [Step 3] ########\n",
      "norm(gradient): 0.0006958\n",
      "RMSE(beta): 0.0077368\n",
      "######## [Step 4] ########\n",
      "norm(gradient): 0.0000000\n",
      "RMSE(beta): 0.0077368\n"
     ]
    }
   ],
   "source": [
    "orab_model = ORACLE_beta(X1, AY1, A1, K, init_beta, sigma)\n",
    "oracle_beta = orab_model.update_alg(max_steps=5, tol=1e-5, true_beta=beta[1:])"
   ]
  },
  {
   "cell_type": "code",
   "execution_count": 12,
   "metadata": {},
   "outputs": [
    {
     "name": "stdout",
     "output_type": "stream",
     "text": [
      "Oracle beta: 0.0011830\n"
     ]
    }
   ],
   "source": [
    "oracle_beta_rmse = compute_rmse(oracle_beta, beta[1:])\n",
    "print(f\"Oracle beta: {oracle_beta_rmse:.7f}\")"
   ]
  },
  {
   "cell_type": "code",
   "execution_count": 13,
   "metadata": {
    "scrolled": true
   },
   "outputs": [],
   "source": [
    "# diff_mom, diff_son = orabeta_model.check(beta[1:], sigma)\n",
    "# plt.boxplot([diff_mom, diff_son.ravel()])\n",
    "# plt.show()"
   ]
  },
  {
   "cell_type": "markdown",
   "metadata": {},
   "source": [
    "# Oracle_sigma"
   ]
  },
  {
   "cell_type": "code",
   "execution_count": 14,
   "metadata": {
    "scrolled": true
   },
   "outputs": [
    {
     "name": "stdout",
     "output_type": "stream",
     "text": [
      "######## [Step 1] ########\n",
      "norm(sigma): 0.2506866\n",
      "RMSE(sigma): 3.2447190\n",
      "######## [Step 2] ########\n",
      "norm(sigma): 0.0191161\n",
      "RMSE(sigma): 2.8736129\n",
      "######## [Step 3] ########\n",
      "norm(sigma): 0.0026310\n",
      "RMSE(sigma): 3.1564271\n",
      "######## [Step 4] ########\n",
      "norm(sigma): 0.0004343\n",
      "RMSE(sigma): 3.2201256\n",
      "######## [Step 5] ########\n",
      "norm(sigma): 0.0000378\n",
      "RMSE(sigma): 3.2239692\n"
     ]
    }
   ],
   "source": [
    "oras_model = ORACLE_sigma(X1, AY1, A1, K, beta[1:], init_sigma)\n",
    "oracle_sigma = oras_model.update_alg(max_steps=5, tol=1e-5, true_sigma=sigma)"
   ]
  },
  {
   "cell_type": "code",
   "execution_count": 15,
   "metadata": {},
   "outputs": [
    {
     "name": "stdout",
     "output_type": "stream",
     "text": [
      "Oracle sigma: 0.2556774\n"
     ]
    }
   ],
   "source": [
    "oracle_sigma_rmse = compute_rmse(oracle_sigma, sigma)\n",
    "print(f\"Oracle sigma: {oracle_sigma_rmse:.7f}\")"
   ]
  },
  {
   "cell_type": "markdown",
   "metadata": {
    "collapsed": false,
    "jupyter": {
     "outputs_hidden": false
    }
   },
   "source": [
    "# One Step Update"
   ]
  },
  {
   "cell_type": "code",
   "execution_count": 16,
   "metadata": {
    "ExecuteTime": {
     "end_time": "2024-02-22T07:40:05.494217Z",
     "start_time": "2024-02-22T07:40:05.273226Z"
    },
    "collapsed": false,
    "jupyter": {
     "outputs_hidden": false
    },
    "scrolled": true
   },
   "outputs": [
    {
     "name": "stdout",
     "output_type": "stream",
     "text": [
      "######## [Step 1] ########\n",
      "norm(gradient): 9.5126286\n",
      "RMSE(beta): 0.0106983\n"
     ]
    }
   ],
   "source": [
    "os_model = OS(X1, AY1, A1, K, init_beta, init_sigma)\n",
    "os_beta, os_sigma = os_model.update_alg(max_steps=1, tol=1e-5, true_beta=beta[1:].ravel())"
   ]
  },
  {
   "cell_type": "code",
   "execution_count": 17,
   "metadata": {},
   "outputs": [
    {
     "name": "stdout",
     "output_type": "stream",
     "text": [
      "######## [Step 1] ########\n",
      "norm(gradient): 9.5126286\n",
      "RMSE(beta): 0.0106983\n",
      "######## [Step 2] ########\n",
      "norm(gradient): 0.6074415\n",
      "RMSE(beta): 0.0077688\n"
     ]
    }
   ],
   "source": [
    "ts_model = MS(X1, AY1, A1, K, init_beta, init_sigma)\n",
    "ts_beta, ts_sigma = ts_model.update_alg(max_steps=2, tol=1e-5, true_beta=beta[1:].ravel())"
   ]
  },
  {
   "cell_type": "code",
   "execution_count": 18,
   "metadata": {},
   "outputs": [
    {
     "name": "stdout",
     "output_type": "stream",
     "text": [
      "######## [Step 1] ########\n",
      "norm(gradient): 9.5126286\n",
      "RMSE(beta): 0.0106983\n",
      "######## [Step 2] ########\n",
      "norm(gradient): 0.6074415\n",
      "RMSE(beta): 0.0077688\n",
      "######## [Step 3] ########\n",
      "norm(gradient): 0.1779662\n",
      "RMSE(beta): 0.0077871\n"
     ]
    }
   ],
   "source": [
    "ms_model = MS(X1, AY1, A1, K, init_beta, init_sigma)\n",
    "ms_beta, ms_sigma = ms_model.update_alg(max_steps=3, tol=1e-5, true_beta=beta[1:].ravel())"
   ]
  },
  {
   "cell_type": "code",
   "execution_count": 19,
   "metadata": {},
   "outputs": [
    {
     "name": "stdout",
     "output_type": "stream",
     "text": [
      "OS Est: beta 0.0016916\n",
      "OS Est: sigma 0.2556219\n"
     ]
    }
   ],
   "source": [
    "os_beta_rmse = compute_rmse(os_beta, beta[1:])\n",
    "os_sigma_rmse = compute_rmse(os_sigma, sigma)\n",
    "print(f\"OS Est: beta {os_beta_rmse:.7f}\")\n",
    "print(f\"OS Est: sigma {os_sigma_rmse:.7f}\")"
   ]
  },
  {
   "cell_type": "code",
   "execution_count": 20,
   "metadata": {},
   "outputs": [
    {
     "name": "stdout",
     "output_type": "stream",
     "text": [
      "TS Est: beta 0.0012284\n",
      "TS Est: sigma 0.2556219\n"
     ]
    }
   ],
   "source": [
    "ts_beta_rmse = compute_rmse(ts_beta, beta[1:])\n",
    "ts_sigma_rmse = compute_rmse(ts_sigma, sigma)\n",
    "print(f\"TS Est: beta {ts_beta_rmse:.7f}\")\n",
    "print(f\"TS Est: sigma {ts_sigma_rmse:.7f}\")"
   ]
  },
  {
   "cell_type": "code",
   "execution_count": 21,
   "metadata": {},
   "outputs": [
    {
     "name": "stdout",
     "output_type": "stream",
     "text": [
      "MS Est: beta 0.0012313\n",
      "MS Est: sigma 0.2556219\n"
     ]
    }
   ],
   "source": [
    "ms_beta_rmse = compute_rmse(ms_beta, beta[1:])\n",
    "ms_sigma_rmse = compute_rmse(ms_sigma, sigma)\n",
    "print(f\"MS Est: beta {ms_beta_rmse:.7f}\")\n",
    "print(f\"MS Est: sigma {ms_sigma_rmse:.7f}\")"
   ]
  },
  {
   "cell_type": "code",
   "execution_count": 22,
   "metadata": {},
   "outputs": [],
   "source": [
    "# diff_mom, diff_son, var = os_model.check(init_beta, init_sigma, beta[1:], sigma)\n",
    "# plt.boxplot([diff_mom.ravel(), diff_son.ravel()])\n",
    "# plt.show()"
   ]
  },
  {
   "cell_type": "markdown",
   "metadata": {},
   "source": [
    "- results compare:"
   ]
  },
  {
   "cell_type": "code",
   "execution_count": 23,
   "metadata": {},
   "outputs": [
    {
     "name": "stdout",
     "output_type": "stream",
     "text": [
      "Init beta: 0.0047335\n",
      "Ora  beta: 0.0011830\n",
      "OS   beta: 0.0016916\n",
      "TS   beta: 0.0012284\n",
      "MS   beta: 0.0012313\n",
      "Init sigma: 0.4963081\n",
      "Ora  sigma: 0.2556774\n",
      "OS   sigma: 0.2556219\n",
      "TS   sigma: 0.2556219\n",
      "MS   sigma: 0.2556219\n"
     ]
    }
   ],
   "source": [
    "# beta\n",
    "print(f\"Init beta: {init_beta_rmse:.7f}\")\n",
    "print(f\"Ora  beta: {oracle_beta_rmse:.7f}\")\n",
    "print(f\"OS   beta: {os_beta_rmse:.7f}\")\n",
    "print(f\"TS   beta: {ts_beta_rmse:.7f}\")\n",
    "print(f\"MS   beta: {ms_beta_rmse:.7f}\")\n",
    "\n",
    "# sigma\n",
    "print(f\"Init sigma: {init_sigma_rmse:.7f}\")\n",
    "print(f\"Ora  sigma: {oracle_sigma_rmse:.7f}\")\n",
    "print(f\"OS   sigma: {os_sigma_rmse:.7f}\")\n",
    "print(f\"TS   sigma: {ts_sigma_rmse:.7f}\")\n",
    "print(f\"MS   sigma: {ms_sigma_rmse:.7f}\")"
   ]
  },
  {
   "cell_type": "markdown",
   "metadata": {
    "collapsed": false,
    "jupyter": {
     "outputs_hidden": false
    }
   },
   "source": [
    "# Compare"
   ]
  },
  {
   "cell_type": "code",
   "execution_count": 21,
   "metadata": {},
   "outputs": [],
   "source": [
    "# N = 10000                        # the size of the unlabeled dataset\n",
    "p = 20                           # feature dimension\n",
    "K = 2                            # (K+1) classes\n",
    "r = 0.5"
   ]
  },
  {
   "cell_type": "code",
   "execution_count": 22,
   "metadata": {
    "ExecuteTime": {
     "end_time": "2024-02-22T07:40:26.939505Z",
     "start_time": "2024-02-22T07:40:26.935164Z"
    },
    "collapsed": false,
    "jupyter": {
     "outputs_hidden": false
    }
   },
   "outputs": [],
   "source": [
    "B = 100\n",
    "RMSE_results = []\n",
    "NAME_results = []"
   ]
  },
  {
   "cell_type": "code",
   "execution_count": 23,
   "metadata": {},
   "outputs": [],
   "source": [
    "alpha_list = [0.5, 1.0]\n",
    "N_list = [5000, 10000, 15000]"
   ]
  },
  {
   "cell_type": "code",
   "execution_count": null,
   "metadata": {
    "scrolled": true
   },
   "outputs": [
    {
     "name": "stdout",
     "output_type": "stream",
     "text": [
      "[n*alpha=1250/N=5000]\n",
      "[M=159] vs [n*alpha=1250]\n",
      "True Labels 2    1836\n",
      "1    1619\n",
      "0    1545\n",
      "dtype: int64 \n",
      "\n",
      "\n",
      "########## Initial Estimator ##########\n"
     ]
    }
   ],
   "source": [
    "for N in N_list:\n",
    "    n = int(N * r)                 # pilot sample size\n",
    "    M = int(0.5 * n / np.log(n))   # the size of the annotator pool\n",
    "    for alpha in alpha_list:\n",
    "        print(f\"[n*alpha={int(n*alpha)}/N={N}]\")\n",
    "        print(f\"[M={M}] vs [n*alpha={int(n*alpha)}]\")\n",
    "        for seed in range(B):\n",
    "            RMSE_list = [seed, n, alpha, M]\n",
    "            NAME_list = [\"seed\", \"n\", \"alpha\", \"M\"]\n",
    "            np.random.seed(seed)\n",
    "            beta, sigma, theta, X, Y, X1, X2, Y1, Y2, A1, AY1 = generate_data(K, p, N, n, M, alpha, seed=seed)\n",
    "        \n",
    "            # Initial Estimator\n",
    "            print(f\"\\n########## Initial Estimator ##########\")\n",
    "            init_model = Initial(X1, AY1, A1, K)\n",
    "            init_beta, init_sigma, init_betams = init_model.init_param()\n",
    "            init_beta_rmse = compute_rmse(init_beta, beta[1:])\n",
    "            init_sigma_rmse = compute_rmse(init_sigma, sigma)\n",
    "            RMSE_list += [init_beta_rmse, init_sigma_rmse]\n",
    "            NAME_list += [\"init_beta\", \"init_sigma\"]\n",
    "            \n",
    "            # OS (One-Step) Estimator \n",
    "            print(f\"\\n########## OS Estimator ##########\")\n",
    "            os_model = OS(X1, AY1, A1, K, init_beta, init_sigma)\n",
    "            os_beta, os_sigma = os_model.update_alg(max_steps=1, tol=1e-5, true_beta=beta[1:].ravel())\n",
    "            os_beta_rmse = compute_rmse(os_beta, beta[1:])\n",
    "            os_sigma_rmse = compute_rmse(os_sigma, sigma)\n",
    "            RMSE_list += [os_beta_rmse, os_sigma_rmse]\n",
    "            NAME_list += [\"os_beta\", \"os_sigma\"]\n",
    "        \n",
    "            # TS\n",
    "            print(f\"\\n########## TS Estimator ##########\")\n",
    "            ts_model = MS(X1, AY1, A1, K, init_beta, init_sigma)\n",
    "            ts_beta, ts_sigma = ts_model.update_alg(max_steps=2, tol=1e-5, true_beta=beta[1:].ravel())\n",
    "            ts_beta_rmse = compute_rmse(ts_beta, beta[1:])\n",
    "            ts_sigma_rmse = compute_rmse(ts_sigma, sigma)\n",
    "            RMSE_list += [ts_beta_rmse, ts_sigma_rmse]\n",
    "            NAME_list += [\"ts_beta\", \"ts_sigma\"]\n",
    "        \n",
    "            # MS\n",
    "            print(f\"\\n########## MS Estimator ##########\")\n",
    "            ms_model = MS(X1, AY1, A1, K, init_beta, init_sigma)\n",
    "            ms_beta, ms_sigma = ms_model.update_alg(max_steps=3, tol=1e-5, true_beta=beta[1:].ravel())\n",
    "            ms_beta_rmse = compute_rmse(ms_beta, beta[1:])\n",
    "            ms_sigma_rmse = compute_rmse(ms_sigma, sigma)\n",
    "            RMSE_list += [ms_beta_rmse, ms_sigma_rmse]\n",
    "            NAME_list += [\"ms_beta\", \"ms_sigma\"]\n",
    "        \n",
    "            # Oracle_beta\n",
    "            print(f\"\\n########## ORACLE_beta Estimator ##########\")\n",
    "            oracle_model = ORACLE_beta(X1, AY1, A1, K, init_beta, sigma)\n",
    "            oracle_beta = oracle_model.update_alg(max_steps=5, tol=1e-5, true_beta=beta[1:])\n",
    "            oracle_beta_rmse = compute_rmse(oracle_beta, beta[1:])\n",
    "            oracle_model = ORACLE_sigma(X1, AY1, A1, K, beta[1:], init_sigma)\n",
    "            oracle_sigma = oracle_model.update_alg(max_steps=5, tol=1e-5, true_sigma=sigma)\n",
    "            oracle_sigma_rmse = compute_rmse(oracle_sigma, sigma)\n",
    "            RMSE_list += [oracle_beta_rmse, oracle_sigma_rmse]\n",
    "            NAME_list += [\"oracle_beta\", \"oracle_sigma\"]\n",
    "        \n",
    "            # Print Results\n",
    "            # beta\n",
    "            print()\n",
    "            print(f\"Init beta: {init_beta_rmse:.7f}\")\n",
    "            print(f\"Ora  beta: {oracle_beta_rmse:.7f}\")\n",
    "            print(f\"OS   beta: {os_beta_rmse:.7f}\")\n",
    "            print(f\"TS   beta: {ts_beta_rmse:.7f}\")\n",
    "            print(f\"MS   beta: {ms_beta_rmse:.7f}\")\n",
    "            print()\n",
    "            # sigma\n",
    "            print(f\"Init sigma: {init_sigma_rmse:.7f}\")\n",
    "            print(f\"Ora  sigma: {oracle_sigma_rmse:.7f}\")\n",
    "            print(f\"OS   sigma: {os_sigma_rmse:.7f}\")\n",
    "            print(f\"TS   sigma: {ts_sigma_rmse:.7f}\")\n",
    "            print(f\"MS   sigma: {ms_sigma_rmse:.7f}\")\n",
    "        \n",
    "            # Record Results\n",
    "            RMSE_results.append(RMSE_list)\n",
    "            a = pd.DataFrame(RMSE_results, columns=NAME_list)\n",
    "            a.to_csv(f\"/Users/helenology/Desktop/rmse_data.csv\")"
   ]
  },
  {
   "cell_type": "code",
   "execution_count": null,
   "metadata": {},
   "outputs": [],
   "source": []
  },
  {
   "cell_type": "code",
   "execution_count": null,
   "metadata": {},
   "outputs": [],
   "source": []
  }
 ],
 "metadata": {
  "kernelspec": {
   "display_name": "Python 3 (ipykernel)",
   "language": "python",
   "name": "python3"
  },
  "language_info": {
   "codemirror_mode": {
    "name": "ipython",
    "version": 3
   },
   "file_extension": ".py",
   "mimetype": "text/x-python",
   "name": "python",
   "nbconvert_exporter": "python",
   "pygments_lexer": "ipython3",
   "version": "3.9.7"
  }
 },
 "nbformat": 4,
 "nbformat_minor": 4
}
