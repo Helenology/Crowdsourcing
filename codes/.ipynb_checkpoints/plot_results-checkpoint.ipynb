{
 "cells": [
  {
   "cell_type": "code",
   "execution_count": 1,
   "id": "f2c3dbc4-c8ff-4d06-85e4-0cc2dd3f0779",
   "metadata": {},
   "outputs": [],
   "source": [
    "import pandas as pd\n",
    "import matplotlib.pyplot as plt\n",
    "import numpy as np"
   ]
  },
  {
   "cell_type": "code",
   "execution_count": 2,
   "id": "85b0f4c0-1404-4061-8dd9-dd0780ec984e",
   "metadata": {},
   "outputs": [
    {
     "data": {
      "text/html": [
       "<div>\n",
       "<style scoped>\n",
       "    .dataframe tbody tr th:only-of-type {\n",
       "        vertical-align: middle;\n",
       "    }\n",
       "\n",
       "    .dataframe tbody tr th {\n",
       "        vertical-align: top;\n",
       "    }\n",
       "\n",
       "    .dataframe thead th {\n",
       "        text-align: right;\n",
       "    }\n",
       "</style>\n",
       "<table border=\"1\" class=\"dataframe\">\n",
       "  <thead>\n",
       "    <tr style=\"text-align: right;\">\n",
       "      <th></th>\n",
       "      <th>Unnamed: 0</th>\n",
       "      <th>seed</th>\n",
       "      <th>n</th>\n",
       "      <th>alpha</th>\n",
       "      <th>M</th>\n",
       "      <th>init_beta</th>\n",
       "      <th>init_sigma</th>\n",
       "      <th>os_beta</th>\n",
       "      <th>os_sigma</th>\n",
       "      <th>ts_beta</th>\n",
       "      <th>ts_sigma</th>\n",
       "      <th>oracle_beta</th>\n",
       "    </tr>\n",
       "  </thead>\n",
       "  <tbody>\n",
       "    <tr>\n",
       "      <th>0</th>\n",
       "      <td>0</td>\n",
       "      <td>0</td>\n",
       "      <td>1000</td>\n",
       "      <td>1</td>\n",
       "      <td>144</td>\n",
       "      <td>0.028428</td>\n",
       "      <td>2.873892</td>\n",
       "      <td>0.016522</td>\n",
       "      <td>2.073503</td>\n",
       "      <td>0.013828</td>\n",
       "      <td>2.222284</td>\n",
       "      <td>0.013688</td>\n",
       "    </tr>\n",
       "    <tr>\n",
       "      <th>1</th>\n",
       "      <td>1</td>\n",
       "      <td>1</td>\n",
       "      <td>1000</td>\n",
       "      <td>1</td>\n",
       "      <td>144</td>\n",
       "      <td>0.037596</td>\n",
       "      <td>3.162615</td>\n",
       "      <td>0.012312</td>\n",
       "      <td>2.186083</td>\n",
       "      <td>0.014434</td>\n",
       "      <td>2.088722</td>\n",
       "      <td>0.014948</td>\n",
       "    </tr>\n",
       "    <tr>\n",
       "      <th>2</th>\n",
       "      <td>2</td>\n",
       "      <td>2</td>\n",
       "      <td>1000</td>\n",
       "      <td>1</td>\n",
       "      <td>144</td>\n",
       "      <td>0.038061</td>\n",
       "      <td>2.745850</td>\n",
       "      <td>0.019412</td>\n",
       "      <td>1.807195</td>\n",
       "      <td>0.019320</td>\n",
       "      <td>1.910945</td>\n",
       "      <td>0.020895</td>\n",
       "    </tr>\n",
       "    <tr>\n",
       "      <th>3</th>\n",
       "      <td>3</td>\n",
       "      <td>3</td>\n",
       "      <td>1000</td>\n",
       "      <td>1</td>\n",
       "      <td>144</td>\n",
       "      <td>0.022359</td>\n",
       "      <td>3.277664</td>\n",
       "      <td>0.012366</td>\n",
       "      <td>2.280349</td>\n",
       "      <td>0.011768</td>\n",
       "      <td>2.073359</td>\n",
       "      <td>0.011649</td>\n",
       "    </tr>\n",
       "    <tr>\n",
       "      <th>4</th>\n",
       "      <td>4</td>\n",
       "      <td>4</td>\n",
       "      <td>1000</td>\n",
       "      <td>1</td>\n",
       "      <td>144</td>\n",
       "      <td>0.028483</td>\n",
       "      <td>3.370331</td>\n",
       "      <td>0.033347</td>\n",
       "      <td>2.069774</td>\n",
       "      <td>0.019072</td>\n",
       "      <td>1.794656</td>\n",
       "      <td>0.017650</td>\n",
       "    </tr>\n",
       "  </tbody>\n",
       "</table>\n",
       "</div>"
      ],
      "text/plain": [
       "   Unnamed: 0  seed     n  alpha    M  init_beta  init_sigma   os_beta  \\\n",
       "0           0     0  1000      1  144   0.028428    2.873892  0.016522   \n",
       "1           1     1  1000      1  144   0.037596    3.162615  0.012312   \n",
       "2           2     2  1000      1  144   0.038061    2.745850  0.019412   \n",
       "3           3     3  1000      1  144   0.022359    3.277664  0.012366   \n",
       "4           4     4  1000      1  144   0.028483    3.370331  0.033347   \n",
       "\n",
       "   os_sigma   ts_beta  ts_sigma  oracle_beta  \n",
       "0  2.073503  0.013828  2.222284     0.013688  \n",
       "1  2.186083  0.014434  2.088722     0.014948  \n",
       "2  1.807195  0.019320  1.910945     0.020895  \n",
       "3  2.280349  0.011768  2.073359     0.011649  \n",
       "4  2.069774  0.019072  1.794656     0.017650  "
      ]
     },
     "execution_count": 2,
     "metadata": {},
     "output_type": "execute_result"
    }
   ],
   "source": [
    "M = 144\n",
    "# M = 587\n",
    "\n",
    "a = pd.read_csv(f\"/Users/helenology/Desktop/[M={M}]rmse_data.csv\")\n",
    "a.head()"
   ]
  },
  {
   "cell_type": "code",
   "execution_count": 3,
   "id": "68657c69-8bdf-45b1-994f-cbf7405db233",
   "metadata": {},
   "outputs": [
    {
     "data": {
      "text/plain": [
       "Index(['Unnamed: 0', 'seed', 'n', 'alpha', 'M', 'init_beta', 'init_sigma',\n",
       "       'os_beta', 'os_sigma', 'ts_beta', 'ts_sigma', 'oracle_beta'],\n",
       "      dtype='object')"
      ]
     },
     "execution_count": 3,
     "metadata": {},
     "output_type": "execute_result"
    }
   ],
   "source": [
    "a.columns"
   ]
  },
  {
   "cell_type": "code",
   "execution_count": 4,
   "id": "0f0ba711-ada8-47ec-a53e-2ce452683aa1",
   "metadata": {},
   "outputs": [
    {
     "name": "stdout",
     "output_type": "stream",
     "text": [
      "(100, 12)\n"
     ]
    }
   ],
   "source": [
    "print(a.shape)"
   ]
  },
  {
   "cell_type": "code",
   "execution_count": 5,
   "id": "bc7fb243-f5c7-4195-8b37-217a908545f9",
   "metadata": {},
   "outputs": [],
   "source": [
    "def box_plot(data, edge_color, fill_color):\n",
    "    bp = ax.boxplot(data, patch_artist=True)\n",
    "    \n",
    "    for element in ['boxes', 'whiskers', 'fliers', 'means', 'medians', 'caps']:\n",
    "        plt.setp(bp[element], color=edge_color)\n",
    "\n",
    "    for patch in bp['boxes']:\n",
    "        patch.set(facecolor=fill_color)       \n",
    "        \n",
    "    return bp"
   ]
  },
  {
   "cell_type": "code",
   "execution_count": 6,
   "id": "2fe3fa8a-f1d0-4cd2-9992-c481a84f740c",
   "metadata": {},
   "outputs": [
    {
     "name": "stdout",
     "output_type": "stream",
     "text": [
      "#### Mean ####\n",
      "initial: 0.029638\n",
      "OS: 0.019362\n",
      "TS: 0.017703\n",
      "Oracle: 0.017678\n",
      "\n",
      "#### Median ####\n",
      "initial: 0.028913\n",
      "OS: 0.018908\n",
      "TS: 0.017539\n",
      "Oracle: 0.017147\n"
     ]
    }
   ],
   "source": [
    "print(f\"#### Mean ####\")\n",
    "print(f\"initial: {np.mean(a.init_beta):6f}\")\n",
    "print(f\"OS: {np.mean(a.os_beta):6f}\")\n",
    "print(f\"TS: {np.mean(a.ts_beta):6f}\")\n",
    "print(f\"Oracle: {np.mean(a.oracle_beta):6f}\")\n",
    "print(f\"\\n#### Median ####\")\n",
    "print(f\"initial: {np.median(a.init_beta):6f}\")\n",
    "print(f\"OS: {np.median(a.os_beta):6f}\")\n",
    "print(f\"TS: {np.median(a.ts_beta):6f}\")\n",
    "print(f\"Oracle: {np.median(a.oracle_beta):6f}\")"
   ]
  },
  {
   "cell_type": "code",
   "execution_count": 12,
   "id": "508cd455-2e0c-4fe2-aedf-ac2d17800a3f",
   "metadata": {},
   "outputs": [
    {
     "data": {
      "image/png": "[encoded data removed]",
      "text/plain": [
       "<Figure size 432x288 with 1 Axes>"
      ]
     },
     "metadata": {
      "needs_background": "light"
     },
     "output_type": "display_data"
    }
   ],
   "source": [
    "data1 = np.log(np.array(a.init_beta))\n",
    "data2 = np.log(np.array(a.os_beta))\n",
    "data3 = np.log(np.array(a.ts_beta))\n",
    "data4 = np.log(np.array(a.oracle_beta))\n",
    "beta_data = [data1, data2, data3, data4]\n",
    "\n",
    "fig, ax = plt.subplots()\n",
    "bp1 = box_plot(beta_data, 'red', 'tan')\n",
    "# ax.legend([bp1[\"boxes\"][0]], ['Raw'])\n",
    "# ax.set_ylim(0, 10)\n",
    "plt.ylabel(r\"$\\log(|\\hat\\beta - \\beta|$)\")\n",
    "plt.title(\"Common Parameter $B$\")\n",
    "plt.xticks(range(1, len(beta_data)+1), labels=[\"Init\", \"OS\", \"TS\", \"ID\"], rotation=0)\n",
    "plt.show()"
   ]
  },
  {
   "cell_type": "code",
   "execution_count": 9,
   "id": "2bf39b69-8630-411f-8358-00b25eb2eba6",
   "metadata": {},
   "outputs": [],
   "source": [
    "data1 = np.log(np.array(a.init_sigma))\n",
    "data2 = np.log(np.array(a.os_sigma))\n",
    "data3 = np.log(np.array(a.ts_sigma))"
   ]
  },
  {
   "cell_type": "code",
   "execution_count": 47,
   "id": "c5f1ed2d-c9e0-408d-8083-69a01f9dde93",
   "metadata": {},
   "outputs": [
    {
     "data": {
      "image/png": "[encoded data removed]",
      "text/plain": [
       "<Figure size 432x288 with 1 Axes>"
      ]
     },
     "metadata": {
      "needs_background": "light"
     },
     "output_type": "display_data"
    }
   ],
   "source": [
    "sigma_data = [data1, data2, data3]\n",
    "\n",
    "fig, ax = plt.subplots()\n",
    "bp1 = box_plot(sigma_data, 'red', 'tan')\n",
    "# ax.legend([bp1[\"boxes\"][0], bp2[\"boxes\"][0]], ['Raw', 'Rescale'])\n",
    "# ax.set_ylim(0, 10)\n",
    "plt.ylabel(\"log(|sigmahat - sigma|)\")\n",
    "plt.title(\"sigma\")\n",
    "plt.xticks(range(1, len(sigma_data)+1), labels=[\"Init\", \"OS\", \"TS\"], rotation=0)\n",
    "plt.show()"
   ]
  },
  {
   "cell_type": "code",
   "execution_count": null,
   "id": "d54fd400-f188-48ff-8d54-d7def12faa1c",
   "metadata": {},
   "outputs": [],
   "source": []
  },
  {
   "cell_type": "code",
   "execution_count": null,
   "id": "fae4a409-2571-479a-be0b-02aadc6fb8e0",
   "metadata": {},
   "outputs": [],
   "source": []
  }
 ],
 "metadata": {
  "kernelspec": {
   "display_name": "Python 3 (ipykernel)",
   "language": "python",
   "name": "python3"
  },
  "language_info": {
   "codemirror_mode": {
    "name": "ipython",
    "version": 3
   },
   "file_extension": ".py",
   "mimetype": "text/x-python",
   "name": "python",
   "nbconvert_exporter": "python",
   "pygments_lexer": "ipython3",
   "version": "3.9.7"
  }
 },
 "nbformat": 4,
 "nbformat_minor": 5
}
