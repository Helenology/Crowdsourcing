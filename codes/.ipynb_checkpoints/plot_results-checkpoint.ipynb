{
 "cells": [
  {
   "cell_type": "code",
   "execution_count": 299,
   "id": "f2c3dbc4-c8ff-4d06-85e4-0cc2dd3f0779",
   "metadata": {},
   "outputs": [],
   "source": [
    "import pandas as pd\n",
    "import matplotlib.pyplot as plt\n",
    "import numpy as np"
   ]
  },
  {
   "cell_type": "code",
   "execution_count": 300,
   "id": "85b0f4c0-1404-4061-8dd9-dd0780ec984e",
   "metadata": {},
   "outputs": [
    {
     "data": {
      "text/html": [
       "<div>\n",
       "<style scoped>\n",
       "    .dataframe tbody tr th:only-of-type {\n",
       "        vertical-align: middle;\n",
       "    }\n",
       "\n",
       "    .dataframe tbody tr th {\n",
       "        vertical-align: top;\n",
       "    }\n",
       "\n",
       "    .dataframe thead th {\n",
       "        text-align: right;\n",
       "    }\n",
       "</style>\n",
       "<table border=\"1\" class=\"dataframe\">\n",
       "  <thead>\n",
       "    <tr style=\"text-align: right;\">\n",
       "      <th></th>\n",
       "      <th>Unnamed: 0</th>\n",
       "      <th>seed</th>\n",
       "      <th>n</th>\n",
       "      <th>alpha</th>\n",
       "      <th>M</th>\n",
       "      <th>init_beta</th>\n",
       "      <th>init_sigma</th>\n",
       "      <th>os_beta</th>\n",
       "      <th>os_sigma</th>\n",
       "      <th>ts_beta</th>\n",
       "      <th>ts_sigma</th>\n",
       "      <th>ms_beta</th>\n",
       "      <th>ms_sigma</th>\n",
       "      <th>oracle_beta</th>\n",
       "      <th>oracle_sigma</th>\n",
       "    </tr>\n",
       "  </thead>\n",
       "  <tbody>\n",
       "    <tr>\n",
       "      <th>0</th>\n",
       "      <td>0</td>\n",
       "      <td>0</td>\n",
       "      <td>2500</td>\n",
       "      <td>0.5</td>\n",
       "      <td>159</td>\n",
       "      <td>0.008174</td>\n",
       "      <td>0.768096</td>\n",
       "      <td>0.003330</td>\n",
       "      <td>0.436526</td>\n",
       "      <td>0.002787</td>\n",
       "      <td>0.436526</td>\n",
       "      <td>0.002794</td>\n",
       "      <td>0.436526</td>\n",
       "      <td>0.002307</td>\n",
       "      <td>0.385639</td>\n",
       "    </tr>\n",
       "    <tr>\n",
       "      <th>1</th>\n",
       "      <td>1</td>\n",
       "      <td>1</td>\n",
       "      <td>2500</td>\n",
       "      <td>0.5</td>\n",
       "      <td>159</td>\n",
       "      <td>0.007086</td>\n",
       "      <td>0.833426</td>\n",
       "      <td>0.003487</td>\n",
       "      <td>0.503916</td>\n",
       "      <td>0.002212</td>\n",
       "      <td>0.503916</td>\n",
       "      <td>0.002249</td>\n",
       "      <td>0.503916</td>\n",
       "      <td>0.001600</td>\n",
       "      <td>0.441850</td>\n",
       "    </tr>\n",
       "    <tr>\n",
       "      <th>2</th>\n",
       "      <td>2</td>\n",
       "      <td>2</td>\n",
       "      <td>2500</td>\n",
       "      <td>0.5</td>\n",
       "      <td>159</td>\n",
       "      <td>0.007466</td>\n",
       "      <td>0.832399</td>\n",
       "      <td>0.003525</td>\n",
       "      <td>0.496420</td>\n",
       "      <td>0.002374</td>\n",
       "      <td>0.496420</td>\n",
       "      <td>0.002408</td>\n",
       "      <td>0.496420</td>\n",
       "      <td>0.001690</td>\n",
       "      <td>0.328252</td>\n",
       "    </tr>\n",
       "    <tr>\n",
       "      <th>3</th>\n",
       "      <td>3</td>\n",
       "      <td>3</td>\n",
       "      <td>2500</td>\n",
       "      <td>0.5</td>\n",
       "      <td>159</td>\n",
       "      <td>0.007051</td>\n",
       "      <td>0.836024</td>\n",
       "      <td>0.001528</td>\n",
       "      <td>0.508605</td>\n",
       "      <td>0.001450</td>\n",
       "      <td>0.508605</td>\n",
       "      <td>0.001444</td>\n",
       "      <td>0.508605</td>\n",
       "      <td>0.001911</td>\n",
       "      <td>0.375598</td>\n",
       "    </tr>\n",
       "    <tr>\n",
       "      <th>4</th>\n",
       "      <td>4</td>\n",
       "      <td>4</td>\n",
       "      <td>2500</td>\n",
       "      <td>0.5</td>\n",
       "      <td>159</td>\n",
       "      <td>0.007081</td>\n",
       "      <td>0.785229</td>\n",
       "      <td>0.003658</td>\n",
       "      <td>0.449663</td>\n",
       "      <td>0.002092</td>\n",
       "      <td>0.449663</td>\n",
       "      <td>0.002145</td>\n",
       "      <td>0.449663</td>\n",
       "      <td>0.001309</td>\n",
       "      <td>0.403223</td>\n",
       "    </tr>\n",
       "  </tbody>\n",
       "</table>\n",
       "</div>"
      ],
      "text/plain": [
       "   Unnamed: 0  seed     n  alpha    M  init_beta  init_sigma   os_beta  \\\n",
       "0           0     0  2500    0.5  159   0.008174    0.768096  0.003330   \n",
       "1           1     1  2500    0.5  159   0.007086    0.833426  0.003487   \n",
       "2           2     2  2500    0.5  159   0.007466    0.832399  0.003525   \n",
       "3           3     3  2500    0.5  159   0.007051    0.836024  0.001528   \n",
       "4           4     4  2500    0.5  159   0.007081    0.785229  0.003658   \n",
       "\n",
       "   os_sigma   ts_beta  ts_sigma   ms_beta  ms_sigma  oracle_beta  oracle_sigma  \n",
       "0  0.436526  0.002787  0.436526  0.002794  0.436526     0.002307      0.385639  \n",
       "1  0.503916  0.002212  0.503916  0.002249  0.503916     0.001600      0.441850  \n",
       "2  0.496420  0.002374  0.496420  0.002408  0.496420     0.001690      0.328252  \n",
       "3  0.508605  0.001450  0.508605  0.001444  0.508605     0.001911      0.375598  \n",
       "4  0.449663  0.002092  0.449663  0.002145  0.449663     0.001309      0.403223  "
      ]
     },
     "execution_count": 300,
     "metadata": {},
     "output_type": "execute_result"
    }
   ],
   "source": [
    "data = pd.read_csv(f\"/Users/helenology/Desktop/rmse_data.csv\")\n",
    "data.head()"
   ]
  },
  {
   "cell_type": "code",
   "execution_count": 301,
   "id": "bb570889-1c1d-4634-bdb1-3a061bd53afc",
   "metadata": {},
   "outputs": [
    {
     "data": {
      "text/html": [
       "<div>\n",
       "<style scoped>\n",
       "    .dataframe tbody tr th:only-of-type {\n",
       "        vertical-align: middle;\n",
       "    }\n",
       "\n",
       "    .dataframe tbody tr th {\n",
       "        vertical-align: top;\n",
       "    }\n",
       "\n",
       "    .dataframe thead th {\n",
       "        text-align: right;\n",
       "    }\n",
       "</style>\n",
       "<table border=\"1\" class=\"dataframe\">\n",
       "  <thead>\n",
       "    <tr style=\"text-align: right;\">\n",
       "      <th></th>\n",
       "      <th></th>\n",
       "      <th>seed</th>\n",
       "      <th>M</th>\n",
       "      <th>init_beta</th>\n",
       "      <th>os_beta</th>\n",
       "      <th>ts_beta</th>\n",
       "      <th>ms_beta</th>\n",
       "      <th>oracle_beta</th>\n",
       "    </tr>\n",
       "    <tr>\n",
       "      <th>n</th>\n",
       "      <th>alpha</th>\n",
       "      <th></th>\n",
       "      <th></th>\n",
       "      <th></th>\n",
       "      <th></th>\n",
       "      <th></th>\n",
       "      <th></th>\n",
       "      <th></th>\n",
       "    </tr>\n",
       "  </thead>\n",
       "  <tbody>\n",
       "    <tr>\n",
       "      <th rowspan=\"2\" valign=\"top\">2500</th>\n",
       "      <th>0.5</th>\n",
       "      <td>49.5</td>\n",
       "      <td>159.0</td>\n",
       "      <td>0.007240</td>\n",
       "      <td>0.003634</td>\n",
       "      <td>0.002533</td>\n",
       "      <td>0.002565</td>\n",
       "      <td>0.002097</td>\n",
       "    </tr>\n",
       "    <tr>\n",
       "      <th>1.0</th>\n",
       "      <td>49.5</td>\n",
       "      <td>159.0</td>\n",
       "      <td>0.005255</td>\n",
       "      <td>0.002086</td>\n",
       "      <td>0.001603</td>\n",
       "      <td>0.001607</td>\n",
       "      <td>0.001517</td>\n",
       "    </tr>\n",
       "    <tr>\n",
       "      <th rowspan=\"2\" valign=\"top\">5000</th>\n",
       "      <th>0.5</th>\n",
       "      <td>49.5</td>\n",
       "      <td>293.0</td>\n",
       "      <td>0.003947</td>\n",
       "      <td>0.001759</td>\n",
       "      <td>0.001194</td>\n",
       "      <td>0.001199</td>\n",
       "      <td>0.001088</td>\n",
       "    </tr>\n",
       "    <tr>\n",
       "      <th>1.0</th>\n",
       "      <td>49.5</td>\n",
       "      <td>293.0</td>\n",
       "      <td>0.002992</td>\n",
       "      <td>0.001070</td>\n",
       "      <td>0.000841</td>\n",
       "      <td>0.000841</td>\n",
       "      <td>0.000815</td>\n",
       "    </tr>\n",
       "    <tr>\n",
       "      <th>7500</th>\n",
       "      <th>0.5</th>\n",
       "      <td>3.5</td>\n",
       "      <td>420.0</td>\n",
       "      <td>0.002858</td>\n",
       "      <td>0.001142</td>\n",
       "      <td>0.000825</td>\n",
       "      <td>0.000826</td>\n",
       "      <td>0.000802</td>\n",
       "    </tr>\n",
       "  </tbody>\n",
       "</table>\n",
       "</div>"
      ],
      "text/plain": [
       "            seed      M  init_beta   os_beta   ts_beta   ms_beta  oracle_beta\n",
       "n    alpha                                                                   \n",
       "2500 0.5    49.5  159.0   0.007240  0.003634  0.002533  0.002565     0.002097\n",
       "     1.0    49.5  159.0   0.005255  0.002086  0.001603  0.001607     0.001517\n",
       "5000 0.5    49.5  293.0   0.003947  0.001759  0.001194  0.001199     0.001088\n",
       "     1.0    49.5  293.0   0.002992  0.001070  0.000841  0.000841     0.000815\n",
       "7500 0.5     3.5  420.0   0.002858  0.001142  0.000825  0.000826     0.000802"
      ]
     },
     "execution_count": 301,
     "metadata": {},
     "output_type": "execute_result"
    }
   ],
   "source": [
    "RMSE_beta = data.loc[:, [\"seed\", \"n\", \"alpha\", \"M\", \"init_beta\", \"os_beta\", \"ts_beta\", \"ms_beta\", \"oracle_beta\"]]\n",
    "RMSE_beta.groupby(['n', 'alpha']).mean()"
   ]
  },
  {
   "cell_type": "code",
   "execution_count": 302,
   "id": "f1de4ffc-8828-4e60-b884-e40a06c34179",
   "metadata": {},
   "outputs": [
    {
     "data": {
      "text/html": [
       "<div>\n",
       "<style scoped>\n",
       "    .dataframe tbody tr th:only-of-type {\n",
       "        vertical-align: middle;\n",
       "    }\n",
       "\n",
       "    .dataframe tbody tr th {\n",
       "        vertical-align: top;\n",
       "    }\n",
       "\n",
       "    .dataframe thead th {\n",
       "        text-align: right;\n",
       "    }\n",
       "</style>\n",
       "<table border=\"1\" class=\"dataframe\">\n",
       "  <thead>\n",
       "    <tr style=\"text-align: right;\">\n",
       "      <th></th>\n",
       "      <th></th>\n",
       "      <th>seed</th>\n",
       "      <th>M</th>\n",
       "      <th>init_sigma</th>\n",
       "      <th>os_sigma</th>\n",
       "      <th>oracle_sigma</th>\n",
       "    </tr>\n",
       "    <tr>\n",
       "      <th>n</th>\n",
       "      <th>alpha</th>\n",
       "      <th></th>\n",
       "      <th></th>\n",
       "      <th></th>\n",
       "      <th></th>\n",
       "      <th></th>\n",
       "    </tr>\n",
       "  </thead>\n",
       "  <tbody>\n",
       "    <tr>\n",
       "      <th rowspan=\"2\" valign=\"top\">2500</th>\n",
       "      <th>0.5</th>\n",
       "      <td>49.5</td>\n",
       "      <td>159.0</td>\n",
       "      <td>0.827703</td>\n",
       "      <td>0.496992</td>\n",
       "      <td>0.387042</td>\n",
       "    </tr>\n",
       "    <tr>\n",
       "      <th>1.0</th>\n",
       "      <td>49.5</td>\n",
       "      <td>159.0</td>\n",
       "      <td>0.526712</td>\n",
       "      <td>0.289259</td>\n",
       "      <td>0.270508</td>\n",
       "    </tr>\n",
       "    <tr>\n",
       "      <th rowspan=\"2\" valign=\"top\">5000</th>\n",
       "      <th>0.5</th>\n",
       "      <td>49.5</td>\n",
       "      <td>293.0</td>\n",
       "      <td>0.523660</td>\n",
       "      <td>0.285778</td>\n",
       "      <td>0.265990</td>\n",
       "    </tr>\n",
       "    <tr>\n",
       "      <th>1.0</th>\n",
       "      <td>49.5</td>\n",
       "      <td>293.0</td>\n",
       "      <td>0.322505</td>\n",
       "      <td>0.184635</td>\n",
       "      <td>0.183709</td>\n",
       "    </tr>\n",
       "    <tr>\n",
       "      <th>7500</th>\n",
       "      <th>0.5</th>\n",
       "      <td>3.5</td>\n",
       "      <td>420.0</td>\n",
       "      <td>0.396478</td>\n",
       "      <td>0.219958</td>\n",
       "      <td>0.215678</td>\n",
       "    </tr>\n",
       "  </tbody>\n",
       "</table>\n",
       "</div>"
      ],
      "text/plain": [
       "            seed      M  init_sigma  os_sigma  oracle_sigma\n",
       "n    alpha                                                 \n",
       "2500 0.5    49.5  159.0    0.827703  0.496992      0.387042\n",
       "     1.0    49.5  159.0    0.526712  0.289259      0.270508\n",
       "5000 0.5    49.5  293.0    0.523660  0.285778      0.265990\n",
       "     1.0    49.5  293.0    0.322505  0.184635      0.183709\n",
       "7500 0.5     3.5  420.0    0.396478  0.219958      0.215678"
      ]
     },
     "execution_count": 302,
     "metadata": {},
     "output_type": "execute_result"
    }
   ],
   "source": [
    "RMSE_sigma = data.loc[:, [\"seed\", \"n\", \"alpha\", \"M\", \"init_sigma\", \"os_sigma\", \"oracle_sigma\"]]\n",
    "RMSE_sigma.groupby(['n', 'alpha']).mean()"
   ]
  },
  {
   "cell_type": "code",
   "execution_count": 303,
   "id": "ed54eb68-a7f4-42a7-9a2c-4a8724ba9cd1",
   "metadata": {},
   "outputs": [],
   "source": [
    "# a = data.loc[(data['n'] == 2500) & (data['alpha'] == 0.5)]\n",
    "# a = data.loc[(data['n'] == 2500) & (data['alpha'] == 1.0)]\n",
    "# a = data.loc[(data['n'] == 5000) & (data['alpha'] == 0.5)]\n",
    "# a = data.loc[(data['n'] == 5000) & (data['alpha'] == 1.0)]\n",
    "a = data.loc[(data['n'] == 7500) & (data['alpha'] == 0.5)]"
   ]
  },
  {
   "cell_type": "code",
   "execution_count": 304,
   "id": "50afa462-1e30-47b0-84f2-39f2c5f99c2a",
   "metadata": {},
   "outputs": [
    {
     "data": {
      "text/plain": [
       "(8, 15)"
      ]
     },
     "execution_count": 304,
     "metadata": {},
     "output_type": "execute_result"
    }
   ],
   "source": [
    "a.shape"
   ]
  },
  {
   "cell_type": "code",
   "execution_count": 297,
   "id": "68657c69-8bdf-45b1-994f-cbf7405db233",
   "metadata": {},
   "outputs": [
    {
     "data": {
      "text/plain": [
       "Index(['Unnamed: 0', 'seed', 'n', 'alpha', 'M', 'init_beta', 'init_sigma',\n",
       "       'os_beta', 'os_sigma', 'ts_beta', 'ts_sigma', 'ms_beta', 'ms_sigma',\n",
       "       'oracle_beta', 'oracle_sigma'],\n",
       "      dtype='object')"
      ]
     },
     "execution_count": 297,
     "metadata": {},
     "output_type": "execute_result"
    }
   ],
   "source": [
    "a.columns"
   ]
  },
  {
   "cell_type": "code",
   "execution_count": 265,
   "id": "0f0ba711-ada8-47ec-a53e-2ce452683aa1",
   "metadata": {},
   "outputs": [
    {
     "name": "stdout",
     "output_type": "stream",
     "text": [
      "(96, 15)\n"
     ]
    }
   ],
   "source": [
    "print(a.shape)"
   ]
  },
  {
   "cell_type": "code",
   "execution_count": 266,
   "id": "bc7fb243-f5c7-4195-8b37-217a908545f9",
   "metadata": {},
   "outputs": [],
   "source": [
    "def box_plot(data, edge_color, fill_color):\n",
    "    bp = ax.boxplot(data, patch_artist=True)\n",
    "    \n",
    "    for element in ['boxes', 'whiskers', 'fliers', 'means', 'medians', 'caps']:\n",
    "        plt.setp(bp[element], color=edge_color)\n",
    "\n",
    "    for patch in bp['boxes']:\n",
    "        patch.set(facecolor=fill_color)       \n",
    "        \n",
    "    return bp"
   ]
  },
  {
   "cell_type": "code",
   "execution_count": 267,
   "id": "2fe3fa8a-f1d0-4cd2-9992-c481a84f740c",
   "metadata": {},
   "outputs": [
    {
     "name": "stdout",
     "output_type": "stream",
     "text": [
      "Initial: 0.002992\n",
      "OS: 0.001054\n",
      "TS: 0.000833\n",
      "MS: 0.000833\n",
      "Oracle: 0.000810\n"
     ]
    }
   ],
   "source": [
    "print(f\"Initial: {np.mean(a.init_beta):6f}\")\n",
    "print(f\"OS: {np.mean(a.os_beta):6f}\")\n",
    "print(f\"TS: {np.mean(a.ts_beta):6f}\")\n",
    "print(f\"MS: {np.mean(a.ms_beta):6f}\")\n",
    "print(f\"Oracle: {np.mean(a.oracle_beta):6f}\")"
   ]
  },
  {
   "cell_type": "code",
   "execution_count": 268,
   "id": "508cd455-2e0c-4fe2-aedf-ac2d17800a3f",
   "metadata": {},
   "outputs": [
    {
     "data": {
      "image/png": "[encoded data removed]",
      "text/plain": [
       "<Figure size 432x288 with 1 Axes>"
      ]
     },
     "metadata": {
      "needs_background": "light"
     },
     "output_type": "display_data"
    }
   ],
   "source": [
    "data1 = np.log(np.array(a.init_beta))\n",
    "data2 = np.log(np.array(a.os_beta))\n",
    "data3 = np.log(np.array(a.ts_beta))\n",
    "data4 = np.log(np.array(a.ms_beta))\n",
    "data5 = np.log(np.array(a.oracle_beta))\n",
    "beta_data = [data1, data2, data3, data4, data5]\n",
    "\n",
    "fig, ax = plt.subplots()\n",
    "bp1 = box_plot(beta_data, 'red', 'tan')\n",
    "# ax.legend([bp1[\"boxes\"][0]], ['Raw'])\n",
    "# ax.set_ylim(0, 10)\n",
    "plt.ylabel(\"log(|betahat - beta|)\")\n",
    "plt.title(\"beta\")\n",
    "plt.xticks(range(1, len(beta_data)+1), labels=[\"Init\", \"OS\", \"TS\", \"MS\", \"Oracle\"], rotation=0)\n",
    "plt.show()"
   ]
  },
  {
   "cell_type": "code",
   "execution_count": 269,
   "id": "2bf39b69-8630-411f-8358-00b25eb2eba6",
   "metadata": {},
   "outputs": [],
   "source": [
    "data1 = np.log(np.array(a.init_sigma))\n",
    "data2 = np.log(np.array(a.os_sigma))\n",
    "data3 = np.log(np.array(a.ts_sigma))\n",
    "data4 = np.log(np.array(a.ms_sigma))\n",
    "data5 = np.log(np.array(a.oracle_sigma))"
   ]
  },
  {
   "cell_type": "code",
   "execution_count": 270,
   "id": "c5f1ed2d-c9e0-408d-8083-69a01f9dde93",
   "metadata": {},
   "outputs": [
    {
     "data": {
      "image/png": "[encoded data removed]",
      "text/plain": [
       "<Figure size 432x288 with 1 Axes>"
      ]
     },
     "metadata": {
      "needs_background": "light"
     },
     "output_type": "display_data"
    }
   ],
   "source": [
    "sigma_data = [data1, data2, data3, data4, data5]\n",
    "\n",
    "fig, ax = plt.subplots()\n",
    "bp1 = box_plot(sigma_data, 'red', 'tan')\n",
    "# ax.legend([bp1[\"boxes\"][0], bp2[\"boxes\"][0]], ['Raw', 'Rescale'])\n",
    "# ax.set_ylim(0, 10)\n",
    "plt.ylabel(\"log(|sigmahat - sigma|)\")\n",
    "plt.title(\"sigma\")\n",
    "plt.xticks(range(1, len(sigma_data)+1), labels=[\"Init\", \"OS\", \"TS\", \"MS\", \"Oracle\"], rotation=0)\n",
    "plt.show()"
   ]
  },
  {
   "cell_type": "code",
   "execution_count": 271,
   "id": "d54fd400-f188-48ff-8d54-d7def12faa1c",
   "metadata": {},
   "outputs": [
    {
     "name": "stdout",
     "output_type": "stream",
     "text": [
      "Initial: 0.322905\n",
      "OS: 0.185147\n",
      "TS: 0.185147\n",
      "MS: 0.185147\n",
      "Oracle: 0.184280\n"
     ]
    }
   ],
   "source": [
    "print(f\"Initial: {np.mean(a.init_sigma):6f}\")\n",
    "print(f\"OS: {np.mean(a.os_sigma):6f}\")\n",
    "print(f\"TS: {np.mean(a.ts_sigma):6f}\")\n",
    "print(f\"MS: {np.mean(a.ms_sigma):6f}\")\n",
    "print(f\"Oracle: {np.mean(a.oracle_sigma):6f}\")"
   ]
  },
  {
   "cell_type": "code",
   "execution_count": null,
   "id": "fae4a409-2571-479a-be0b-02aadc6fb8e0",
   "metadata": {},
   "outputs": [],
   "source": []
  }
 ],
 "metadata": {
  "kernelspec": {
   "display_name": "Python 3 (ipykernel)",
   "language": "python",
   "name": "python3"
  },
  "language_info": {
   "codemirror_mode": {
    "name": "ipython",
    "version": 3
   },
   "file_extension": ".py",
   "mimetype": "text/x-python",
   "name": "python",
   "nbconvert_exporter": "python",
   "pygments_lexer": "ipython3",
   "version": "3.9.7"
  }
 },
 "nbformat": 4,
 "nbformat_minor": 5
}
