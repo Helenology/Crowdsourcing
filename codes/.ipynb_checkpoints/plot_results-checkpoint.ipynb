{
 "cells": [
  {
   "cell_type": "code",
   "execution_count": 192,
   "id": "f2c3dbc4-c8ff-4d06-85e4-0cc2dd3f0779",
   "metadata": {},
   "outputs": [],
   "source": [
    "import pandas as pd\n",
    "import matplotlib.pyplot as plt\n",
    "import numpy as np"
   ]
  },
  {
   "cell_type": "code",
   "execution_count": 193,
   "id": "85b0f4c0-1404-4061-8dd9-dd0780ec984e",
   "metadata": {},
   "outputs": [
    {
     "data": {
      "text/html": [
       "<div>\n",
       "<style scoped>\n",
       "    .dataframe tbody tr th:only-of-type {\n",
       "        vertical-align: middle;\n",
       "    }\n",
       "\n",
       "    .dataframe tbody tr th {\n",
       "        vertical-align: top;\n",
       "    }\n",
       "\n",
       "    .dataframe thead th {\n",
       "        text-align: right;\n",
       "    }\n",
       "</style>\n",
       "<table border=\"1\" class=\"dataframe\">\n",
       "  <thead>\n",
       "    <tr style=\"text-align: right;\">\n",
       "      <th></th>\n",
       "      <th>Unnamed: 0</th>\n",
       "      <th>seed</th>\n",
       "      <th>n</th>\n",
       "      <th>alpha</th>\n",
       "      <th>M</th>\n",
       "      <th>init_beta</th>\n",
       "      <th>init_sigma</th>\n",
       "      <th>os_beta_raw</th>\n",
       "      <th>os_sigma_raw</th>\n",
       "      <th>os_beta_resc</th>\n",
       "      <th>os_sigma_resc</th>\n",
       "      <th>mle_beta_raw</th>\n",
       "      <th>mle_sigma_raw</th>\n",
       "      <th>mle_beta_resc</th>\n",
       "      <th>mle_sigma_resc</th>\n",
       "      <th>oracle_beta_raw</th>\n",
       "      <th>oracle_beta_resc</th>\n",
       "    </tr>\n",
       "  </thead>\n",
       "  <tbody>\n",
       "    <tr>\n",
       "      <th>0</th>\n",
       "      <td>0</td>\n",
       "      <td>0</td>\n",
       "      <td>10000</td>\n",
       "      <td>1</td>\n",
       "      <td>50</td>\n",
       "      <td>0.017708</td>\n",
       "      <td>0.423745</td>\n",
       "      <td>0.010554</td>\n",
       "      <td>0.355927</td>\n",
       "      <td>0.008054</td>\n",
       "      <td>0.324648</td>\n",
       "      <td>0.010554</td>\n",
       "      <td>0.355927</td>\n",
       "      <td>0.008054</td>\n",
       "      <td>0.324648</td>\n",
       "      <td>0.008443</td>\n",
       "      <td>0.008174</td>\n",
       "    </tr>\n",
       "    <tr>\n",
       "      <th>1</th>\n",
       "      <td>1</td>\n",
       "      <td>1</td>\n",
       "      <td>10000</td>\n",
       "      <td>1</td>\n",
       "      <td>50</td>\n",
       "      <td>0.017901</td>\n",
       "      <td>0.467260</td>\n",
       "      <td>0.009322</td>\n",
       "      <td>0.379203</td>\n",
       "      <td>0.007963</td>\n",
       "      <td>0.368101</td>\n",
       "      <td>0.009322</td>\n",
       "      <td>0.379203</td>\n",
       "      <td>0.007963</td>\n",
       "      <td>0.368101</td>\n",
       "      <td>0.007929</td>\n",
       "      <td>0.007899</td>\n",
       "    </tr>\n",
       "    <tr>\n",
       "      <th>2</th>\n",
       "      <td>2</td>\n",
       "      <td>2</td>\n",
       "      <td>10000</td>\n",
       "      <td>1</td>\n",
       "      <td>50</td>\n",
       "      <td>0.017759</td>\n",
       "      <td>0.290829</td>\n",
       "      <td>0.010155</td>\n",
       "      <td>0.272175</td>\n",
       "      <td>0.008833</td>\n",
       "      <td>0.283209</td>\n",
       "      <td>0.010155</td>\n",
       "      <td>0.272175</td>\n",
       "      <td>0.008833</td>\n",
       "      <td>0.283209</td>\n",
       "      <td>0.009104</td>\n",
       "      <td>0.008779</td>\n",
       "    </tr>\n",
       "    <tr>\n",
       "      <th>3</th>\n",
       "      <td>3</td>\n",
       "      <td>3</td>\n",
       "      <td>10000</td>\n",
       "      <td>1</td>\n",
       "      <td>50</td>\n",
       "      <td>0.023663</td>\n",
       "      <td>0.470792</td>\n",
       "      <td>0.008142</td>\n",
       "      <td>0.420498</td>\n",
       "      <td>0.007615</td>\n",
       "      <td>0.424799</td>\n",
       "      <td>0.008142</td>\n",
       "      <td>0.420498</td>\n",
       "      <td>0.007615</td>\n",
       "      <td>0.424799</td>\n",
       "      <td>0.011769</td>\n",
       "      <td>0.007500</td>\n",
       "    </tr>\n",
       "    <tr>\n",
       "      <th>4</th>\n",
       "      <td>4</td>\n",
       "      <td>4</td>\n",
       "      <td>10000</td>\n",
       "      <td>1</td>\n",
       "      <td>50</td>\n",
       "      <td>0.015449</td>\n",
       "      <td>0.476955</td>\n",
       "      <td>0.010262</td>\n",
       "      <td>0.399069</td>\n",
       "      <td>0.009435</td>\n",
       "      <td>0.402632</td>\n",
       "      <td>0.010262</td>\n",
       "      <td>0.399069</td>\n",
       "      <td>0.009435</td>\n",
       "      <td>0.402632</td>\n",
       "      <td>0.008758</td>\n",
       "      <td>0.008708</td>\n",
       "    </tr>\n",
       "  </tbody>\n",
       "</table>\n",
       "</div>"
      ],
      "text/plain": [
       "   Unnamed: 0  seed      n  alpha   M  init_beta  init_sigma  os_beta_raw  \\\n",
       "0           0     0  10000      1  50   0.017708    0.423745     0.010554   \n",
       "1           1     1  10000      1  50   0.017901    0.467260     0.009322   \n",
       "2           2     2  10000      1  50   0.017759    0.290829     0.010155   \n",
       "3           3     3  10000      1  50   0.023663    0.470792     0.008142   \n",
       "4           4     4  10000      1  50   0.015449    0.476955     0.010262   \n",
       "\n",
       "   os_sigma_raw  os_beta_resc  os_sigma_resc  mle_beta_raw  mle_sigma_raw  \\\n",
       "0      0.355927      0.008054       0.324648      0.010554       0.355927   \n",
       "1      0.379203      0.007963       0.368101      0.009322       0.379203   \n",
       "2      0.272175      0.008833       0.283209      0.010155       0.272175   \n",
       "3      0.420498      0.007615       0.424799      0.008142       0.420498   \n",
       "4      0.399069      0.009435       0.402632      0.010262       0.399069   \n",
       "\n",
       "   mle_beta_resc  mle_sigma_resc  oracle_beta_raw  oracle_beta_resc  \n",
       "0       0.008054        0.324648         0.008443          0.008174  \n",
       "1       0.007963        0.368101         0.007929          0.007899  \n",
       "2       0.008833        0.283209         0.009104          0.008779  \n",
       "3       0.007615        0.424799         0.011769          0.007500  \n",
       "4       0.009435        0.402632         0.008758          0.008708  "
      ]
     },
     "execution_count": 193,
     "metadata": {},
     "output_type": "execute_result"
    }
   ],
   "source": [
    "a = pd.read_csv(\"/Users/helenology/Desktop/rmse_data.csv\")\n",
    "a.head()"
   ]
  },
  {
   "cell_type": "code",
   "execution_count": 194,
   "id": "0f0ba711-ada8-47ec-a53e-2ce452683aa1",
   "metadata": {},
   "outputs": [
    {
     "name": "stdout",
     "output_type": "stream",
     "text": [
      "(35, 17)\n"
     ]
    }
   ],
   "source": [
    "print(a.shape)"
   ]
  },
  {
   "cell_type": "code",
   "execution_count": 195,
   "id": "b52a4af1-1b46-4241-94f0-e8f9b4fe6bcf",
   "metadata": {},
   "outputs": [
    {
     "data": {
      "image/png": "[encoded data removed]",
      "text/plain": [
       "<Figure size 432x288 with 1 Axes>"
      ]
     },
     "metadata": {
      "needs_background": "light"
     },
     "output_type": "display_data"
    }
   ],
   "source": [
    "data1 = np.log(np.array(a.init_beta))\n",
    "data2 = np.log(np.array(a.os_beta_raw))\n",
    "data3 = np.log(np.array(a.mle_beta_raw))\n",
    "data4 = np.log(np.array(a.oracle_beta_raw))\n",
    "\n",
    "data5 = np.log(np.array(a.os_beta_resc))\n",
    "data6 = np.log(np.array(a.mle_beta_resc))\n",
    "data7 = np.log(np.array(a.oracle_beta_resc))\n",
    "\n",
    "plt.boxplot([data1, data2, data3, data4, data5, data6, data7],\n",
    "           ) # positions=range(1, 15, 2)\n",
    "plt.xticks(range(1, 8), \n",
    "           labels=[\"Initial\", \"OS-raw\", \"MLE-raw\", \"Oracle-raw\",\n",
    "                   \"OS-rescale\", \"MLE-rescale\", \"Oracle-rescale\",],\n",
    "          rotation=45)\n",
    "plt.title(\"beta\")\n",
    "plt.ylabel(\"log(MSE)\")\n",
    "plt.show()"
   ]
  },
  {
   "cell_type": "code",
   "execution_count": 196,
   "id": "8eae11f5-cb7b-4403-aebf-78c941a71ab9",
   "metadata": {},
   "outputs": [
    {
     "data": {
      "image/png": "[encoded data removed]",
      "text/plain": [
       "<Figure size 432x288 with 1 Axes>"
      ]
     },
     "metadata": {
      "needs_background": "light"
     },
     "output_type": "display_data"
    }
   ],
   "source": [
    "data1 = (np.array(a.init_sigma))\n",
    "data2 = (np.array(a.os_sigma_raw))\n",
    "data3 = (np.array(a.os_sigma_resc))\n",
    "data4 = (np.array(a.mle_sigma_raw))\n",
    "data5 = (np.array(a.mle_sigma_resc))\n",
    "plt.boxplot([data1, data2, data3, data4, data5],\n",
    "           labels=[\"Initial\", \"OS-raw\", \"OS-rescale\", \n",
    "                   \"MLE-raw\", \"MLE-rescale\"])\n",
    "plt.title(\"sigma\")\n",
    "plt.ylabel(\"log(MSE)\")\n",
    "plt.show()"
   ]
  },
  {
   "cell_type": "code",
   "execution_count": null,
   "id": "be6dec03-5f2a-460c-91c6-b8e999770968",
   "metadata": {},
   "outputs": [],
   "source": []
  },
  {
   "cell_type": "code",
   "execution_count": null,
   "id": "3aa05632-9a3c-4ee5-8e19-fc2daa90d948",
   "metadata": {},
   "outputs": [],
   "source": []
  },
  {
   "cell_type": "code",
   "execution_count": null,
   "id": "d54fd400-f188-48ff-8d54-d7def12faa1c",
   "metadata": {},
   "outputs": [],
   "source": []
  }
 ],
 "metadata": {
  "kernelspec": {
   "display_name": "Python 3 (ipykernel)",
   "language": "python",
   "name": "python3"
  },
  "language_info": {
   "codemirror_mode": {
    "name": "ipython",
    "version": 3
   },
   "file_extension": ".py",
   "mimetype": "text/x-python",
   "name": "python",
   "nbconvert_exporter": "python",
   "pygments_lexer": "ipython3",
   "version": "3.9.7"
  }
 },
 "nbformat": 4,
 "nbformat_minor": 5
}
