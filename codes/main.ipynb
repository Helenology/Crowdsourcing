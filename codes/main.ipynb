{
 "cells": [
  {
   "cell_type": "code",
   "execution_count": 20,
   "metadata": {
    "collapsed": true,
    "ExecuteTime": {
     "end_time": "2024-02-19T13:49:35.910235Z",
     "start_time": "2024-02-19T13:49:35.900424Z"
    }
   },
   "outputs": [],
   "source": [
    "import numpy as np\n",
    "from numpy.linalg import norm\n"
   ]
  },
  {
   "cell_type": "code",
   "execution_count": 21,
   "outputs": [],
   "source": [
    "N = 10000\n",
    "p = 10\n",
    "K = 2\n",
    "M = 50\n",
    "n = 5000\n",
    "seed = 0"
   ],
   "metadata": {
    "collapsed": false,
    "ExecuteTime": {
     "end_time": "2024-02-19T13:49:36.288054Z",
     "start_time": "2024-02-19T13:49:36.285811Z"
    }
   }
  },
  {
   "cell_type": "code",
   "execution_count": 22,
   "outputs": [],
   "source": [
    "np.random.seed(seed=seed)"
   ],
   "metadata": {
    "collapsed": false,
    "ExecuteTime": {
     "end_time": "2024-02-19T13:49:36.628496Z",
     "start_time": "2024-02-19T13:49:36.625934Z"
    }
   }
  },
  {
   "cell_type": "code",
   "execution_count": 23,
   "outputs": [],
   "source": [
    "# parameters - beta\n",
    "beta = np.random.randn(K+1, p) * (-1)\n",
    "beta[0] = 0"
   ],
   "metadata": {
    "collapsed": false,
    "ExecuteTime": {
     "end_time": "2024-02-19T13:49:36.831512Z",
     "start_time": "2024-02-19T13:49:36.829267Z"
    }
   }
  },
  {
   "cell_type": "code",
   "execution_count": 24,
   "outputs": [
    {
     "name": "stdout",
     "output_type": "stream",
     "text": [
      "5.118144887785791\n"
     ]
    }
   ],
   "source": [
    "beta_norm = norm(beta)\n",
    "print(beta_norm)\n",
    "beta = beta / beta_norm"
   ],
   "metadata": {
    "collapsed": false,
    "ExecuteTime": {
     "end_time": "2024-02-19T13:49:36.997418Z",
     "start_time": "2024-02-19T13:49:36.994298Z"
    }
   }
  },
  {
   "cell_type": "code",
   "execution_count": 25,
   "outputs": [],
   "source": [
    "# features - X\n",
    "X = np.random.randn(N, p)  # features\n",
    "X[:, 0] = 1                # set the first columns of X to be constants"
   ],
   "metadata": {
    "collapsed": false,
    "ExecuteTime": {
     "end_time": "2024-02-19T13:49:37.153005Z",
     "start_time": "2024-02-19T13:49:37.141696Z"
    }
   }
  },
  {
   "cell_type": "code",
   "execution_count": 26,
   "outputs": [],
   "source": [
    "# true labels - Y\n",
    "Y = np.argmax(X.dot(np.transpose(beta)), axis=1)"
   ],
   "metadata": {
    "collapsed": false,
    "ExecuteTime": {
     "end_time": "2024-02-19T13:49:37.337218Z",
     "start_time": "2024-02-19T13:49:37.332636Z"
    }
   }
  },
  {
   "cell_type": "code",
   "execution_count": 27,
   "outputs": [],
   "source": [
    "# pilot sample - X1 and Y1\n",
    "from sklearn.model_selection import train_test_split\n",
    "\n",
    "X1, X2, Y1, Y2 = train_test_split(X, Y, test_size=(N-n)/N, random_state=seed)"
   ],
   "metadata": {
    "collapsed": false,
    "ExecuteTime": {
     "end_time": "2024-02-19T13:49:37.476341Z",
     "start_time": "2024-02-19T13:49:37.474059Z"
    }
   }
  },
  {
   "cell_type": "code",
   "execution_count": 28,
   "outputs": [],
   "source": [
    "# annotation task assignment - A1\n",
    "alpha = 1\n",
    "\n",
    "A1 = np.random.binomial(1, alpha, size=(n, M))"
   ],
   "metadata": {
    "collapsed": false,
    "ExecuteTime": {
     "end_time": "2024-02-19T13:49:37.937101Z",
     "start_time": "2024-02-19T13:49:37.932814Z"
    }
   }
  },
  {
   "cell_type": "code",
   "execution_count": 29,
   "outputs": [],
   "source": [
    "# annotation probability - AP1\n",
    "sigma_list = np.arange(1, M+1, 1)\n",
    "\n",
    "AP1 = X1.dot(np.transpose(beta))\n",
    "AP1 = AP1.reshape(AP1.shape + (1,))\n",
    "AP1 = AP1 / sigma_list\n",
    "AP1 = np.exp(AP1)\n",
    "\n",
    "AP1_sum = AP1.sum(axis=1, keepdims=True)\n",
    "AP1 = AP1 / AP1_sum"
   ],
   "metadata": {
    "collapsed": false,
    "ExecuteTime": {
     "end_time": "2024-02-19T13:49:38.316091Z",
     "start_time": "2024-02-19T13:49:38.307657Z"
    }
   }
  },
  {
   "cell_type": "code",
   "execution_count": 12,
   "outputs": [],
   "source": [
    "# annotation - AY1\n",
    "AY1 = np.zeros((n, M))\n",
    "for i in range(n):\n",
    "    for m in range(M):\n",
    "        prob_im = AP1[i, :, m]\n",
    "        Y_im = np.argmax(np.random.multinomial(1, prob_im, 1))\n",
    "        AY1[i, m] = Y_im"
   ],
   "metadata": {
    "collapsed": false,
    "ExecuteTime": {
     "end_time": "2024-02-19T10:38:28.824638Z",
     "start_time": "2024-02-19T10:38:28.179108Z"
    }
   }
  },
  {
   "cell_type": "code",
   "execution_count": 13,
   "outputs": [],
   "source": [
    "AY1[A1 == 0] = -1"
   ],
   "metadata": {
    "collapsed": false,
    "ExecuteTime": {
     "end_time": "2024-02-19T10:38:28.832146Z",
     "start_time": "2024-02-19T10:38:28.825426Z"
    }
   }
  },
  {
   "cell_type": "code",
   "execution_count": 14,
   "outputs": [
    {
     "data": {
      "text/plain": "array([[0., 2., 2., ..., 1., 0., 2.],\n       [2., 2., 1., ..., 0., 0., 0.],\n       [0., 1., 2., ..., 0., 1., 0.],\n       ...,\n       [2., 1., 2., ..., 2., 2., 2.],\n       [2., 0., 2., ..., 2., 0., 0.],\n       [2., 1., 1., ..., 0., 1., 1.]])"
     },
     "execution_count": 14,
     "metadata": {},
     "output_type": "execute_result"
    }
   ],
   "source": [
    "AY1"
   ],
   "metadata": {
    "collapsed": false,
    "ExecuteTime": {
     "end_time": "2024-02-19T10:38:28.839569Z",
     "start_time": "2024-02-19T10:38:28.831583Z"
    }
   }
  },
  {
   "cell_type": "markdown",
   "source": [
    "# Initial Estimator"
   ],
   "metadata": {
    "collapsed": false
   }
  },
  {
   "cell_type": "code",
   "execution_count": 15,
   "outputs": [],
   "source": [
    "from sklearn.linear_model import LogisticRegression\n",
    "\n",
    "initial_b = np.zeros((M, K+1, p))\n",
    "initial_beta = np.zeros((K+1, p))\n",
    "initial_sigma = np.zeros(M)"
   ],
   "metadata": {
    "collapsed": false,
    "ExecuteTime": {
     "end_time": "2024-02-19T10:38:29.003577Z",
     "start_time": "2024-02-19T10:38:28.839195Z"
    }
   }
  },
  {
   "cell_type": "code",
   "execution_count": 16,
   "outputs": [],
   "source": [
    "for m in range(M):\n",
    "    y = AY1[:, m]\n",
    "    clf = LogisticRegression(random_state=0, fit_intercept=False).fit(X1, y)\n",
    "    initial_b[m] = clf.coef_\n",
    "    initial_sigma[m] = 1 / norm(initial_b[m])\n",
    "    initial_beta += initial_b[m] * initial_sigma[m] / M"
   ],
   "metadata": {
    "collapsed": false,
    "ExecuteTime": {
     "end_time": "2024-02-19T10:38:30.389242Z",
     "start_time": "2024-02-19T10:38:29.005052Z"
    }
   }
  },
  {
   "cell_type": "code",
   "execution_count": 17,
   "outputs": [
    {
     "data": {
      "text/plain": "0.7413100764781911"
     },
     "execution_count": 17,
     "metadata": {},
     "output_type": "execute_result"
    }
   ],
   "source": [
    "norm(initial_beta - beta)"
   ],
   "metadata": {
    "collapsed": false,
    "ExecuteTime": {
     "end_time": "2024-02-19T10:38:30.398930Z",
     "start_time": "2024-02-19T10:38:30.390209Z"
    }
   }
  },
  {
   "cell_type": "markdown",
   "source": [
    "# One-Step Estimator"
   ],
   "metadata": {
    "collapsed": false
   }
  },
  {
   "cell_type": "code",
   "execution_count": 18,
   "outputs": [
    {
     "data": {
      "text/plain": "((5000, 10), (5000, 50))"
     },
     "execution_count": 18,
     "metadata": {},
     "output_type": "execute_result"
    }
   ],
   "source": [
    "X1.shape, AY1.shape"
   ],
   "metadata": {
    "collapsed": false,
    "ExecuteTime": {
     "end_time": "2024-02-19T10:38:47.512670Z",
     "start_time": "2024-02-19T10:38:47.507292Z"
    }
   }
  },
  {
   "cell_type": "code",
   "execution_count": 19,
   "outputs": [
    {
     "data": {
      "text/plain": "2"
     },
     "execution_count": 19,
     "metadata": {},
     "output_type": "execute_result"
    }
   ],
   "source": [
    "K"
   ],
   "metadata": {
    "collapsed": false,
    "ExecuteTime": {
     "end_time": "2024-02-19T10:40:24.026502Z",
     "start_time": "2024-02-19T10:40:24.022001Z"
    }
   }
  },
  {
   "cell_type": "code",
   "execution_count": null,
   "outputs": [],
   "source": [],
   "metadata": {
    "collapsed": false
   }
  }
 ],
 "metadata": {
  "kernelspec": {
   "display_name": "Python 3",
   "language": "python",
   "name": "python3"
  },
  "language_info": {
   "codemirror_mode": {
    "name": "ipython",
    "version": 2
   },
   "file_extension": ".py",
   "mimetype": "text/x-python",
   "name": "python",
   "nbconvert_exporter": "python",
   "pygments_lexer": "ipython2",
   "version": "2.7.6"
  }
 },
 "nbformat": 4,
 "nbformat_minor": 0
}
