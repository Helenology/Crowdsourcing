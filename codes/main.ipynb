{
 "cells": [
  {
   "cell_type": "code",
   "execution_count": 1,
   "metadata": {
    "ExecuteTime": {
     "end_time": "2024-06-09T13:07:29.853536Z",
     "start_time": "2024-06-09T13:07:29.847323Z"
    }
   },
   "outputs": [
    {
     "name": "stderr",
     "output_type": "stream",
     "text": [
      "/opt/anaconda3/lib/python3.9/site-packages/scipy/__init__.py:146: UserWarning: A NumPy version >=1.16.5 and <1.23.0 is required for this version of SciPy (detected version 1.24.3\n",
      "  warnings.warn(f\"A NumPy version >={np_minversion} and <{np_maxversion}\"\n"
     ]
    }
   ],
   "source": [
    "# basic (built-in) Python packages\n",
    "import numpy as np\n",
    "from numpy.linalg import norm\n",
    "import pandas as pd\n",
    "import matplotlib.pyplot as plt\n",
    "\n",
    "# advanced (built-in) Python packages\n",
    "from sklearn.model_selection import train_test_split\n",
    "from sklearn.linear_model import LogisticRegression\n",
    "from scipy.optimize import minimize\n",
    "\n",
    "# my implemented Python functions and classes\n",
    "from data.generate_data import generate_data\n",
    "from model.MLE_python import MLE_python\n",
    "from model.MLE import MLE\n",
    "from model.OS import OS\n",
    "from model.ORACLE import ORACLE\n",
    "from model.Initial import Initial"
   ]
  },
  {
   "cell_type": "markdown",
   "metadata": {
    "ExecuteTime": {
     "end_time": "2024-06-09T13:08:21.298583Z",
     "start_time": "2024-06-09T13:08:21.224257Z"
    },
    "collapsed": false,
    "jupyter": {
     "outputs_hidden": false
    }
   },
   "source": [
    "# Hyperparameters"
   ]
  },
  {
   "cell_type": "code",
   "execution_count": 18,
   "metadata": {
    "ExecuteTime": {
     "end_time": "2024-06-09T13:08:20.241157Z",
     "start_time": "2024-06-09T13:08:20.145109Z"
    },
    "collapsed": false,
    "jupyter": {
     "outputs_hidden": false
    }
   },
   "outputs": [
    {
     "name": "stdout",
     "output_type": "stream",
     "text": [
      "alpha=1.0000\n",
      "[n*alpha=10000/N=100000]\n",
      "[M=500] vs [n*alpha=10000]\n"
     ]
    }
   ],
   "source": [
    "seed = 0\n",
    "np.random.seed(seed=seed)\n",
    "\n",
    "N = 100000        # the size of the unlabeled dataset\n",
    "n = 10000            # pilot sample size\n",
    "alpha = 1 # n**(-0.1)  \n",
    "print(f\"alpha={alpha:.4f}\")\n",
    "\n",
    "p = 10          # feature dimension\n",
    "K = 2           # (K+1) classes\n",
    "M = 500          # the size of the annotator pool\n",
    "print(f\"[n*alpha={int(n*alpha)}/N={N}]\")\n",
    "print(f\"[M={M}] vs [n*alpha={int(n*alpha)}]\")"
   ]
  },
  {
   "cell_type": "markdown",
   "metadata": {},
   "source": [
    "# Data Generation"
   ]
  },
  {
   "cell_type": "code",
   "execution_count": 19,
   "metadata": {},
   "outputs": [
    {
     "name": "stdout",
     "output_type": "stream",
     "text": [
      "True Labels 1    39315\n",
      "0    33292\n",
      "2    27393\n",
      "dtype: int64 \n",
      "\n"
     ]
    }
   ],
   "source": [
    "beta, sigma_list, theta, X, Y, X1, X2, Y1, Y2, A1, AY1 = generate_data(K, p, N, n, M, alpha, seed=0)"
   ]
  },
  {
   "cell_type": "code",
   "execution_count": 20,
   "metadata": {},
   "outputs": [
    {
     "data": {
      "text/plain": [
       "array([ 0.02814371,  0.28414075,  0.14869406,  0.02377327,  0.08672346,\n",
       "        0.06519439,  0.29191809, -0.0400845 ,  0.0611682 , -0.16687604,\n",
       "       -0.49881156,  0.12770615,  0.16889639, -0.14500665,  0.44347213,\n",
       "       -0.28415875,  0.00894045, -0.0365726 ,  0.29947945,  0.28708815,\n",
       "        0.1       ,  0.106     ,  0.112     ,  0.118     ,  0.124     ,\n",
       "        0.13      ,  0.136     ,  0.142     ,  0.148     ,  0.154     ,\n",
       "        0.16      ,  0.166     ,  0.172     ,  0.178     ,  0.184     ,\n",
       "        0.19      ,  0.196     ,  0.202     ,  0.208     ,  0.214     ,\n",
       "        0.22      ,  0.226     ,  0.232     ,  0.238     ,  0.244     ,\n",
       "        0.25      ,  0.256     ,  0.262     ,  0.268     ,  0.274     ,\n",
       "        0.28      ,  0.286     ,  0.292     ,  0.298     ,  0.304     ,\n",
       "        0.31      ,  0.316     ,  0.322     ,  0.328     ,  0.334     ,\n",
       "        0.34      ,  0.346     ,  0.352     ,  0.358     ,  0.364     ,\n",
       "        0.37      ,  0.376     ,  0.382     ,  0.388     ,  0.394     ,\n",
       "        0.4       ,  0.406     ,  0.412     ,  0.418     ,  0.424     ,\n",
       "        0.43      ,  0.436     ,  0.442     ,  0.448     ,  0.454     ,\n",
       "        0.46      ,  0.466     ,  0.472     ,  0.478     ,  0.484     ,\n",
       "        0.49      ,  0.496     ,  0.502     ,  0.508     ,  0.514     ,\n",
       "        0.52      ,  0.526     ,  0.532     ,  0.538     ,  0.544     ,\n",
       "        0.55      ,  0.556     ,  0.562     ,  0.568     ,  0.574     ,\n",
       "        0.58      ,  0.586     ,  0.592     ,  0.598     ,  0.604     ,\n",
       "        0.61      ,  0.616     ,  0.622     ,  0.628     ,  0.634     ,\n",
       "        0.64      ,  0.646     ,  0.652     ,  0.658     ,  0.664     ,\n",
       "        0.67      ,  0.676     ,  0.682     ,  0.688     ,  0.694     ,\n",
       "        0.7       ,  0.706     ,  0.712     ,  0.718     ,  0.724     ,\n",
       "        0.73      ,  0.736     ,  0.742     ,  0.748     ,  0.754     ,\n",
       "        0.76      ,  0.766     ,  0.772     ,  0.778     ,  0.784     ,\n",
       "        0.79      ,  0.796     ,  0.802     ,  0.808     ,  0.814     ,\n",
       "        0.82      ,  0.826     ,  0.832     ,  0.838     ,  0.844     ,\n",
       "        0.85      ,  0.856     ,  0.862     ,  0.868     ,  0.874     ,\n",
       "        0.88      ,  0.886     ,  0.892     ,  0.898     ,  0.904     ,\n",
       "        0.91      ,  0.916     ,  0.922     ,  0.928     ,  0.934     ,\n",
       "        0.94      ,  0.946     ,  0.952     ,  0.958     ,  0.964     ,\n",
       "        0.97      ,  0.976     ,  0.982     ,  0.988     ,  0.994     ,\n",
       "        1.        ,  1.006     ,  1.012     ,  1.018     ,  1.024     ,\n",
       "        1.03      ,  1.036     ,  1.042     ,  1.048     ,  1.054     ,\n",
       "        1.06      ,  1.066     ,  1.072     ,  1.078     ,  1.084     ,\n",
       "        1.09      ,  1.096     ,  1.102     ,  1.108     ,  1.114     ,\n",
       "        1.12      ,  1.126     ,  1.132     ,  1.138     ,  1.144     ,\n",
       "        1.15      ,  1.156     ,  1.162     ,  1.168     ,  1.174     ,\n",
       "        1.18      ,  1.186     ,  1.192     ,  1.198     ,  1.204     ,\n",
       "        1.21      ,  1.216     ,  1.222     ,  1.228     ,  1.234     ,\n",
       "        1.24      ,  1.246     ,  1.252     ,  1.258     ,  1.264     ,\n",
       "        1.27      ,  1.276     ,  1.282     ,  1.288     ,  1.294     ,\n",
       "        1.3       ,  1.306     ,  1.312     ,  1.318     ,  1.324     ,\n",
       "        1.33      ,  1.336     ,  1.342     ,  1.348     ,  1.354     ,\n",
       "        1.36      ,  1.366     ,  1.372     ,  1.378     ,  1.384     ,\n",
       "        1.39      ,  1.396     ,  1.402     ,  1.408     ,  1.414     ,\n",
       "        1.42      ,  1.426     ,  1.432     ,  1.438     ,  1.444     ,\n",
       "        1.45      ,  1.456     ,  1.462     ,  1.468     ,  1.474     ,\n",
       "        1.48      ,  1.486     ,  1.492     ,  1.498     ,  1.504     ,\n",
       "        1.51      ,  1.516     ,  1.522     ,  1.528     ,  1.534     ,\n",
       "        1.54      ,  1.546     ,  1.552     ,  1.558     ,  1.564     ,\n",
       "        1.57      ,  1.576     ,  1.582     ,  1.588     ,  1.594     ,\n",
       "        1.6       ,  1.606     ,  1.612     ,  1.618     ,  1.624     ,\n",
       "        1.63      ,  1.636     ,  1.642     ,  1.648     ,  1.654     ,\n",
       "        1.66      ,  1.666     ,  1.672     ,  1.678     ,  1.684     ,\n",
       "        1.69      ,  1.696     ,  1.702     ,  1.708     ,  1.714     ,\n",
       "        1.72      ,  1.726     ,  1.732     ,  1.738     ,  1.744     ,\n",
       "        1.75      ,  1.756     ,  1.762     ,  1.768     ,  1.774     ,\n",
       "        1.78      ,  1.786     ,  1.792     ,  1.798     ,  1.804     ,\n",
       "        1.81      ,  1.816     ,  1.822     ,  1.828     ,  1.834     ,\n",
       "        1.84      ,  1.846     ,  1.852     ,  1.858     ,  1.864     ,\n",
       "        1.87      ,  1.876     ,  1.882     ,  1.888     ,  1.894     ,\n",
       "        1.9       ,  1.906     ,  1.912     ,  1.918     ,  1.924     ,\n",
       "        1.93      ,  1.936     ,  1.942     ,  1.948     ,  1.954     ,\n",
       "        1.96      ,  1.966     ,  1.972     ,  1.978     ,  1.984     ,\n",
       "        1.99      ,  1.996     ,  2.002     ,  2.008     ,  2.014     ,\n",
       "        2.02      ,  2.026     ,  2.032     ,  2.038     ,  2.044     ,\n",
       "        2.05      ,  2.056     ,  2.062     ,  2.068     ,  2.074     ,\n",
       "        2.08      ,  2.086     ,  2.092     ,  2.098     ,  2.104     ,\n",
       "        2.11      ,  2.116     ,  2.122     ,  2.128     ,  2.134     ,\n",
       "        2.14      ,  2.146     ,  2.152     ,  2.158     ,  2.164     ,\n",
       "        2.17      ,  2.176     ,  2.182     ,  2.188     ,  2.194     ,\n",
       "        2.2       ,  2.206     ,  2.212     ,  2.218     ,  2.224     ,\n",
       "        2.23      ,  2.236     ,  2.242     ,  2.248     ,  2.254     ,\n",
       "        2.26      ,  2.266     ,  2.272     ,  2.278     ,  2.284     ,\n",
       "        2.29      ,  2.296     ,  2.302     ,  2.308     ,  2.314     ,\n",
       "        2.32      ,  2.326     ,  2.332     ,  2.338     ,  2.344     ,\n",
       "        2.35      ,  2.356     ,  2.362     ,  2.368     ,  2.374     ,\n",
       "        2.38      ,  2.386     ,  2.392     ,  2.398     ,  2.404     ,\n",
       "        2.41      ,  2.416     ,  2.422     ,  2.428     ,  2.434     ,\n",
       "        2.44      ,  2.446     ,  2.452     ,  2.458     ,  2.464     ,\n",
       "        2.47      ,  2.476     ,  2.482     ,  2.488     ,  2.494     ,\n",
       "        2.5       ,  2.506     ,  2.512     ,  2.518     ,  2.524     ,\n",
       "        2.53      ,  2.536     ,  2.542     ,  2.548     ,  2.554     ,\n",
       "        2.56      ,  2.566     ,  2.572     ,  2.578     ,  2.584     ,\n",
       "        2.59      ,  2.596     ,  2.602     ,  2.608     ,  2.614     ,\n",
       "        2.62      ,  2.626     ,  2.632     ,  2.638     ,  2.644     ,\n",
       "        2.65      ,  2.656     ,  2.662     ,  2.668     ,  2.674     ,\n",
       "        2.68      ,  2.686     ,  2.692     ,  2.698     ,  2.704     ,\n",
       "        2.71      ,  2.716     ,  2.722     ,  2.728     ,  2.734     ,\n",
       "        2.74      ,  2.746     ,  2.752     ,  2.758     ,  2.764     ,\n",
       "        2.77      ,  2.776     ,  2.782     ,  2.788     ,  2.794     ,\n",
       "        2.8       ,  2.806     ,  2.812     ,  2.818     ,  2.824     ,\n",
       "        2.83      ,  2.836     ,  2.842     ,  2.848     ,  2.854     ,\n",
       "        2.86      ,  2.866     ,  2.872     ,  2.878     ,  2.884     ,\n",
       "        2.89      ,  2.896     ,  2.902     ,  2.908     ,  2.914     ,\n",
       "        2.92      ,  2.926     ,  2.932     ,  2.938     ,  2.944     ,\n",
       "        2.95      ,  2.956     ,  2.962     ,  2.968     ,  2.974     ,\n",
       "        2.98      ,  2.986     ,  2.992     ,  2.998     ,  3.004     ,\n",
       "        3.01      ,  3.016     ,  3.022     ,  3.028     ,  3.034     ,\n",
       "        3.04      ,  3.046     ,  3.052     ,  3.058     ,  3.064     ,\n",
       "        3.07      ,  3.076     ,  3.082     ,  3.088     ,  3.094     ])"
      ]
     },
     "execution_count": 20,
     "metadata": {},
     "output_type": "execute_result"
    }
   ],
   "source": [
    "theta"
   ]
  },
  {
   "cell_type": "markdown",
   "metadata": {
    "collapsed": false,
    "jupyter": {
     "outputs_hidden": false
    }
   },
   "source": [
    "# Initial Estimator"
   ]
  },
  {
   "cell_type": "code",
   "execution_count": 21,
   "metadata": {
    "ExecuteTime": {
     "end_time": "2024-02-22T07:40:05.252328Z",
     "start_time": "2024-02-22T07:40:03.530380Z"
    }
   },
   "outputs": [],
   "source": [
    "init_b = np.zeros((M, K+1, p))\n",
    "init_beta = np.zeros((K+1, p))\n",
    "init_sigma = np.zeros(M)\n",
    "\n",
    "for m in range(M):\n",
    "    y_m = AY1[:, m]\n",
    "    idx = (A1[:, m] != 0)\n",
    "    X_m = X1[idx]\n",
    "    y_m = y_m[idx]\n",
    "    clf = LogisticRegression(random_state=0, fit_intercept=False).fit(X_m, y_m)\n",
    "    init_b[m] = clf.coef_\n",
    "    init_b[m] -= init_b[m, 0]\n",
    "    init_sigma[m] = 1 / norm(init_b[m])\n",
    "    init_beta += init_b[m] * init_sigma[m] / M\n",
    "\n",
    "init_beta = init_beta[1:]"
   ]
  },
  {
   "cell_type": "markdown",
   "metadata": {},
   "source": [
    "- Raw:"
   ]
  },
  {
   "cell_type": "code",
   "execution_count": 22,
   "metadata": {},
   "outputs": [
    {
     "data": {
      "text/plain": [
       "(0.008340973361465005, 1.8177646523736617)"
      ]
     },
     "execution_count": 22,
     "metadata": {},
     "output_type": "execute_result"
    }
   ],
   "source": [
    "norm(init_beta - beta[1:]), norm(init_sigma - sigma_list)"
   ]
  },
  {
   "cell_type": "markdown",
   "metadata": {},
   "source": [
    "- Rescale:"
   ]
  },
  {
   "cell_type": "code",
   "execution_count": 23,
   "metadata": {},
   "outputs": [
    {
     "data": {
      "text/plain": [
       "(0.004951624991006946, 1.7941770251084135)"
      ]
     },
     "execution_count": 23,
     "metadata": {},
     "output_type": "execute_result"
    }
   ],
   "source": [
    "init_scale = norm(init_beta)\n",
    "resc_init_beta = init_beta / init_scale\n",
    "resc_init_sigma = init_sigma / init_scale\n",
    "norm(resc_init_beta - beta[1:]), norm(resc_init_sigma - sigma_list)"
   ]
  },
  {
   "cell_type": "markdown",
   "metadata": {
    "collapsed": false,
    "jupyter": {
     "outputs_hidden": false
    }
   },
   "source": [
    "# One Step Update"
   ]
  },
  {
   "cell_type": "code",
   "execution_count": 24,
   "metadata": {
    "ExecuteTime": {
     "end_time": "2024-02-22T07:40:05.494217Z",
     "start_time": "2024-02-22T07:40:05.273226Z"
    },
    "collapsed": false,
    "jupyter": {
     "outputs_hidden": false
    }
   },
   "outputs": [],
   "source": [
    "os_model = OS(X1, AY1, A1, K, init_beta, init_sigma)\n",
    "os_beta, os_sigma = os_model.one_step_update()"
   ]
  },
  {
   "cell_type": "markdown",
   "metadata": {},
   "source": [
    "- Raw:"
   ]
  },
  {
   "cell_type": "code",
   "execution_count": 25,
   "metadata": {
    "ExecuteTime": {
     "end_time": "2024-02-22T07:40:05.497993Z",
     "start_time": "2024-02-22T07:40:05.494895Z"
    },
    "collapsed": false,
    "jupyter": {
     "outputs_hidden": false
    }
   },
   "outputs": [
    {
     "data": {
      "text/plain": [
       "(0.00663003041749186, 1.410350860645621)"
      ]
     },
     "execution_count": 25,
     "metadata": {},
     "output_type": "execute_result"
    }
   ],
   "source": [
    "norm(os_beta - beta[1:].ravel()), norm(os_sigma - sigma_list)"
   ]
  },
  {
   "cell_type": "markdown",
   "metadata": {},
   "source": [
    "- Rescale:"
   ]
  },
  {
   "cell_type": "code",
   "execution_count": 26,
   "metadata": {},
   "outputs": [
    {
     "name": "stdout",
     "output_type": "stream",
     "text": [
      "0.9952609194000794\n"
     ]
    },
    {
     "data": {
      "text/plain": [
       "(0.0046476646040228805, 1.4017330207718566)"
      ]
     },
     "execution_count": 26,
     "metadata": {},
     "output_type": "execute_result"
    }
   ],
   "source": [
    "os_scale = norm(os_beta); print(os_scale)\n",
    "os_beta /= os_scale\n",
    "os_sigma /= os_scale\n",
    "norm(os_beta - beta[1:].ravel()), norm(os_sigma - sigma_list)"
   ]
  },
  {
   "cell_type": "markdown",
   "metadata": {},
   "source": [
    "# Oracle"
   ]
  },
  {
   "cell_type": "code",
   "execution_count": 27,
   "metadata": {},
   "outputs": [
    {
     "name": "stdout",
     "output_type": "stream",
     "text": [
      "[Step 1] beta difference norm:0.00589\n",
      "[Step 2] beta difference norm:0.00004\n"
     ]
    }
   ],
   "source": [
    "oracle_model = ORACLE(X1, AY1, A1, K, init_beta, sigma_list)\n",
    "oracle_beta = oracle_model.NR_alg(max_steps=20, lbd=0.001)"
   ]
  },
  {
   "cell_type": "markdown",
   "metadata": {},
   "source": [
    "- Raw:"
   ]
  },
  {
   "cell_type": "code",
   "execution_count": 28,
   "metadata": {},
   "outputs": [
    {
     "data": {
      "text/plain": [
       "0.004229443672195607"
      ]
     },
     "execution_count": 28,
     "metadata": {},
     "output_type": "execute_result"
    }
   ],
   "source": [
    "norm(oracle_beta - beta[1:].ravel())"
   ]
  },
  {
   "cell_type": "markdown",
   "metadata": {
    "collapsed": false,
    "jupyter": {
     "outputs_hidden": false
    }
   },
   "source": [
    "# MLE"
   ]
  },
  {
   "cell_type": "code",
   "execution_count": 29,
   "metadata": {
    "scrolled": true
   },
   "outputs": [
    {
     "name": "stdout",
     "output_type": "stream",
     "text": [
      "[Step 1] theta difference norm:1.16345\n",
      "[Step 2] theta difference norm:0.22375\n"
     ]
    }
   ],
   "source": [
    "from model.MLE import MLE\n",
    "\n",
    "mle_model = MLE(X1, AY1, A1, K, init_beta, init_sigma)\n",
    "mle_model.NR_alg(max_steps=20, lbd=0.001)\n",
    "mle_beta = mle_model.beta\n",
    "mle_sigma = mle_model.sigma"
   ]
  },
  {
   "cell_type": "markdown",
   "metadata": {},
   "source": [
    "- Raw:"
   ]
  },
  {
   "cell_type": "code",
   "execution_count": 30,
   "metadata": {},
   "outputs": [
    {
     "data": {
      "text/plain": [
       "(0.008513920647739232, 1.405484607678991)"
      ]
     },
     "execution_count": 30,
     "metadata": {},
     "output_type": "execute_result"
    }
   ],
   "source": [
    "norm(mle_beta.ravel() - beta[1:].ravel()), norm(mle_sigma - sigma_list)"
   ]
  },
  {
   "cell_type": "markdown",
   "metadata": {},
   "source": [
    "- Rescale:"
   ]
  },
  {
   "cell_type": "code",
   "execution_count": 31,
   "metadata": {},
   "outputs": [
    {
     "data": {
      "text/plain": [
       "(0.003953508566164229, 1.4437815206800964)"
      ]
     },
     "execution_count": 31,
     "metadata": {},
     "output_type": "execute_result"
    }
   ],
   "source": [
    "mle_scale = norm(mle_beta)\n",
    "mle_beta /= mle_scale\n",
    "mle_sigma /= mle_scale\n",
    "norm(mle_beta.ravel() - beta[1:].ravel()), norm(mle_sigma - sigma_list)"
   ]
  },
  {
   "cell_type": "markdown",
   "metadata": {
    "collapsed": false,
    "jupyter": {
     "outputs_hidden": false
    }
   },
   "source": [
    "# Compare"
   ]
  },
  {
   "cell_type": "code",
   "execution_count": 32,
   "metadata": {
    "ExecuteTime": {
     "end_time": "2024-02-22T07:40:26.939505Z",
     "start_time": "2024-02-22T07:40:26.935164Z"
    },
    "collapsed": false,
    "jupyter": {
     "outputs_hidden": false
    }
   },
   "outputs": [],
   "source": [
    "B = 100\n",
    "RMSE_results = []"
   ]
  },
  {
   "cell_type": "code",
   "execution_count": null,
   "metadata": {
    "ExecuteTime": {
     "end_time": "2024-02-22T08:38:38.651659Z",
     "start_time": "2024-02-22T07:40:26.961675Z"
    },
    "collapsed": false,
    "jupyter": {
     "outputs_hidden": false
    },
    "scrolled": true
   },
   "outputs": [
    {
     "name": "stdout",
     "output_type": "stream",
     "text": [
      "True Labels 1    39315\n",
      "0    33292\n",
      "2    27393\n",
      "dtype: int64 \n",
      "\n"
     ]
    }
   ],
   "source": [
    "for seed in range(B):\n",
    "    RMSE_list = [seed, n, alpha, M, ]\n",
    "    np.random.seed(seed)\n",
    "    beta, sigma_list, theta, X, Y, X1, X2, Y1, Y2, A1, AY1 = generate_data(K, p, N, n, M, alpha, seed=seed)\n",
    "\n",
    "    # Initial Estimator\n",
    "    init_model = Initial(X1, AY1, A1, K)\n",
    "    init_model.opt_alg()\n",
    "    init_beta = init_model.initial_beta[1:]  # (K, p)\n",
    "    init_sigma = init_model.initial_sigma    # (M,)\n",
    "    init_beta_rmse = norm(init_beta.ravel() - beta[1:].ravel())\n",
    "    init_sigma_rmse = norm(init_sigma - sigma_list)\n",
    "    RMSE_list += [init_beta_rmse, init_sigma_rmse]\n",
    "    \n",
    "    # OS (One-Step) Estimator \n",
    "    # [1. Raw]\n",
    "    os_model = OS(X1, AY1, A1, K, init_beta, init_sigma)\n",
    "    os_beta, os_sigma = os_model.one_step_update()\n",
    "    os_beta_rmse = norm(os_beta - beta[1:].ravel())\n",
    "    os_sigma_rmse = norm(os_sigma - sigma_list)\n",
    "    RMSE_list += [os_beta_rmse, os_sigma_rmse]\n",
    "    # [2. Rescale]\n",
    "    os_scale = norm(os_beta)\n",
    "    os_beta /= os_scale\n",
    "    os_sigma /= os_scale\n",
    "    os_beta_rmse = norm(os_beta - beta[1:].ravel())\n",
    "    os_sigma_rmse = norm(os_sigma - sigma_list)\n",
    "    RMSE_list += [os_beta_rmse, os_sigma_rmse]\n",
    "    \n",
    "    # MLE\n",
    "    # [1. Raw]\n",
    "    mle_model = MLE(X1, AY1, A1, K, init_beta, init_sigma)\n",
    "    mle_beta, mle_sigma = mle_model.NR_alg(max_steps=0, lbd=0.001)\n",
    "    mle_beta_rmse = norm(mle_beta - beta[1:].ravel())\n",
    "    mle_sigma_rmse = norm(mle_sigma - sigma_list)\n",
    "    RMSE_list += [mle_beta_rmse, mle_sigma_rmse]\n",
    "    # [2. Rescale]\n",
    "    mle_scale = norm(mle_beta)\n",
    "    mle_beta /= mle_scale\n",
    "    mle_sigma /= mle_scale\n",
    "    mle_beta_rmse = norm(mle_beta - beta[1:].ravel())\n",
    "    mle_sigma_rmse = norm(mle_sigma - sigma_list)\n",
    "    RMSE_list += [mle_beta_rmse, mle_sigma_rmse]\n",
    "\n",
    "    # Oracle\n",
    "    # [1. Raw]\n",
    "    oracle_model = ORACLE(X1, AY1, A1, K, init_beta, sigma_list)\n",
    "    ora_beta = oracle_model.NR_alg(max_steps=20, lbd=0.001)\n",
    "    ora_beta_rmse = norm(ora_beta - beta[1:].ravel())\n",
    "    RMSE_list.append(ora_beta_rmse)\n",
    "    # [2. Rescale]\n",
    "    ora_scale = norm(ora_beta)\n",
    "    ora_beta /= ora_scale\n",
    "    ora_beta_rmse = norm(ora_beta - beta[1:].ravel())\n",
    "    RMSE_list.append(ora_beta_rmse)\n",
    "\n",
    "    # Record Results\n",
    "    RMSE_results.append(RMSE_list)\n",
    "    a = pd.DataFrame(RMSE_results, \n",
    "                     columns=[\"seed\", \"n\", \"alpha\", \"M\",\n",
    "                              \"init_beta\", \"init_sigma\", \n",
    "                              \"os_beta_raw\", \"os_sigma_raw\",\n",
    "                              \"os_beta_resc\", \"os_sigma_resc\",\n",
    "                              \"mle_beta_raw\", \"mle_sigma_raw\",\n",
    "                              \"mle_beta_resc\", \"mle_sigma_resc\",\n",
    "                              \"oracle_beta_raw\", \"oracle_beta_resc\"])\n",
    "    a.to_csv(f\"/Users/helenology/Desktop/[M={M}]rmse_data.csv\")"
   ]
  },
  {
   "cell_type": "code",
   "execution_count": null,
   "metadata": {},
   "outputs": [],
   "source": []
  },
  {
   "cell_type": "code",
   "execution_count": null,
   "metadata": {},
   "outputs": [],
   "source": []
  },
  {
   "cell_type": "code",
   "execution_count": null,
   "metadata": {},
   "outputs": [],
   "source": []
  }
 ],
 "metadata": {
  "kernelspec": {
   "display_name": "Python 3 (ipykernel)",
   "language": "python",
   "name": "python3"
  },
  "language_info": {
   "codemirror_mode": {
    "name": "ipython",
    "version": 3
   },
   "file_extension": ".py",
   "mimetype": "text/x-python",
   "name": "python",
   "nbconvert_exporter": "python",
   "pygments_lexer": "ipython3",
   "version": "3.9.7"
  }
 },
 "nbformat": 4,
 "nbformat_minor": 4
}
