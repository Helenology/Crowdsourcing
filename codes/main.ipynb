{
 "cells": [
  {
   "cell_type": "code",
   "execution_count": 1,
   "metadata": {
    "ExecuteTime": {
     "end_time": "2024-06-09T13:07:29.853536Z",
     "start_time": "2024-06-09T13:07:29.847323Z"
    }
   },
   "outputs": [
    {
     "name": "stderr",
     "output_type": "stream",
     "text": [
      "/opt/anaconda3/lib/python3.9/site-packages/scipy/__init__.py:146: UserWarning: A NumPy version >=1.16.5 and <1.23.0 is required for this version of SciPy (detected version 1.24.3\n",
      "  warnings.warn(f\"A NumPy version >={np_minversion} and <{np_maxversion}\"\n"
     ]
    }
   ],
   "source": [
    "import numpy as np\n",
    "import pandas as pd\n",
    "from numpy.linalg import norm\n",
    "from sklearn.model_selection import train_test_split\n",
    "import matplotlib.pyplot as plt\n",
    "from data.generate_data import generate_data"
   ]
  },
  {
   "cell_type": "markdown",
   "metadata": {
    "ExecuteTime": {
     "end_time": "2024-06-09T13:08:21.298583Z",
     "start_time": "2024-06-09T13:08:21.224257Z"
    },
    "collapsed": false,
    "jupyter": {
     "outputs_hidden": false
    }
   },
   "source": [
    "# Hyperparameters"
   ]
  },
  {
   "cell_type": "code",
   "execution_count": 2,
   "metadata": {
    "ExecuteTime": {
     "end_time": "2024-06-09T13:08:20.241157Z",
     "start_time": "2024-06-09T13:08:20.145109Z"
    },
    "collapsed": false,
    "jupyter": {
     "outputs_hidden": false
    }
   },
   "outputs": [
    {
     "name": "stdout",
     "output_type": "stream",
     "text": [
      "alpha=1.0000\n",
      "[n*alpha=5000/N=100000]\n",
      "[M=200] vs [n*alpha=5000]\n"
     ]
    }
   ],
   "source": [
    "seed = 0\n",
    "np.random.seed(seed=seed)\n",
    "\n",
    "N = 100000        # the size of the unlabeled dataset\n",
    "n = 5000            # pilot sample size\n",
    "alpha = 1 # n**(-0.1)  \n",
    "print(f\"alpha={alpha:.4f}\")\n",
    "\n",
    "p = 25          # feature dimension\n",
    "K = 2           # (K+1) classes\n",
    "M = 200          # the size of the annotator pool\n",
    "print(f\"[n*alpha={int(n*alpha)}/N={N}]\")\n",
    "print(f\"[M={M}] vs [n*alpha={int(n*alpha)}]\")"
   ]
  },
  {
   "cell_type": "markdown",
   "metadata": {},
   "source": [
    "# Data Generation"
   ]
  },
  {
   "cell_type": "code",
   "execution_count": 3,
   "metadata": {
    "scrolled": true
   },
   "outputs": [
    {
     "name": "stdout",
     "output_type": "stream",
     "text": [
      "True Labels 0    36979\n",
      "1    32505\n",
      "2    30516\n",
      "dtype: int64 \n",
      "\n",
      "[[0. 0. 0. 0. 0. 0. 0. 0. 0. 0. 0. 2. 1. 0. 1. 1. 1. 1. 0. 2. 0. 1. 1. 0.\n",
      "  1. 0. 0. 0. 1. 0. 2. 2. 2. 0. 0. 1. 0. 0. 0. 2. 0. 1. 1. 1. 0. 1. 1. 1.\n",
      "  2. 0. 0. 1. 1. 1. 2. 0. 1. 2. 1. 2. 2. 1. 2. 0. 2. 0. 0. 2. 1. 0. 1. 0.\n",
      "  2. 1. 2. 0. 2. 0. 1. 0. 1. 0. 1. 2. 1. 2. 2. 1. 2. 0. 0. 0. 2. 0. 2. 2.\n",
      "  2. 2. 0. 1. 1. 0. 0. 1. 2. 0. 1. 2. 2. 2. 1. 1. 2. 0. 1. 2. 0. 2. 1. 0.\n",
      "  1. 1. 2. 0. 2. 2. 1. 2. 2. 2. 0. 2. 1. 2. 0. 2. 2. 0. 1. 0. 1. 1. 1. 1.\n",
      "  0. 2. 1. 0. 2. 0. 0. 1. 2. 1. 2. 2. 0. 0. 1. 2. 0. 2. 0. 1. 1. 0. 0. 2.\n",
      "  2. 0. 0. 2. 2. 0. 0. 2. 2. 0. 0. 0. 0. 1. 2. 1. 2. 1. 0. 1. 0. 2. 1. 2.\n",
      "  2. 1. 2. 0. 0. 2. 0. 2.]\n",
      " [2. 2. 2. 2. 1. 2. 2. 2. 2. 2. 2. 1. 2. 2. 2. 0. 1. 2. 0. 2. 1. 2. 1. 0.\n",
      "  0. 2. 2. 0. 1. 2. 0. 2. 2. 1. 2. 1. 2. 1. 0. 2. 0. 2. 0. 0. 1. 2. 1. 1.\n",
      "  1. 1. 2. 2. 2. 2. 0. 2. 0. 0. 2. 1. 1. 1. 1. 0. 2. 0. 1. 0. 1. 0. 2. 2.\n",
      "  1. 2. 1. 1. 2. 1. 2. 0. 2. 2. 1. 2. 1. 0. 0. 1. 0. 2. 1. 0. 2. 2. 2. 1.\n",
      "  2. 1. 0. 2. 0. 0. 1. 1. 0. 0. 2. 0. 0. 2. 2. 2. 1. 2. 0. 0. 2. 0. 1. 1.\n",
      "  1. 1. 1. 0. 0. 0. 0. 0. 0. 2. 2. 0. 0. 2. 1. 0. 1. 1. 2. 0. 1. 1. 1. 0.\n",
      "  2. 2. 1. 1. 1. 0. 0. 2. 0. 0. 0. 0. 2. 2. 1. 1. 1. 0. 2. 0. 0. 2. 2. 0.\n",
      "  1. 0. 2. 0. 2. 0. 0. 2. 0. 1. 2. 1. 1. 0. 0. 2. 0. 2. 1. 1. 1. 2. 2. 1.\n",
      "  0. 2. 2. 1. 1. 2. 0. 1.]]\n"
     ]
    }
   ],
   "source": [
    "beta, sigma_list, theta, X, Y, X1, X2, Y1, Y2, A1, AY1 = generate_data(K, p, N, n, M, alpha, seed=0)"
   ]
  },
  {
   "cell_type": "markdown",
   "metadata": {
    "collapsed": false,
    "jupyter": {
     "outputs_hidden": false
    }
   },
   "source": [
    "# Initial Estimator"
   ]
  },
  {
   "cell_type": "code",
   "execution_count": 4,
   "metadata": {
    "ExecuteTime": {
     "end_time": "2024-02-22T07:40:03.531050Z",
     "start_time": "2024-02-22T07:40:03.501340Z"
    },
    "collapsed": false,
    "jupyter": {
     "outputs_hidden": false
    }
   },
   "outputs": [],
   "source": [
    "from sklearn.linear_model import LogisticRegression\n",
    "\n",
    "initial_b = np.zeros((M, K+1, p))\n",
    "initial_beta = np.zeros((K+1, p))\n",
    "initial_sigma = np.zeros(M)"
   ]
  },
  {
   "cell_type": "code",
   "execution_count": 5,
   "metadata": {
    "ExecuteTime": {
     "end_time": "2024-02-22T07:40:05.252328Z",
     "start_time": "2024-02-22T07:40:03.530380Z"
    },
    "collapsed": false,
    "jupyter": {
     "outputs_hidden": false
    }
   },
   "outputs": [],
   "source": [
    "for m in range(M):\n",
    "    y_m = AY1[:, m]\n",
    "    idx = (A1[:, m] != 0)\n",
    "    X_m = X1[idx]\n",
    "    y_m = y_m[idx]\n",
    "    clf = LogisticRegression(random_state=0, fit_intercept=False).fit(X_m, y_m)\n",
    "    initial_b[m] = clf.coef_\n",
    "    initial_b[m] -= initial_b[m, 0]\n",
    "    initial_sigma[m] = 1 / norm(initial_b[m])\n",
    "    initial_beta += initial_b[m] * initial_sigma[m] / M"
   ]
  },
  {
   "cell_type": "code",
   "execution_count": 6,
   "metadata": {
    "ExecuteTime": {
     "end_time": "2024-02-22T07:40:05.257905Z",
     "start_time": "2024-02-22T07:40:05.255958Z"
    },
    "collapsed": false,
    "jupyter": {
     "outputs_hidden": false
    }
   },
   "outputs": [],
   "source": [
    "initial_theta = np.zeros(p * (K+1) + M)\n",
    "initial_theta[:(p * (K+1))] = initial_beta.ravel()\n",
    "initial_theta[(p * (K+1)):] = initial_sigma"
   ]
  },
  {
   "cell_type": "code",
   "execution_count": 7,
   "metadata": {
    "ExecuteTime": {
     "end_time": "2024-02-22T07:40:05.262381Z",
     "start_time": "2024-02-22T07:40:05.259751Z"
    },
    "collapsed": false,
    "jupyter": {
     "outputs_hidden": false
    }
   },
   "outputs": [
    {
     "data": {
      "text/plain": [
       "(0.3424202099798993, 42.70290552011125)"
      ]
     },
     "execution_count": 7,
     "metadata": {},
     "output_type": "execute_result"
    }
   ],
   "source": [
    "norm(initial_beta - beta), norm(initial_sigma - sigma_list)"
   ]
  },
  {
   "cell_type": "code",
   "execution_count": 8,
   "metadata": {
    "ExecuteTime": {
     "end_time": "2024-02-22T07:40:05.269221Z",
     "start_time": "2024-02-22T07:40:05.266442Z"
    },
    "collapsed": false,
    "jupyter": {
     "outputs_hidden": false
    }
   },
   "outputs": [
    {
     "data": {
      "text/plain": [
       "(array([2.90066357, 2.78924245, 3.36764056, 2.98284874, 3.80218463,\n",
       "        3.3653014 , 3.02257884, 3.17210824, 3.39102676, 3.4233943 ]),\n",
       " array([4.6 , 4.65, 4.7 , 4.75, 4.8 , 4.85, 4.9 , 4.95, 5.  , 5.05]))"
      ]
     },
     "execution_count": 8,
     "metadata": {},
     "output_type": "execute_result"
    }
   ],
   "source": [
    "star_idx = 90\n",
    "end_idx = 100\n",
    "initial_sigma[star_idx:end_idx], sigma_list[star_idx:end_idx]"
   ]
  },
  {
   "cell_type": "markdown",
   "metadata": {
    "collapsed": false,
    "jupyter": {
     "outputs_hidden": false
    }
   },
   "source": [
    "# One Step Update"
   ]
  },
  {
   "cell_type": "code",
   "execution_count": 9,
   "metadata": {
    "ExecuteTime": {
     "end_time": "2024-02-22T07:40:05.272701Z",
     "start_time": "2024-02-22T07:40:05.269641Z"
    },
    "collapsed": false,
    "jupyter": {
     "outputs_hidden": false
    }
   },
   "outputs": [],
   "source": [
    "from model.OS_Update import OS"
   ]
  },
  {
   "cell_type": "code",
   "execution_count": 10,
   "metadata": {},
   "outputs": [
    {
     "data": {
      "text/plain": [
       "(2, 25)"
      ]
     },
     "execution_count": 10,
     "metadata": {},
     "output_type": "execute_result"
    }
   ],
   "source": [
    "initial_beta[1:,].shape"
   ]
  },
  {
   "cell_type": "code",
   "execution_count": 11,
   "metadata": {
    "ExecuteTime": {
     "end_time": "2024-02-22T07:40:05.494217Z",
     "start_time": "2024-02-22T07:40:05.273226Z"
    },
    "collapsed": false,
    "jupyter": {
     "outputs_hidden": false
    }
   },
   "outputs": [
    {
     "name": "stdout",
     "output_type": "stream",
     "text": [
      "[1st derivative] beta\n",
      "[1st derivative] sigma\n",
      "[2st derivative] (j, k)\n",
      "[2st derivative] (j, k)\n",
      "[2st derivative] (j, k)\n",
      "[2st derivative] (j, k)\n"
     ]
    }
   ],
   "source": [
    "os_model = OS(X1, AY1, A1, K, initial_beta[1:,], initial_sigma)\n",
    "os_beta, os_sigma = os_model.one_step_update()"
   ]
  },
  {
   "cell_type": "code",
   "execution_count": 12,
   "metadata": {
    "ExecuteTime": {
     "end_time": "2024-02-22T07:40:05.497993Z",
     "start_time": "2024-02-22T07:40:05.494895Z"
    },
    "collapsed": false,
    "jupyter": {
     "outputs_hidden": false
    }
   },
   "outputs": [
    {
     "data": {
      "text/plain": [
       "(0.15294440412649957, 41.39192425148104)"
      ]
     },
     "execution_count": 12,
     "metadata": {},
     "output_type": "execute_result"
    }
   ],
   "source": [
    "norm(os_beta - beta[1:].ravel()), norm(os_sigma - sigma_list)"
   ]
  },
  {
   "cell_type": "markdown",
   "metadata": {
    "collapsed": false,
    "jupyter": {
     "outputs_hidden": false
    }
   },
   "source": [
    "# MLE"
   ]
  },
  {
   "cell_type": "code",
   "execution_count": 13,
   "metadata": {
    "ExecuteTime": {
     "end_time": "2024-02-22T07:40:05.501462Z",
     "start_time": "2024-02-22T07:40:05.498359Z"
    },
    "collapsed": false,
    "jupyter": {
     "outputs_hidden": false
    }
   },
   "outputs": [],
   "source": [
    "from model.MLE import MLE"
   ]
  },
  {
   "cell_type": "code",
   "execution_count": 17,
   "metadata": {
    "ExecuteTime": {
     "end_time": "2024-02-22T07:40:05.597024Z",
     "start_time": "2024-02-22T07:40:05.501719Z"
    },
    "collapsed": false,
    "jupyter": {
     "outputs_hidden": false
    }
   },
   "outputs": [],
   "source": [
    "mle_model = MLE(X1, AY1, A1, K)"
   ]
  },
  {
   "cell_type": "code",
   "execution_count": 18,
   "metadata": {
    "ExecuteTime": {
     "end_time": "2024-02-22T07:40:26.902279Z",
     "start_time": "2024-02-22T07:40:05.602171Z"
    },
    "collapsed": false,
    "jupyter": {
     "outputs_hidden": false
    }
   },
   "outputs": [
    {
     "name": "stdout",
     "output_type": "stream",
     "text": [
      "theta[0:10] [-0.09594988  0.15150568  0.09589963 -0.12253131  0.03141645 -0.06312394\n",
      "  0.06017164  0.12125044 -0.11149135 -0.26911384]\n",
      "[step 1] with likelihood: -390.081717101699; theta diff:  4.383183\n",
      "theta[0:10] [-0.16310458 -0.15963652 -0.07275865  0.17277371 -0.00469099  0.0624391\n",
      " -0.02150201 -0.16693785  0.06255899  0.25131659]\n",
      "[step 2] with likelihood: -740.5381781512043; theta diff:  34.082963\n",
      "theta[0:10] [-0.1265106   0.13262915  0.07330054 -0.1223742   0.03570405 -0.06266097\n",
      "  0.00572104  0.13622498 -0.10313764 -0.25063264]\n",
      "[step 3] with likelihood: -2054.7503939080684; theta diff:  1287.040308\n",
      "theta[0:10] [-0.18229579 -0.1329754  -0.07293941  0.17790312 -0.0130212   0.0530392\n",
      "  0.02838887 -0.17076875  0.08269547  0.26263253]\n",
      "[step 4] with likelihood: -1053.7032082368542; theta diff:  62.873642\n",
      "theta[0:10] [-0.11005808  0.10018839  0.07223351 -0.117917    0.0566832  -0.05012668\n",
      " -0.03948094  0.12986031 -0.1259202  -0.25793149]\n",
      "[step 5] with likelihood: -1976.87260845697; theta diff:  1576.186020\n",
      "theta[0:10] [-0.20425234 -0.09216871 -0.07679827  0.16516927 -0.04112805  0.03777805\n",
      "  0.06912483 -0.15621757  0.11178377  0.27314383]\n",
      "[step 6] with likelihood: -1215.690423748586; theta diff:  97.078342\n",
      "theta[0:10] [-0.09773418  0.06172506  0.07304914 -0.09744808  0.08614285 -0.03451878\n",
      " -0.06703483  0.10294998 -0.14968745 -0.26120473]\n",
      "[step 7] with likelihood: -1881.2028906209043; theta diff:  3972.463855\n",
      "theta[0:10] [-0.21936946 -0.05525571 -0.07884288  0.13968086 -0.07116171  0.02340899\n",
      "  0.09201337 -0.1268462   0.13824177  0.27377934]\n",
      "[step 8] with likelihood: -1477.9971445628846; theta diff:  2807.284218\n",
      "theta[0:10] [nan nan nan nan nan nan nan nan nan nan]\n",
      "[step 9] with likelihood: nan; theta diff:  nan\n",
      "theta[0:10] [nan nan nan nan nan nan nan nan nan nan]\n",
      "[step 10] with likelihood: nan; theta diff:  nan\n",
      "theta[0:10] [nan nan nan nan nan nan nan nan nan nan]\n",
      "[step 11] with likelihood: nan; theta diff:  nan\n",
      "theta[0:10] [nan nan nan nan nan nan nan nan nan nan]\n",
      "[step 12] with likelihood: nan; theta diff:  nan\n",
      "theta[0:10] [nan nan nan nan nan nan nan nan nan nan]\n",
      "[step 13] with likelihood: nan; theta diff:  nan\n",
      "theta[0:10] [nan nan nan nan nan nan nan nan nan nan]\n",
      "[step 14] with likelihood: nan; theta diff:  nan\n",
      "theta[0:10] [nan nan nan nan nan nan nan nan nan nan]\n",
      "[step 15] with likelihood: nan; theta diff:  nan\n",
      "theta[0:10] [nan nan nan nan nan nan nan nan nan nan]\n",
      "[step 16] with likelihood: nan; theta diff:  nan\n",
      "theta[0:10] [nan nan nan nan nan nan nan nan nan nan]\n",
      "[step 17] with likelihood: nan; theta diff:  nan\n",
      "theta[0:10] [nan nan nan nan nan nan nan nan nan nan]\n",
      "[step 18] with likelihood: nan; theta diff:  nan\n",
      "theta[0:10] [nan nan nan nan nan nan nan nan nan nan]\n",
      "[step 19] with likelihood: nan; theta diff:  nan\n",
      "theta[0:10] [nan nan nan nan nan nan nan nan nan nan]\n",
      "[step 20] with likelihood: nan; theta diff:  nan\n",
      "theta[0:10] [nan nan nan nan nan nan nan nan nan nan]\n",
      "[step 21] with likelihood: nan; theta diff:  nan\n",
      "theta[0:10] [nan nan nan nan nan nan nan nan nan nan]\n",
      "[step 22] with likelihood: nan; theta diff:  nan\n",
      "theta[0:10] [nan nan nan nan nan nan nan nan nan nan]\n",
      "[step 23] with likelihood: nan; theta diff:  nan\n",
      "theta[0:10] [nan nan nan nan nan nan nan nan nan nan]\n",
      "[step 24] with likelihood: nan; theta diff:  nan\n",
      "theta[0:10] [nan nan nan nan nan nan nan nan nan nan]\n",
      "[step 25] with likelihood: nan; theta diff:  nan\n",
      "theta[0:10] [nan nan nan nan nan nan nan nan nan nan]\n",
      "[step 26] with likelihood: nan; theta diff:  nan\n",
      "theta[0:10] [nan nan nan nan nan nan nan nan nan nan]\n",
      "[step 27] with likelihood: nan; theta diff:  nan\n",
      "theta[0:10] [nan nan nan nan nan nan nan nan nan nan]\n",
      "[step 28] with likelihood: nan; theta diff:  nan\n",
      "theta[0:10] [nan nan nan nan nan nan nan nan nan nan]\n",
      "[step 29] with likelihood: nan; theta diff:  nan\n",
      "theta[0:10] [nan nan nan nan nan nan nan nan nan nan]\n",
      "[step 30] with likelihood: nan; theta diff:  nan\n",
      "theta[0:10] [nan nan nan nan nan nan nan nan nan nan]\n",
      "[step 31] with likelihood: nan; theta diff:  nan\n",
      "theta[0:10] [nan nan nan nan nan nan nan nan nan nan]\n",
      "[step 32] with likelihood: nan; theta diff:  nan\n",
      "theta[0:10] [nan nan nan nan nan nan nan nan nan nan]\n",
      "[step 33] with likelihood: nan; theta diff:  nan\n",
      "theta[0:10] [nan nan nan nan nan nan nan nan nan nan]\n",
      "[step 34] with likelihood: nan; theta diff:  nan\n",
      "theta[0:10] [nan nan nan nan nan nan nan nan nan nan]\n",
      "[step 35] with likelihood: nan; theta diff:  nan\n",
      "theta[0:10] [nan nan nan nan nan nan nan nan nan nan]\n",
      "[step 36] with likelihood: nan; theta diff:  nan\n",
      "theta[0:10] [nan nan nan nan nan nan nan nan nan nan]\n",
      "[step 37] with likelihood: nan; theta diff:  nan\n",
      "theta[0:10] [nan nan nan nan nan nan nan nan nan nan]\n",
      "[step 38] with likelihood: nan; theta diff:  nan\n",
      "theta[0:10] [nan nan nan nan nan nan nan nan nan nan]\n",
      "[step 39] with likelihood: nan; theta diff:  nan\n",
      "theta[0:10] [nan nan nan nan nan nan nan nan nan nan]\n",
      "[step 40] with likelihood: nan; theta diff:  nan\n",
      "theta[0:10] [nan nan nan nan nan nan nan nan nan nan]\n",
      "[step 41] with likelihood: nan; theta diff:  nan\n",
      "theta[0:10] [nan nan nan nan nan nan nan nan nan nan]\n",
      "[step 42] with likelihood: nan; theta diff:  nan\n",
      "theta[0:10] [nan nan nan nan nan nan nan nan nan nan]\n",
      "[step 43] with likelihood: nan; theta diff:  nan\n",
      "theta[0:10] [nan nan nan nan nan nan nan nan nan nan]\n",
      "[step 44] with likelihood: nan; theta diff:  nan\n",
      "theta[0:10] [nan nan nan nan nan nan nan nan nan nan]\n",
      "[step 45] with likelihood: nan; theta diff:  nan\n",
      "theta[0:10] [nan nan nan nan nan nan nan nan nan nan]\n",
      "[step 46] with likelihood: nan; theta diff:  nan\n",
      "theta[0:10] [nan nan nan nan nan nan nan nan nan nan]\n",
      "[step 47] with likelihood: nan; theta diff:  nan\n",
      "theta[0:10] [nan nan nan nan nan nan nan nan nan nan]\n",
      "[step 48] with likelihood: nan; theta diff:  nan\n",
      "theta[0:10] [nan nan nan nan nan nan nan nan nan nan]\n",
      "[step 49] with likelihood: nan; theta diff:  nan\n",
      "theta[0:10] [nan nan nan nan nan nan nan nan nan nan]\n",
      "[step 50] with likelihood: nan; theta diff:  nan\n",
      "theta[0:10] [nan nan nan nan nan nan nan nan nan nan]\n",
      "[step 51] with likelihood: nan; theta diff:  nan\n",
      "theta[0:10] [nan nan nan nan nan nan nan nan nan nan]\n",
      "[step 52] with likelihood: nan; theta diff:  nan\n",
      "theta[0:10] [nan nan nan nan nan nan nan nan nan nan]\n",
      "[step 53] with likelihood: nan; theta diff:  nan\n",
      "theta[0:10] [nan nan nan nan nan nan nan nan nan nan]\n",
      "[step 54] with likelihood: nan; theta diff:  nan\n",
      "theta[0:10] [nan nan nan nan nan nan nan nan nan nan]\n",
      "[step 55] with likelihood: nan; theta diff:  nan\n",
      "theta[0:10] [nan nan nan nan nan nan nan nan nan nan]\n",
      "[step 56] with likelihood: nan; theta diff:  nan\n",
      "theta[0:10] [nan nan nan nan nan nan nan nan nan nan]\n",
      "[step 57] with likelihood: nan; theta diff:  nan\n",
      "theta[0:10] [nan nan nan nan nan nan nan nan nan nan]\n",
      "[step 58] with likelihood: nan; theta diff:  nan\n",
      "theta[0:10] [nan nan nan nan nan nan nan nan nan nan]\n",
      "[step 59] with likelihood: nan; theta diff:  nan\n",
      "theta[0:10] [nan nan nan nan nan nan nan nan nan nan]\n",
      "[step 60] with likelihood: nan; theta diff:  nan\n",
      "theta[0:10] [nan nan nan nan nan nan nan nan nan nan]\n",
      "[step 61] with likelihood: nan; theta diff:  nan\n",
      "theta[0:10] [nan nan nan nan nan nan nan nan nan nan]\n",
      "[step 62] with likelihood: nan; theta diff:  nan\n",
      "theta[0:10] [nan nan nan nan nan nan nan nan nan nan]\n",
      "[step 63] with likelihood: nan; theta diff:  nan\n",
      "theta[0:10] [nan nan nan nan nan nan nan nan nan nan]\n",
      "[step 64] with likelihood: nan; theta diff:  nan\n",
      "theta[0:10] [nan nan nan nan nan nan nan nan nan nan]\n",
      "[step 65] with likelihood: nan; theta diff:  nan\n",
      "theta[0:10] [nan nan nan nan nan nan nan nan nan nan]\n",
      "[step 66] with likelihood: nan; theta diff:  nan\n",
      "theta[0:10] [nan nan nan nan nan nan nan nan nan nan]\n",
      "[step 67] with likelihood: nan; theta diff:  nan\n",
      "theta[0:10] [nan nan nan nan nan nan nan nan nan nan]\n",
      "[step 68] with likelihood: nan; theta diff:  nan\n",
      "theta[0:10] [nan nan nan nan nan nan nan nan nan nan]\n",
      "[step 69] with likelihood: nan; theta diff:  nan\n",
      "theta[0:10] [nan nan nan nan nan nan nan nan nan nan]\n",
      "[step 70] with likelihood: nan; theta diff:  nan\n",
      "theta[0:10] [nan nan nan nan nan nan nan nan nan nan]\n",
      "[step 71] with likelihood: nan; theta diff:  nan\n",
      "theta[0:10] [nan nan nan nan nan nan nan nan nan nan]\n",
      "[step 72] with likelihood: nan; theta diff:  nan\n",
      "theta[0:10] [nan nan nan nan nan nan nan nan nan nan]\n",
      "[step 73] with likelihood: nan; theta diff:  nan\n",
      "theta[0:10] [nan nan nan nan nan nan nan nan nan nan]\n",
      "[step 74] with likelihood: nan; theta diff:  nan\n",
      "theta[0:10] [nan nan nan nan nan nan nan nan nan nan]\n",
      "[step 75] with likelihood: nan; theta diff:  nan\n",
      "theta[0:10] [nan nan nan nan nan nan nan nan nan nan]\n",
      "[step 76] with likelihood: nan; theta diff:  nan\n",
      "theta[0:10] [nan nan nan nan nan nan nan nan nan nan]\n",
      "[step 77] with likelihood: nan; theta diff:  nan\n",
      "theta[0:10] [nan nan nan nan nan nan nan nan nan nan]\n",
      "[step 78] with likelihood: nan; theta diff:  nan\n",
      "theta[0:10] [nan nan nan nan nan nan nan nan nan nan]\n",
      "[step 79] with likelihood: nan; theta diff:  nan\n",
      "theta[0:10] [nan nan nan nan nan nan nan nan nan nan]\n",
      "[step 80] with likelihood: nan; theta diff:  nan\n",
      "theta[0:10] [nan nan nan nan nan nan nan nan nan nan]\n",
      "[step 81] with likelihood: nan; theta diff:  nan\n",
      "theta[0:10] [nan nan nan nan nan nan nan nan nan nan]\n",
      "[step 82] with likelihood: nan; theta diff:  nan\n",
      "theta[0:10] [nan nan nan nan nan nan nan nan nan nan]\n",
      "[step 83] with likelihood: nan; theta diff:  nan\n",
      "theta[0:10] [nan nan nan nan nan nan nan nan nan nan]\n",
      "[step 84] with likelihood: nan; theta diff:  nan\n",
      "theta[0:10] [nan nan nan nan nan nan nan nan nan nan]\n",
      "[step 85] with likelihood: nan; theta diff:  nan\n",
      "theta[0:10] [nan nan nan nan nan nan nan nan nan nan]\n",
      "[step 86] with likelihood: nan; theta diff:  nan\n",
      "theta[0:10] [nan nan nan nan nan nan nan nan nan nan]\n",
      "[step 87] with likelihood: nan; theta diff:  nan\n",
      "theta[0:10] [nan nan nan nan nan nan nan nan nan nan]\n",
      "[step 88] with likelihood: nan; theta diff:  nan\n",
      "theta[0:10] [nan nan nan nan nan nan nan nan nan nan]\n",
      "[step 89] with likelihood: nan; theta diff:  nan\n",
      "theta[0:10] [nan nan nan nan nan nan nan nan nan nan]\n",
      "[step 90] with likelihood: nan; theta diff:  nan\n",
      "theta[0:10] [nan nan nan nan nan nan nan nan nan nan]\n",
      "[step 91] with likelihood: nan; theta diff:  nan\n",
      "theta[0:10] [nan nan nan nan nan nan nan nan nan nan]\n",
      "[step 92] with likelihood: nan; theta diff:  nan\n",
      "theta[0:10] [nan nan nan nan nan nan nan nan nan nan]\n",
      "[step 93] with likelihood: nan; theta diff:  nan\n",
      "theta[0:10] [nan nan nan nan nan nan nan nan nan nan]\n",
      "[step 94] with likelihood: nan; theta diff:  nan\n",
      "theta[0:10] [nan nan nan nan nan nan nan nan nan nan]\n",
      "[step 95] with likelihood: nan; theta diff:  nan\n",
      "theta[0:10] [nan nan nan nan nan nan nan nan nan nan]\n",
      "[step 96] with likelihood: nan; theta diff:  nan\n",
      "theta[0:10] [nan nan nan nan nan nan nan nan nan nan]\n",
      "[step 97] with likelihood: nan; theta diff:  nan\n",
      "theta[0:10] [nan nan nan nan nan nan nan nan nan nan]\n",
      "[step 98] with likelihood: nan; theta diff:  nan\n",
      "theta[0:10] [nan nan nan nan nan nan nan nan nan nan]\n",
      "[step 99] with likelihood: nan; theta diff:  nan\n",
      "theta[0:10] [nan nan nan nan nan nan nan nan nan nan]\n",
      "[step 100] with likelihood: nan; theta diff:  nan\n",
      "theta[0:10] [nan nan nan nan nan nan nan nan nan nan]\n",
      "[step 101] with likelihood: nan; theta diff:  nan\n"
     ]
    }
   ],
   "source": [
    "mle_model.GD_alg(max_steps=100, epsilon=1e-4)"
   ]
  },
  {
   "cell_type": "code",
   "execution_count": null,
   "metadata": {},
   "outputs": [],
   "source": [
    "mle_model.beta.shape"
   ]
  },
  {
   "cell_type": "code",
   "execution_count": null,
   "metadata": {
    "ExecuteTime": {
     "end_time": "2024-02-22T07:40:26.908176Z",
     "start_time": "2024-02-22T07:40:26.905322Z"
    },
    "collapsed": false,
    "jupyter": {
     "outputs_hidden": false
    }
   },
   "outputs": [],
   "source": [
    "norm(mle_model.theta - theta)"
   ]
  },
  {
   "cell_type": "code",
   "execution_count": null,
   "metadata": {
    "ExecuteTime": {
     "end_time": "2024-02-22T07:40:26.910796Z",
     "start_time": "2024-02-22T07:40:26.908585Z"
    },
    "collapsed": false,
    "jupyter": {
     "outputs_hidden": false
    }
   },
   "outputs": [],
   "source": [
    "mle_beta, mle_sigma = mle_model.copy_beta_sigma()"
   ]
  },
  {
   "cell_type": "code",
   "execution_count": 31,
   "metadata": {
    "ExecuteTime": {
     "end_time": "2024-02-22T07:40:26.938970Z",
     "start_time": "2024-02-22T07:40:26.912627Z"
    },
    "collapsed": false,
    "jupyter": {
     "outputs_hidden": false
    }
   },
   "outputs": [
    {
     "data": {
      "text/plain": [
       "0.008197866625751097"
      ]
     },
     "execution_count": 31,
     "metadata": {},
     "output_type": "execute_result"
    }
   ],
   "source": [
    "norm(mle_beta.ravel() - beta[1:].ravel())"
   ]
  },
  {
   "cell_type": "code",
   "execution_count": 32,
   "metadata": {
    "ExecuteTime": {
     "end_time": "2024-02-22T07:40:26.939098Z",
     "start_time": "2024-02-22T07:40:26.915986Z"
    },
    "collapsed": false,
    "jupyter": {
     "outputs_hidden": false
    }
   },
   "outputs": [
    {
     "data": {
      "text/plain": [
       "array([[0.2011431 , 0.19995817, 0.20191043, 0.19917045, 0.19972169,\n",
       "        0.20231462, 0.20072793, 0.2006139 , 0.19902897, 0.19977722,\n",
       "        0.2027578 , 0.19907222, 0.19928532, 0.19644997, 0.20039785,\n",
       "        0.20252822, 0.19851476, 0.19887826, 0.199741  , 0.20045011,\n",
       "        0.19983549, 0.1989687 , 0.19825504, 0.20317955, 0.19715122]])"
      ]
     },
     "execution_count": 32,
     "metadata": {},
     "output_type": "execute_result"
    }
   ],
   "source": [
    "mle_beta"
   ]
  },
  {
   "cell_type": "code",
   "execution_count": 33,
   "metadata": {
    "ExecuteTime": {
     "end_time": "2024-02-22T07:40:26.939344Z",
     "start_time": "2024-02-22T07:40:26.919181Z"
    },
    "collapsed": false,
    "jupyter": {
     "outputs_hidden": false
    }
   },
   "outputs": [
    {
     "data": {
      "text/plain": [
       "0.17668208754240278"
      ]
     },
     "execution_count": 33,
     "metadata": {},
     "output_type": "execute_result"
    }
   ],
   "source": [
    "norm(mle_sigma - sigma_list)"
   ]
  },
  {
   "cell_type": "code",
   "execution_count": 34,
   "metadata": {
    "ExecuteTime": {
     "end_time": "2024-02-22T07:40:26.939461Z",
     "start_time": "2024-02-22T07:40:26.922550Z"
    },
    "collapsed": false,
    "jupyter": {
     "outputs_hidden": false
    }
   },
   "outputs": [
    {
     "data": {
      "text/plain": [
       "(array([0.10066939, 0.19608029, 0.29925329, 0.40004859, 0.49460891,\n",
       "        0.61077638, 0.69108055, 0.78464279, 0.89756645, 1.00035397,\n",
       "        1.11027765, 1.21123057, 1.31938901, 1.42742062, 1.5262268 ,\n",
       "        1.6003568 , 1.72805982, 1.75367621, 1.78434146, 1.88875321]),\n",
       " array([0.1, 0.2, 0.3, 0.4, 0.5, 0.6, 0.7, 0.8, 0.9, 1. , 1.1, 1.2, 1.3,\n",
       "        1.4, 1.5, 1.6, 1.7, 1.8, 1.9, 2. ]))"
      ]
     },
     "execution_count": 34,
     "metadata": {},
     "output_type": "execute_result"
    }
   ],
   "source": [
    "mle_sigma, sigma_list"
   ]
  },
  {
   "cell_type": "markdown",
   "metadata": {
    "collapsed": false,
    "jupyter": {
     "outputs_hidden": false
    }
   },
   "source": [
    "# Compare"
   ]
  },
  {
   "cell_type": "code",
   "execution_count": 14,
   "metadata": {
    "ExecuteTime": {
     "end_time": "2024-02-22T07:40:26.939505Z",
     "start_time": "2024-02-22T07:40:26.935164Z"
    },
    "collapsed": false,
    "jupyter": {
     "outputs_hidden": false
    }
   },
   "outputs": [],
   "source": [
    "B = 100\n",
    "# alpha = 1\n",
    "# annotator sigma\n",
    "# sigma_list = np.arange(1, M+1, 1) / 10\n",
    "# parameter vector\n",
    "theta = np.zeros(K * p + M)\n",
    "theta[:(p * K)] = beta[1:].ravel()\n",
    "theta[(p * K):] = sigma_list.reshape(-1)\n",
    "\n",
    "RMSE_list = []"
   ]
  },
  {
   "cell_type": "code",
   "execution_count": 15,
   "metadata": {
    "ExecuteTime": {
     "end_time": "2024-02-22T07:40:26.939530Z",
     "start_time": "2024-02-22T07:40:26.935261Z"
    },
    "collapsed": false,
    "jupyter": {
     "outputs_hidden": false
    }
   },
   "outputs": [],
   "source": [
    "from model.Initial import Initial\n",
    "from model.MLE import MLE"
   ]
  },
  {
   "cell_type": "code",
   "execution_count": 16,
   "metadata": {
    "ExecuteTime": {
     "end_time": "2024-02-22T08:38:38.651659Z",
     "start_time": "2024-02-22T07:40:26.961675Z"
    },
    "collapsed": false,
    "jupyter": {
     "outputs_hidden": false
    }
   },
   "outputs": [
    {
     "ename": "ValueError",
     "evalue": "could not broadcast input array from shape (3,25) into shape (2,25)",
     "output_type": "error",
     "traceback": [
      "\u001b[0;31m---------------------------------------------------------------------------\u001b[0m",
      "\u001b[0;31mValueError\u001b[0m                                Traceback (most recent call last)",
      "\u001b[0;32m/var/folders/g8/pcvlzrfj0qj3r46v1s41ylvc0000gn/T/ipykernel_18657/3355052835.py\u001b[0m in \u001b[0;36m<module>\u001b[0;34m\u001b[0m\n\u001b[1;32m     28\u001b[0m     \u001b[0;31m# initial estimator\u001b[0m\u001b[0;34m\u001b[0m\u001b[0;34m\u001b[0m\u001b[0m\n\u001b[1;32m     29\u001b[0m     \u001b[0minitial_model\u001b[0m \u001b[0;34m=\u001b[0m \u001b[0mInitial\u001b[0m\u001b[0;34m(\u001b[0m\u001b[0mX1\u001b[0m\u001b[0;34m,\u001b[0m \u001b[0mAY1\u001b[0m\u001b[0;34m,\u001b[0m \u001b[0mA1\u001b[0m\u001b[0;34m,\u001b[0m \u001b[0mK\u001b[0m\u001b[0;34m)\u001b[0m\u001b[0;34m\u001b[0m\u001b[0;34m\u001b[0m\u001b[0m\n\u001b[0;32m---> 30\u001b[0;31m     \u001b[0minitial_model\u001b[0m\u001b[0;34m.\u001b[0m\u001b[0mopt_alg\u001b[0m\u001b[0;34m(\u001b[0m\u001b[0;34m)\u001b[0m\u001b[0;34m\u001b[0m\u001b[0;34m\u001b[0m\u001b[0m\n\u001b[0m\u001b[1;32m     31\u001b[0m     \u001b[0mrmse1\u001b[0m \u001b[0;34m=\u001b[0m \u001b[0mnorm\u001b[0m\u001b[0;34m(\u001b[0m\u001b[0minitial_model\u001b[0m\u001b[0;34m.\u001b[0m\u001b[0minitial_beta\u001b[0m\u001b[0;34m.\u001b[0m\u001b[0mravel\u001b[0m\u001b[0;34m(\u001b[0m\u001b[0;34m)\u001b[0m \u001b[0;34m-\u001b[0m \u001b[0mbeta\u001b[0m\u001b[0;34m[\u001b[0m\u001b[0;36m1\u001b[0m\u001b[0;34m:\u001b[0m\u001b[0;34m]\u001b[0m\u001b[0;34m.\u001b[0m\u001b[0mravel\u001b[0m\u001b[0;34m(\u001b[0m\u001b[0;34m)\u001b[0m\u001b[0;34m)\u001b[0m\u001b[0;34m\u001b[0m\u001b[0;34m\u001b[0m\u001b[0m\n\u001b[1;32m     32\u001b[0m     \u001b[0mrmse2\u001b[0m \u001b[0;34m=\u001b[0m \u001b[0mnorm\u001b[0m\u001b[0;34m(\u001b[0m\u001b[0minitial_model\u001b[0m\u001b[0;34m.\u001b[0m\u001b[0minitial_sigma\u001b[0m \u001b[0;34m-\u001b[0m \u001b[0msigma_list\u001b[0m\u001b[0;34m)\u001b[0m\u001b[0;34m\u001b[0m\u001b[0;34m\u001b[0m\u001b[0m\n",
      "\u001b[0;32m~/Desktop/光华/ 论文/4-Crowdsourcing/codes/model/Initial.py\u001b[0m in \u001b[0;36mopt_alg\u001b[0;34m(self)\u001b[0m\n\u001b[1;32m     34\u001b[0m             \u001b[0my_m\u001b[0m \u001b[0;34m=\u001b[0m \u001b[0my_m\u001b[0m\u001b[0;34m[\u001b[0m\u001b[0midx\u001b[0m\u001b[0;34m]\u001b[0m\u001b[0;34m\u001b[0m\u001b[0;34m\u001b[0m\u001b[0m\n\u001b[1;32m     35\u001b[0m             \u001b[0mclf\u001b[0m \u001b[0;34m=\u001b[0m \u001b[0mLogisticRegression\u001b[0m\u001b[0;34m(\u001b[0m\u001b[0mrandom_state\u001b[0m\u001b[0;34m=\u001b[0m\u001b[0;36m0\u001b[0m\u001b[0;34m,\u001b[0m \u001b[0mfit_intercept\u001b[0m\u001b[0;34m=\u001b[0m\u001b[0;32mFalse\u001b[0m\u001b[0;34m)\u001b[0m\u001b[0;34m.\u001b[0m\u001b[0mfit\u001b[0m\u001b[0;34m(\u001b[0m\u001b[0mX_m\u001b[0m\u001b[0;34m,\u001b[0m \u001b[0my_m\u001b[0m\u001b[0;34m)\u001b[0m\u001b[0;34m\u001b[0m\u001b[0;34m\u001b[0m\u001b[0m\n\u001b[0;32m---> 36\u001b[0;31m             \u001b[0mself\u001b[0m\u001b[0;34m.\u001b[0m\u001b[0minitial_b\u001b[0m\u001b[0;34m[\u001b[0m\u001b[0mm\u001b[0m\u001b[0;34m]\u001b[0m \u001b[0;34m=\u001b[0m \u001b[0mclf\u001b[0m\u001b[0;34m.\u001b[0m\u001b[0mcoef_\u001b[0m\u001b[0;34m\u001b[0m\u001b[0;34m\u001b[0m\u001b[0m\n\u001b[0m\u001b[1;32m     37\u001b[0m             \u001b[0mself\u001b[0m\u001b[0;34m.\u001b[0m\u001b[0minitial_sigma\u001b[0m\u001b[0;34m[\u001b[0m\u001b[0mm\u001b[0m\u001b[0;34m]\u001b[0m \u001b[0;34m=\u001b[0m \u001b[0;36m1\u001b[0m \u001b[0;34m/\u001b[0m \u001b[0mnorm\u001b[0m\u001b[0;34m(\u001b[0m\u001b[0mself\u001b[0m\u001b[0;34m.\u001b[0m\u001b[0minitial_b\u001b[0m\u001b[0;34m[\u001b[0m\u001b[0mm\u001b[0m\u001b[0;34m]\u001b[0m\u001b[0;34m)\u001b[0m\u001b[0;34m\u001b[0m\u001b[0;34m\u001b[0m\u001b[0m\n\u001b[1;32m     38\u001b[0m             \u001b[0mself\u001b[0m\u001b[0;34m.\u001b[0m\u001b[0minitial_beta\u001b[0m \u001b[0;34m+=\u001b[0m \u001b[0mself\u001b[0m\u001b[0;34m.\u001b[0m\u001b[0minitial_b\u001b[0m\u001b[0;34m[\u001b[0m\u001b[0mm\u001b[0m\u001b[0;34m]\u001b[0m \u001b[0;34m*\u001b[0m \u001b[0mself\u001b[0m\u001b[0;34m.\u001b[0m\u001b[0minitial_sigma\u001b[0m\u001b[0;34m[\u001b[0m\u001b[0mm\u001b[0m\u001b[0;34m]\u001b[0m \u001b[0;34m/\u001b[0m \u001b[0mself\u001b[0m\u001b[0;34m.\u001b[0m\u001b[0mM\u001b[0m\u001b[0;34m\u001b[0m\u001b[0;34m\u001b[0m\u001b[0m\n",
      "\u001b[0;31mValueError\u001b[0m: could not broadcast input array from shape (3,25) into shape (2,25)"
     ]
    }
   ],
   "source": [
    "for seed in range(B):\n",
    "    np.random.seed(seed)\n",
    "    # features - X\n",
    "    X = np.random.randn(N, p)  # features\n",
    "    X[:, 0] = 1  # set the first columns of X to be constants\n",
    "    # ty rue labels - Y\n",
    "    Y = np.argmax(X.dot(np.transpose(beta)), axis=1)\n",
    "    # pilot sample - X1 and Y1\n",
    "    X1, X2, Y1, Y2 = train_test_split(X, Y, test_size=(N - n) / N, random_state=seed)\n",
    "    # annotation task assignment - A1\n",
    "    A1 = np.random.binomial(1, alpha, size=(n, M))\n",
    "    # annotation probability - AP1\n",
    "    AP1 = X1.dot(np.transpose(beta))\n",
    "    AP1 = AP1.reshape(AP1.shape + (1,))\n",
    "    AP1 = AP1 / sigma_list\n",
    "    AP1 = np.exp(AP1)\n",
    "    AP1_sum = AP1.sum(axis=1, keepdims=True)\n",
    "    AP1 = AP1 / AP1_sum\n",
    "    # annotation - AY1\n",
    "    AY1 = np.zeros((n, M))\n",
    "    for i in range(n):\n",
    "        for m in range(M):\n",
    "            prob_im = AP1[i, :, m]\n",
    "            Y_im = np.argmax(np.random.multinomial(1, prob_im, 1))\n",
    "            AY1[i, m] = Y_im\n",
    "    AY1[A1 == 0] = -1\n",
    "\n",
    "    # initial estimator\n",
    "    initial_model = Initial(X1, AY1, A1, K)\n",
    "    initial_model.opt_alg()\n",
    "    rmse1 = norm(initial_model.initial_beta.ravel() - beta[1:].ravel())\n",
    "    rmse2 = norm(initial_model.initial_sigma - sigma_list)\n",
    "\n",
    "    # OS\n",
    "    os_model = OS(X1, AY1, A1, K, initial_model.initial_beta, initial_model.initial_sigma)\n",
    "    os_beta = os_model.one_step_update()\n",
    "    rmse3 = norm(os_beta - beta[1:].ravel())\n",
    "\n",
    "    # MLE\n",
    "    mle_model = MLE(X1, AY1, A1, K)\n",
    "    mle_model.GD_alg(max_steps=500, epsilon=1e-4)\n",
    "    mle_beta, mle_sigma = mle_model.copy_beta_sigma()\n",
    "    rmse4 = norm(mle_beta.ravel() - beta[1:].ravel())\n",
    "    rmse5 = norm(mle_sigma - sigma_list)\n",
    "\n",
    "    RMSE_list.append([rmse1, rmse2, rmse3, rmse4, rmse5])\n",
    "    a = pd.DataFrame(RMSE_list)\n",
    "    a.to_csv(\"/Users/helenology/Desktop/data1.csv\")"
   ]
  },
  {
   "cell_type": "code",
   "execution_count": 37,
   "metadata": {
    "ExecuteTime": {
     "end_time": "2024-02-22T08:38:38.651867Z",
     "start_time": "2024-02-22T08:38:38.606886Z"
    },
    "collapsed": false,
    "jupyter": {
     "outputs_hidden": false
    }
   },
   "outputs": [],
   "source": []
  }
 ],
 "metadata": {
  "kernelspec": {
   "display_name": "Python 3 (ipykernel)",
   "language": "python",
   "name": "python3"
  },
  "language_info": {
   "codemirror_mode": {
    "name": "ipython",
    "version": 3
   },
   "file_extension": ".py",
   "mimetype": "text/x-python",
   "name": "python",
   "nbconvert_exporter": "python",
   "pygments_lexer": "ipython3",
   "version": "3.9.7"
  }
 },
 "nbformat": 4,
 "nbformat_minor": 4
}
