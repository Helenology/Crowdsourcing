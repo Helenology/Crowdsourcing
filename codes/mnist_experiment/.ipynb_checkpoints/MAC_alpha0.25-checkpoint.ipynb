{
 "cells": [
  {
   "cell_type": "code",
   "execution_count": 4,
   "id": "1bd04b05-59f2-4800-97a5-726e18625fe3",
   "metadata": {},
   "outputs": [],
   "source": [
    "# basic (built-in) Python packages\n",
    "import numpy as np\n",
    "from numpy.linalg import norm\n",
    "import pandas as pd\n",
    "import matplotlib.pyplot as plt\n",
    "from copy import copy\n",
    "import sys\n",
    "sys.path.append('../')\n",
    "import glob\n",
    "\n",
    "# advanced (built-in) Python packages\n",
    "from sklearn.model_selection import train_test_split\n",
    "from sklearn.linear_model import LogisticRegression\n",
    "from scipy.optimize import minimize\n",
    "from scipy import stats\n",
    "from scipy.stats import norm\n",
    "import tensorflow as tf\n",
    "import keras\n",
    "\n",
    "# my implemented Python functions and classes\n",
    "from model.BaseModel import BaseModel\n",
    "from model.Initial import Initial\n",
    "from model.MS import MS\n",
    "from utils import *\n",
    "from expe_utils import *\n",
    "\n",
    "# Deep Learning Library\n",
    "import tensorflow as tf\n",
    "import tensorflow.keras as keras\n",
    "from keras.models import Model\n",
    "from tensorflow.keras import datasets, layers, models\n",
    "from tensorflow.keras.optimizers import Adam\n",
    "from keras.callbacks import ModelCheckpoint, EarlyStopping"
   ]
  },
  {
   "cell_type": "code",
   "execution_count": 5,
   "id": "0a4ca0a0-ef7a-494f-8db3-764b05bd65ba",
   "metadata": {},
   "outputs": [
    {
     "name": "stdout",
     "output_type": "stream",
     "text": [
      "Downloading data from https://storage.googleapis.com/tensorflow/tf-keras-datasets/mnist.npz\n",
      "11493376/11490434 [==============================] - 5s 0us/step\n",
      "11501568/11490434 [==============================] - 5s 0us/step\n",
      "(60000, 28, 28, 3)\n"
     ]
    }
   ],
   "source": [
    "from keras.datasets import mnist\n",
    "# (train_X, train_y), (test_X, test_y) = mnist.load_data()\n",
    "(X, Y), (_, _) = mnist.load_data()\n",
    "\n",
    "# change Xi from (28 x 28) into (28 x 28 x 3)\n",
    "tmp = np.ones(X.shape + (3,))\n",
    "tmp *= X.reshape(X.shape + (1,))\n",
    "X = tmp\n",
    "print(X.shape)"
   ]
  },
  {
   "cell_type": "code",
   "execution_count": 6,
   "id": "10373bc4-851b-4ca4-8604-cd9163d6cabf",
   "metadata": {},
   "outputs": [],
   "source": [
    "crowd_list = glob.glob(\"./crowd labels/*.npy\")\n",
    "M = len(crowd_list)"
   ]
  },
  {
   "cell_type": "code",
   "execution_count": 7,
   "id": "51e7aeee-23d6-4114-a094-f1e825672e35",
   "metadata": {},
   "outputs": [],
   "source": [
    "K = 9\n",
    "N = len(Y)\n",
    "alpha = 0.25"
   ]
  },
  {
   "cell_type": "markdown",
   "id": "a0bfea5c-f114-4ae1-93c3-5b415ae60eff",
   "metadata": {},
   "source": [
    "## Pilot Sample"
   ]
  },
  {
   "cell_type": "code",
   "execution_count": 8,
   "id": "f534d940-494c-4203-b0da-74b4c9ee3f80",
   "metadata": {},
   "outputs": [],
   "source": [
    "# crowd label matrix\n",
    "id_pilot, id_rest = train_test_split(range(N), test_size=0.9, random_state=0)\n",
    "id_pilot = np.sort(id_pilot)\n",
    "id_rest = np.sort(id_rest)"
   ]
  },
  {
   "cell_type": "code",
   "execution_count": 9,
   "id": "5f56a757-e393-4257-a622-839f7dad5a48",
   "metadata": {},
   "outputs": [
    {
     "data": {
      "text/plain": [
       "(150141, 3)"
      ]
     },
     "execution_count": 9,
     "metadata": {},
     "output_type": "execute_result"
    }
   ],
   "source": [
    "np.random.seed(0)\n",
    "crowd_label = []\n",
    "\n",
    "for m in range(M):\n",
    "    crowd_id = m\n",
    "    Yim = np.load(crowd_list[m])\n",
    "    flag = np.random.binomial(n=1, p=alpha, size=N)\n",
    "    for i in range(N):\n",
    "        if flag[i] == 1:\n",
    "            crowd_label.append([i, crowd_id, Yim[i]])\n",
    "\n",
    "crowd_full = pd.DataFrame(crowd_label, columns=[\"TaskID\", \"CrowdID\", \"CrowdLabel\"])\n",
    "crowd_full = crowd_full.sort_values(by=[\"TaskID\", \"CrowdID\"], ascending=True)\n",
    "crowd_full = crowd_full.reset_index(drop=True)\n",
    "crowd_full.shape"
   ]
  },
  {
   "cell_type": "code",
   "execution_count": 10,
   "id": "1161dbe2-ea46-4503-826e-3a3ab002652f",
   "metadata": {},
   "outputs": [
    {
     "name": "stdout",
     "output_type": "stream",
     "text": [
      "(150141, 3) (15026, 3) 5721\n"
     ]
    }
   ],
   "source": [
    "crowd = crowd_full[crowd_full[\"TaskID\"].apply(lambda x: x in id_pilot)]\n",
    "print(crowd_full.shape, crowd.shape, len(crowd.TaskID.unique()))"
   ]
  },
  {
   "cell_type": "code",
   "execution_count": 11,
   "id": "43992e8f-f8a4-44fd-a20f-33b472b7d893",
   "metadata": {},
   "outputs": [
    {
     "data": {
      "text/html": [
       "<div>\n",
       "<style scoped>\n",
       "    .dataframe tbody tr th:only-of-type {\n",
       "        vertical-align: middle;\n",
       "    }\n",
       "\n",
       "    .dataframe tbody tr th {\n",
       "        vertical-align: top;\n",
       "    }\n",
       "\n",
       "    .dataframe thead th {\n",
       "        text-align: right;\n",
       "    }\n",
       "</style>\n",
       "<table border=\"1\" class=\"dataframe\">\n",
       "  <thead>\n",
       "    <tr style=\"text-align: right;\">\n",
       "      <th></th>\n",
       "      <th>TaskID</th>\n",
       "      <th>CrowdID</th>\n",
       "      <th>CrowdLabel</th>\n",
       "    </tr>\n",
       "  </thead>\n",
       "  <tbody>\n",
       "    <tr>\n",
       "      <th>0</th>\n",
       "      <td>10</td>\n",
       "      <td>0</td>\n",
       "      <td>3</td>\n",
       "    </tr>\n",
       "    <tr>\n",
       "      <th>1</th>\n",
       "      <td>10</td>\n",
       "      <td>4</td>\n",
       "      <td>3</td>\n",
       "    </tr>\n",
       "    <tr>\n",
       "      <th>2</th>\n",
       "      <td>10</td>\n",
       "      <td>8</td>\n",
       "      <td>3</td>\n",
       "    </tr>\n",
       "    <tr>\n",
       "      <th>3</th>\n",
       "      <td>19</td>\n",
       "      <td>0</td>\n",
       "      <td>9</td>\n",
       "    </tr>\n",
       "    <tr>\n",
       "      <th>4</th>\n",
       "      <td>19</td>\n",
       "      <td>1</td>\n",
       "      <td>9</td>\n",
       "    </tr>\n",
       "  </tbody>\n",
       "</table>\n",
       "</div>"
      ],
      "text/plain": [
       "   TaskID  CrowdID  CrowdLabel\n",
       "0      10        0           3\n",
       "1      10        4           3\n",
       "2      10        8           3\n",
       "3      19        0           9\n",
       "4      19        1           9"
      ]
     },
     "execution_count": 11,
     "metadata": {},
     "output_type": "execute_result"
    }
   ],
   "source": [
    "crowd = crowd.sort_values(by=[\"TaskID\", \"CrowdID\"], ascending=True)\n",
    "crowd = crowd.reset_index(drop=True)\n",
    "crowd.head()"
   ]
  },
  {
   "cell_type": "code",
   "execution_count": 12,
   "id": "66d40b80-cf80-46df-a2b2-67e15cb551fe",
   "metadata": {},
   "outputs": [
    {
     "data": {
      "text/plain": [
       "(5721, 54279)"
      ]
     },
     "execution_count": 12,
     "metadata": {},
     "output_type": "execute_result"
    }
   ],
   "source": [
    "id_pilot = crowd.TaskID.unique()\n",
    "id_rest = []\n",
    "for i in range(N):\n",
    "    if i in id_pilot:\n",
    "        continue\n",
    "    id_rest.append(i)\n",
    "len(id_pilot), len(id_rest)"
   ]
  },
  {
   "cell_type": "code",
   "execution_count": 13,
   "id": "3269856d-e60a-4df8-9eeb-bfa04f064fec",
   "metadata": {},
   "outputs": [
    {
     "name": "stdout",
     "output_type": "stream",
     "text": [
      "(5721, 256) (54279, 256) (5721,) (54279,)\n"
     ]
    }
   ],
   "source": [
    "feat = np.load(\"./feat_X.npy\")\n",
    "feat_pilot = feat[id_pilot, :]\n",
    "feat_rest = feat[id_rest, :]\n",
    "Y_pilot = Y[id_pilot]\n",
    "Y_rest = Y[id_rest]\n",
    "print(feat_pilot.shape, feat_rest.shape, Y_pilot.shape, Y_rest.shape)"
   ]
  },
  {
   "cell_type": "code",
   "execution_count": 14,
   "id": "9656f8dd-6736-45f2-ad8c-de784f2ec849",
   "metadata": {},
   "outputs": [
    {
     "name": "stdout",
     "output_type": "stream",
     "text": [
      "[0.20180897 0.18073191 0.13852528 0.11114897 0.10003819 0.07941524\n",
      " 0.05493898]\n",
      "\n",
      "[3584.6064 3392.2563 2969.8584 2660.2593 2523.7954 2248.6567 1870.301 ]\n"
     ]
    }
   ],
   "source": [
    "# reduce dimensions via PCA\n",
    "from sklearn.decomposition import PCA\n",
    "pca = PCA(n_components=7)\n",
    "pca.fit(feat)\n",
    "print(pca.explained_variance_ratio_)\n",
    "print()\n",
    "print(pca.singular_values_)\n",
    "\n",
    "pca_pilot = pca.transform(feat_pilot)\n",
    "pca_rest = pca.transform(feat_rest)"
   ]
  },
  {
   "cell_type": "code",
   "execution_count": 15,
   "id": "da236f72-0877-4767-8bb7-afc1a5308161",
   "metadata": {},
   "outputs": [
    {
     "data": {
      "image/png": "[encoded data removed]",
      "text/plain": [
       "<Figure size 432x288 with 1 Axes>"
      ]
     },
     "metadata": {
      "needs_background": "light"
     },
     "output_type": "display_data"
    },
    {
     "data": {
      "image/png": "[encoded data removed]",
      "text/plain": [
       "<Figure size 432x288 with 1 Axes>"
      ]
     },
     "metadata": {
      "needs_background": "light"
     },
     "output_type": "display_data"
    }
   ],
   "source": [
    "for k in range(K + 1):\n",
    "    plt.scatter(pca_pilot[Y_pilot == k, 0], pca_pilot[Y_pilot == k, 1], s = 35, label = f\"Class {k}\")\n",
    "plt.title(\"Pilot\")\n",
    "plt.legend()\n",
    "plt.show()\n",
    "\n",
    "for k in range(K + 1):\n",
    "    plt.scatter(pca_rest[Y_rest == k, 0], pca_rest[Y_rest == k, 1], s = 35, label = f\"Class {k}\")\n",
    "plt.title(\"Remaining\")\n",
    "plt.legend()\n",
    "plt.show()"
   ]
  },
  {
   "cell_type": "markdown",
   "id": "4ec042d9-b0c2-4a69-a2cb-f3b76e08b3df",
   "metadata": {},
   "source": [
    "## MAC"
   ]
  },
  {
   "cell_type": "code",
   "execution_count": 16,
   "id": "0cabfe8e-0ac6-4dd5-bf58-599f3c06697e",
   "metadata": {},
   "outputs": [
    {
     "data": {
      "image/png": "[encoded data removed]",
      "text/plain": [
       "<Figure size 432x288 with 1 Axes>"
      ]
     },
     "metadata": {
      "needs_background": "light"
     },
     "output_type": "display_data"
    }
   ],
   "source": [
    "X_pilot = pca_pilot * 1.0\n",
    "X_rest = pca_rest * 1.0\n",
    "X_pilot = X_pilot * 1.0 / np.max(np.abs(X_pilot))\n",
    "X_rest = X_rest * 1.0 / np.max(np.abs(X_rest))\n",
    "\n",
    "plt.hist(X_pilot[:, 0])\n",
    "plt.show()"
   ]
  },
  {
   "cell_type": "code",
   "execution_count": 17,
   "id": "e0dd22d4-c087-461e-96af-8b6d213deb66",
   "metadata": {},
   "outputs": [],
   "source": [
    "X_pilot = add_constant(X_pilot)\n",
    "X_rest = add_constant(X_rest)"
   ]
  },
  {
   "cell_type": "code",
   "execution_count": 18,
   "id": "bcf0c08c-f53b-45ed-adca-8d9c2e1f1ab4",
   "metadata": {},
   "outputs": [
    {
     "name": "stdout",
     "output_type": "stream",
     "text": [
      "5721 8 9 10\n"
     ]
    }
   ],
   "source": [
    "n = X_pilot.shape[0]\n",
    "p = X_pilot.shape[1]\n",
    "M = crowd[\"CrowdID\"].unique().shape[0]\n",
    "print(n, p, K, M)"
   ]
  },
  {
   "cell_type": "code",
   "execution_count": 19,
   "id": "31d8a6b4-85d4-422c-bd3c-dd3be568d06b",
   "metadata": {},
   "outputs": [
    {
     "data": {
      "text/html": [
       "<div>\n",
       "<style scoped>\n",
       "    .dataframe tbody tr th:only-of-type {\n",
       "        vertical-align: middle;\n",
       "    }\n",
       "\n",
       "    .dataframe tbody tr th {\n",
       "        vertical-align: top;\n",
       "    }\n",
       "\n",
       "    .dataframe thead th {\n",
       "        text-align: right;\n",
       "    }\n",
       "</style>\n",
       "<table border=\"1\" class=\"dataframe\">\n",
       "  <thead>\n",
       "    <tr style=\"text-align: right;\">\n",
       "      <th></th>\n",
       "      <th>TaskID</th>\n",
       "      <th>CrowdID</th>\n",
       "      <th>CrowdLabel</th>\n",
       "    </tr>\n",
       "  </thead>\n",
       "  <tbody>\n",
       "    <tr>\n",
       "      <th>0</th>\n",
       "      <td>10</td>\n",
       "      <td>0</td>\n",
       "      <td>3</td>\n",
       "    </tr>\n",
       "    <tr>\n",
       "      <th>1</th>\n",
       "      <td>10</td>\n",
       "      <td>4</td>\n",
       "      <td>3</td>\n",
       "    </tr>\n",
       "    <tr>\n",
       "      <th>2</th>\n",
       "      <td>10</td>\n",
       "      <td>8</td>\n",
       "      <td>3</td>\n",
       "    </tr>\n",
       "    <tr>\n",
       "      <th>3</th>\n",
       "      <td>19</td>\n",
       "      <td>0</td>\n",
       "      <td>9</td>\n",
       "    </tr>\n",
       "    <tr>\n",
       "      <th>4</th>\n",
       "      <td>19</td>\n",
       "      <td>1</td>\n",
       "      <td>9</td>\n",
       "    </tr>\n",
       "  </tbody>\n",
       "</table>\n",
       "</div>"
      ],
      "text/plain": [
       "   TaskID  CrowdID  CrowdLabel\n",
       "0      10        0           3\n",
       "1      10        4           3\n",
       "2      10        8           3\n",
       "3      19        0           9\n",
       "4      19        1           9"
      ]
     },
     "execution_count": 19,
     "metadata": {},
     "output_type": "execute_result"
    }
   ],
   "source": [
    "crowd.head()"
   ]
  },
  {
   "cell_type": "code",
   "execution_count": 20,
   "id": "dc06021c-7fff-4b6c-8379-645cdbeb6c49",
   "metadata": {},
   "outputs": [
    {
     "name": "stdout",
     "output_type": "stream",
     "text": [
      "0.2626463904911729\n"
     ]
    }
   ],
   "source": [
    "# A_pilot: Assignment Matrix\n",
    "# AY_pilot: Crowd Label Matrix\n",
    "# alpha_pilot: Assigment Probability Matrix\n",
    "A_pilot, AY_pilot, alpha_pilot = assign(crowd)\n",
    "alpha_n = np.mean(alpha_pilot)\n",
    "print(alpha_n)"
   ]
  },
  {
   "cell_type": "code",
   "execution_count": 21,
   "id": "9372fb48-5593-4a84-baa7-cfbf1ae14da6",
   "metadata": {},
   "outputs": [
    {
     "name": "stdout",
     "output_type": "stream",
     "text": [
      "######## [Step 1] ########\n",
      "norm(beta_gradient): 0.9339780\n",
      "norm(sigma_gradient): 6.3156903\n",
      "######## [Step 2] ########\n",
      "norm(beta_gradient): 0.4767705\n"
     ]
    }
   ],
   "source": [
    "init_model = Initial(X_pilot, AY_pilot, A_pilot, K)\n",
    "init_beta, init_sigma, init_betams = init_model.init_param()\n",
    "\n",
    "ts_model = MS(X_pilot, AY_pilot, A_pilot, K, alpha_pilot, init_beta, init_sigma)\n",
    "ts_beta, ts_sigma = ts_model.update_alg(max_steps=2)"
   ]
  },
  {
   "cell_type": "code",
   "execution_count": 22,
   "id": "1dd4fb50-466e-4ee8-aac5-d8677f679868",
   "metadata": {
    "tags": []
   },
   "outputs": [
    {
     "data": {
      "text/plain": [
       "(array([0.03271003, 0.03273793, 0.0330517 , 0.03314904, 0.03633193,\n",
       "        0.03262398, 0.03307446, 0.03355488, 0.03320505, 0.03504025]),\n",
       " array([0.01373492, 0.0241534 , 0.0163145 , 0.01408831, 0.03873002,\n",
       "        0.01853857, 0.0153615 , 0.02607383, 0.01329695, 0.02200876]))"
      ]
     },
     "execution_count": 22,
     "metadata": {},
     "output_type": "execute_result"
    }
   ],
   "source": [
    "init_sigma, ts_sigma"
   ]
  },
  {
   "cell_type": "code",
   "execution_count": 23,
   "id": "10d0f1ce-6b47-4fde-85f4-36e46d165d8c",
   "metadata": {},
   "outputs": [],
   "source": [
    "beta_hat = np.zeros((K + 1, p))\n",
    "beta_hat[1:] = ts_beta.reshape(K, p)"
   ]
  },
  {
   "cell_type": "code",
   "execution_count": 24,
   "id": "4acab997-3067-41a3-ad04-94b5638f533f",
   "metadata": {},
   "outputs": [
    {
     "name": "stdout",
     "output_type": "stream",
     "text": [
      "169.83107173380037\n"
     ]
    }
   ],
   "source": [
    "Avar = ts_model.compute_Avar(ts_model.beta, ts_sigma)\n",
    "print(np.linalg.eigvals(Avar)[0])"
   ]
  },
  {
   "cell_type": "code",
   "execution_count": 25,
   "id": "8ff18fed-d689-4a8b-b909-ae56476f77cc",
   "metadata": {},
   "outputs": [
    {
     "data": {
      "text/plain": [
       "array([1.69831072e+02, 1.07856665e+02, 9.65819299e+01, 5.78874546e+01,\n",
       "       2.83371965e+01, 2.40155291e+01, 2.18361873e+01, 1.75198825e+01,\n",
       "       1.62166782e+01, 1.53454713e+01, 1.45526396e+01, 1.36571045e+01,\n",
       "       1.19931762e+01, 1.05256006e+01, 9.58229379e+00, 8.94798647e+00,\n",
       "       8.33744659e+00, 7.95529792e+00, 6.77164528e+00, 6.76027860e+00,\n",
       "       6.37498951e+00, 5.95541355e+00, 5.73104291e+00, 5.59880011e+00,\n",
       "       5.09038924e+00, 5.00400784e+00, 4.62392020e+00, 4.35802390e+00,\n",
       "       4.10511811e+00, 3.82106204e+00, 3.73922084e+00, 3.59315550e+00,\n",
       "       3.53490682e+00, 3.34189233e+00, 3.09336185e+00, 2.96769951e+00,\n",
       "       2.76683236e+00, 2.53625094e+00, 2.46596331e+00, 2.33192016e+00,\n",
       "       2.11412574e+00, 1.95347303e+00, 1.91790886e+00, 1.73222833e+00,\n",
       "       1.51480388e+00, 1.41918607e+00, 1.37829991e+00, 1.24107227e+00,\n",
       "       1.23723310e+00, 1.13247950e+00, 1.10986049e+00, 1.04635575e+00,\n",
       "       9.78008368e-01, 9.39850636e-01, 8.39258784e-01, 7.88934828e-01,\n",
       "       7.51293831e-01, 6.80118929e-01, 6.05133151e-01, 4.94788854e-01,\n",
       "       3.90450149e-01, 4.15144349e-01, 2.06348652e-01, 5.46351200e-16,\n",
       "       1.09150198e-01, 2.14596260e-02, 9.05568716e-02, 8.14672569e-02,\n",
       "       4.28200491e-02, 4.51461156e-02, 5.76461767e-02, 6.59609687e-02])"
      ]
     },
     "execution_count": 25,
     "metadata": {},
     "output_type": "execute_result"
    }
   ],
   "source": [
    "np.linalg.eigvals(Avar)"
   ]
  },
  {
   "cell_type": "code",
   "execution_count": 26,
   "id": "163cbd1c-f22b-46fc-9d02-d9614be5e887",
   "metadata": {},
   "outputs": [],
   "source": [
    "def compute_MaxMis_i(Xi, Yi, beta, Avar, n, M, alpha_n, K, p):\n",
    "    \"\"\"\"\"\"\n",
    "    scale = np.sqrt(n * M * alpha_n)\n",
    "    MaxMis_list = []\n",
    "    j = Yi\n",
    "    for k in range(K+1):\n",
    "        if j == k:\n",
    "            continue\n",
    "        Avar_jk = get_Avar_jk(Avar, p, j, j) + get_Avar_jk(Avar, p, k, k) \\\n",
    "                  - get_Avar_jk(Avar, p, j, k) - get_Avar_jk(Avar, p, k, j)\n",
    "        MaxMis = - scale * np.abs(Xi @ (beta[j] - beta[k])) / np.sqrt(np.abs(Xi @ Avar_jk @ Xi))\n",
    "        MaxMis_list.append(MaxMis)\n",
    "\n",
    "    MaxMis = max(MaxMis_list)\n",
    "    return MaxMis"
   ]
  },
  {
   "cell_type": "code",
   "execution_count": 27,
   "id": "881da7bd-0f23-4229-9d24-8c8cfbec7a28",
   "metadata": {
    "scrolled": true,
    "tags": []
   },
   "outputs": [],
   "source": [
    "n = X_pilot.shape[0]\n",
    "prob_pilot = X_pilot.dot(np.transpose(beta_hat))\n",
    "Yhat_pilot = np.argmax(prob_pilot, axis=1)\n",
    "MaxMis_pilot = [compute_MaxMis_i(X_pilot[i], Yhat_pilot[i], beta_hat, Avar, n, M, alpha_n, K, p) for i in range(n)]\n",
    "\n",
    "n_rest = X_rest.shape[0]\n",
    "prob_rest = X_rest.dot(np.transpose(beta_hat))\n",
    "Yhat_rest = np.argmax(X_rest.dot(np.transpose(beta_hat)), axis=1)\n",
    "MaxMis_rest = [compute_MaxMis_i(X_rest[i], Yhat_rest[i], beta_hat, Avar, n, M, alpha_n, K, p) for i in range(n_rest)]"
   ]
  },
  {
   "cell_type": "code",
   "execution_count": 28,
   "id": "112ca48e-a619-4154-a119-2478e9d4ef26",
   "metadata": {},
   "outputs": [
    {
     "name": "stdout",
     "output_type": "stream",
     "text": [
      "0 0 -12.149649882078243\n",
      "[ 0.         -0.12250541 -0.16586234 -0.1642306  -0.13900777 -0.0987011\n",
      " -0.08197272 -0.15798231 -0.08324215 -0.0974901 ]\n"
     ]
    },
    {
     "data": {
      "image/png": "[encoded data removed]",
      "text/plain": [
       "<Figure size 432x288 with 1 Axes>"
      ]
     },
     "metadata": {
      "needs_background": "light"
     },
     "output_type": "display_data"
    }
   ],
   "source": [
    "idx = 7\n",
    "print(Y[id_pilot[idx]], Yhat_pilot[idx], MaxMis_pilot[idx])\n",
    "print(prob_pilot[idx])\n",
    "plt.imshow(X[id_pilot[idx]] / 255.0)\n",
    "plt.show()"
   ]
  },
  {
   "cell_type": "code",
   "execution_count": 29,
   "id": "d07acaa7-1049-4e52-9b0f-e9ec752fbfbc",
   "metadata": {},
   "outputs": [],
   "source": [
    "dat1 = pd.DataFrame({\"Y\": Y_pilot, \"Yhat\": Yhat_pilot, \"MaxMis\": MaxMis_pilot,})\n",
    "dat2 = pd.DataFrame({\"Y\": Y_rest, \"Yhat\": Yhat_rest, \"MaxMis\": MaxMis_rest,})\n",
    "dat = pd.concat([dat1, dat2], axis=0)\n",
    "dat = dat.sort_values(by=\"MaxMis\", ascending=False)\n",
    "dat = dat.reset_index(drop=True)\n",
    "dat[\"MaxMis_p\"] = Phi(dat[\"MaxMis\"])\n",
    "dat[\"rank\"] = np.arange(len(dat))\n",
    "dat[\"mislabeled\"] = (dat[\"Y\"] != dat[\"Yhat\"]).astype(int)"
   ]
  },
  {
   "cell_type": "code",
   "execution_count": 30,
   "id": "d6a61484-d4d2-4ff4-b279-716247c003af",
   "metadata": {},
   "outputs": [
    {
     "data": {
      "text/html": [
       "<div>\n",
       "<style scoped>\n",
       "    .dataframe tbody tr th:only-of-type {\n",
       "        vertical-align: middle;\n",
       "    }\n",
       "\n",
       "    .dataframe tbody tr th {\n",
       "        vertical-align: top;\n",
       "    }\n",
       "\n",
       "    .dataframe thead th {\n",
       "        text-align: right;\n",
       "    }\n",
       "</style>\n",
       "<table border=\"1\" class=\"dataframe\">\n",
       "  <thead>\n",
       "    <tr style=\"text-align: right;\">\n",
       "      <th></th>\n",
       "      <th>Y</th>\n",
       "      <th>Yhat</th>\n",
       "      <th>MaxMis</th>\n",
       "      <th>MaxMis_p</th>\n",
       "      <th>rank</th>\n",
       "      <th>mislabeled</th>\n",
       "    </tr>\n",
       "  </thead>\n",
       "  <tbody>\n",
       "    <tr>\n",
       "      <th>0</th>\n",
       "      <td>5</td>\n",
       "      <td>3</td>\n",
       "      <td>-0.001146</td>\n",
       "      <td>4.995427e-01</td>\n",
       "      <td>0</td>\n",
       "      <td>1</td>\n",
       "    </tr>\n",
       "    <tr>\n",
       "      <th>1</th>\n",
       "      <td>4</td>\n",
       "      <td>1</td>\n",
       "      <td>-0.002564</td>\n",
       "      <td>4.989772e-01</td>\n",
       "      <td>1</td>\n",
       "      <td>1</td>\n",
       "    </tr>\n",
       "    <tr>\n",
       "      <th>2</th>\n",
       "      <td>2</td>\n",
       "      <td>1</td>\n",
       "      <td>-0.003756</td>\n",
       "      <td>4.985015e-01</td>\n",
       "      <td>2</td>\n",
       "      <td>1</td>\n",
       "    </tr>\n",
       "    <tr>\n",
       "      <th>3</th>\n",
       "      <td>3</td>\n",
       "      <td>7</td>\n",
       "      <td>-0.005637</td>\n",
       "      <td>4.977513e-01</td>\n",
       "      <td>3</td>\n",
       "      <td>1</td>\n",
       "    </tr>\n",
       "    <tr>\n",
       "      <th>4</th>\n",
       "      <td>0</td>\n",
       "      <td>0</td>\n",
       "      <td>-0.010693</td>\n",
       "      <td>4.957340e-01</td>\n",
       "      <td>4</td>\n",
       "      <td>0</td>\n",
       "    </tr>\n",
       "    <tr>\n",
       "      <th>...</th>\n",
       "      <td>...</td>\n",
       "      <td>...</td>\n",
       "      <td>...</td>\n",
       "      <td>...</td>\n",
       "      <td>...</td>\n",
       "      <td>...</td>\n",
       "    </tr>\n",
       "    <tr>\n",
       "      <th>59995</th>\n",
       "      <td>0</td>\n",
       "      <td>0</td>\n",
       "      <td>-14.123104</td>\n",
       "      <td>1.368324e-45</td>\n",
       "      <td>59995</td>\n",
       "      <td>0</td>\n",
       "    </tr>\n",
       "    <tr>\n",
       "      <th>59996</th>\n",
       "      <td>0</td>\n",
       "      <td>0</td>\n",
       "      <td>-14.124755</td>\n",
       "      <td>1.336644e-45</td>\n",
       "      <td>59996</td>\n",
       "      <td>0</td>\n",
       "    </tr>\n",
       "    <tr>\n",
       "      <th>59997</th>\n",
       "      <td>0</td>\n",
       "      <td>0</td>\n",
       "      <td>-14.148338</td>\n",
       "      <td>9.561233e-46</td>\n",
       "      <td>59997</td>\n",
       "      <td>0</td>\n",
       "    </tr>\n",
       "    <tr>\n",
       "      <th>59998</th>\n",
       "      <td>0</td>\n",
       "      <td>0</td>\n",
       "      <td>-14.154804</td>\n",
       "      <td>8.721182e-46</td>\n",
       "      <td>59998</td>\n",
       "      <td>0</td>\n",
       "    </tr>\n",
       "    <tr>\n",
       "      <th>59999</th>\n",
       "      <td>0</td>\n",
       "      <td>0</td>\n",
       "      <td>-14.235184</td>\n",
       "      <td>2.770856e-46</td>\n",
       "      <td>59999</td>\n",
       "      <td>0</td>\n",
       "    </tr>\n",
       "  </tbody>\n",
       "</table>\n",
       "<p>60000 rows × 6 columns</p>\n",
       "</div>"
      ],
      "text/plain": [
       "       Y  Yhat     MaxMis      MaxMis_p   rank  mislabeled\n",
       "0      5     3  -0.001146  4.995427e-01      0           1\n",
       "1      4     1  -0.002564  4.989772e-01      1           1\n",
       "2      2     1  -0.003756  4.985015e-01      2           1\n",
       "3      3     7  -0.005637  4.977513e-01      3           1\n",
       "4      0     0  -0.010693  4.957340e-01      4           0\n",
       "...   ..   ...        ...           ...    ...         ...\n",
       "59995  0     0 -14.123104  1.368324e-45  59995           0\n",
       "59996  0     0 -14.124755  1.336644e-45  59996           0\n",
       "59997  0     0 -14.148338  9.561233e-46  59997           0\n",
       "59998  0     0 -14.154804  8.721182e-46  59998           0\n",
       "59999  0     0 -14.235184  2.770856e-46  59999           0\n",
       "\n",
       "[60000 rows x 6 columns]"
      ]
     },
     "execution_count": 30,
     "metadata": {},
     "output_type": "execute_result"
    }
   ],
   "source": [
    "dat"
   ]
  },
  {
   "cell_type": "code",
   "execution_count": 31,
   "id": "d4cfff95-1d16-47c6-89c8-348942e81a3f",
   "metadata": {},
   "outputs": [
    {
     "name": "stdout",
     "output_type": "stream",
     "text": [
      "60000\n"
     ]
    },
    {
     "data": {
      "text/plain": [
       "0.012383333333333333"
      ]
     },
     "execution_count": 31,
     "metadata": {},
     "output_type": "execute_result"
    }
   ],
   "source": [
    "N = len(dat)\n",
    "print(N)\n",
    "OMR = dat[\"mislabeled\"].sum() / N\n",
    "OMR"
   ]
  },
  {
   "cell_type": "code",
   "execution_count": 32,
   "id": "0cb52d4a-cd9e-466f-9446-a391ffa4ee36",
   "metadata": {},
   "outputs": [],
   "source": [
    "result = []\n",
    "\n",
    "for w in [0.1, 0.05, 0.01]:\n",
    "    human = dat[dat[\"MaxMis_p\"] > w]\n",
    "    machine = dat[dat[\"MaxMis_p\"] <= w]\n",
    "    ELC = human.shape[0] / N\n",
    "    CMR = machine.mislabeled.sum() / machine.shape[0]\n",
    "    result.append([w, CMR, ELC])\n",
    "\n",
    "datDF = pd.DataFrame(result, columns=[\"omega\", \"CMR\", \"ELC\"])"
   ]
  },
  {
   "cell_type": "code",
   "execution_count": 33,
   "id": "d36c82c4-1fbb-4fa4-beeb-5d93525f86de",
   "metadata": {},
   "outputs": [
    {
     "data": {
      "text/html": [
       "<div>\n",
       "<style scoped>\n",
       "    .dataframe tbody tr th:only-of-type {\n",
       "        vertical-align: middle;\n",
       "    }\n",
       "\n",
       "    .dataframe tbody tr th {\n",
       "        vertical-align: top;\n",
       "    }\n",
       "\n",
       "    .dataframe thead th {\n",
       "        text-align: right;\n",
       "    }\n",
       "</style>\n",
       "<table border=\"1\" class=\"dataframe\">\n",
       "  <thead>\n",
       "    <tr style=\"text-align: right;\">\n",
       "      <th></th>\n",
       "      <th>omega</th>\n",
       "      <th>CMR</th>\n",
       "      <th>ELC</th>\n",
       "    </tr>\n",
       "  </thead>\n",
       "  <tbody>\n",
       "    <tr>\n",
       "      <th>0</th>\n",
       "      <td>0.10</td>\n",
       "      <td>0.009030</td>\n",
       "      <td>0.007033</td>\n",
       "    </tr>\n",
       "    <tr>\n",
       "      <th>1</th>\n",
       "      <td>0.05</td>\n",
       "      <td>0.008207</td>\n",
       "      <td>0.008933</td>\n",
       "    </tr>\n",
       "    <tr>\n",
       "      <th>2</th>\n",
       "      <td>0.01</td>\n",
       "      <td>0.006754</td>\n",
       "      <td>0.012867</td>\n",
       "    </tr>\n",
       "  </tbody>\n",
       "</table>\n",
       "</div>"
      ],
      "text/plain": [
       "   omega       CMR       ELC\n",
       "0   0.10  0.009030  0.007033\n",
       "1   0.05  0.008207  0.008933\n",
       "2   0.01  0.006754  0.012867"
      ]
     },
     "execution_count": 33,
     "metadata": {},
     "output_type": "execute_result"
    }
   ],
   "source": [
    "datDF"
   ]
  },
  {
   "cell_type": "code",
   "execution_count": null,
   "id": "f3873b2f-718c-4c89-9529-8a6de9313985",
   "metadata": {},
   "outputs": [],
   "source": []
  }
 ],
 "metadata": {
  "kernelspec": {
   "display_name": "myconda",
   "language": "python",
   "name": "myconda"
  },
  "language_info": {
   "codemirror_mode": {
    "name": "ipython",
    "version": 3
   },
   "file_extension": ".py",
   "mimetype": "text/x-python",
   "name": "python",
   "nbconvert_exporter": "python",
   "pygments_lexer": "ipython3",
   "version": "3.9.12"
  }
 },
 "nbformat": 4,
 "nbformat_minor": 5
}
