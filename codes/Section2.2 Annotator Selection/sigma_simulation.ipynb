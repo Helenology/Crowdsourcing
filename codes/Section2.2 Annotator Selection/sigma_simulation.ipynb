{
 "cells": [
  {
   "cell_type": "code",
   "execution_count": 1,
   "id": "e32bb750",
   "metadata": {},
   "outputs": [],
   "source": [
    "import scipy.stats as st\n",
    "import numpy as np\n",
    "import matplotlib.pyplot as plt\n",
    "import pandas as pd\n",
    "\n",
    "%matplotlib inline"
   ]
  },
  {
   "cell_type": "markdown",
   "id": "6215953d",
   "metadata": {},
   "source": [
    "# Plot $g(u)$"
   ]
  },
  {
   "cell_type": "code",
   "execution_count": 2,
   "id": "995f1af6",
   "metadata": {},
   "outputs": [],
   "source": [
    "def rho(x, name=\"probit\"):\n",
    "    if name == \"probit\":\n",
    "        return st.norm.pdf(x) / st.norm.cdf(x)\n",
    "    if name == \"logistic\":\n",
    "        return np.exp(-x) / (1 + np.exp(-x))"
   ]
  },
  {
   "cell_type": "code",
   "execution_count": 3,
   "id": "60bfc4ca",
   "metadata": {},
   "outputs": [
    {
     "data": {
      "image/png": "[encoded data removed]",
      "text/plain": [
       "<Figure size 432x288 with 1 Axes>"
      ]
     },
     "metadata": {
      "needs_background": "light"
     },
     "output_type": "display_data"
    }
   ],
   "source": [
    "ticks = np.linspace(-30, 30, 1000)\n",
    "plt.plot(ticks, rho(ticks))\n",
    "plt.title(\"rho(x)\")\n",
    "plt.show()"
   ]
  },
  {
   "cell_type": "code",
   "execution_count": 4,
   "id": "46c9a4ca",
   "metadata": {},
   "outputs": [
    {
     "data": {
      "image/png": "[encoded data removed]",
      "text/plain": [
       "<Figure size 432x288 with 1 Axes>"
      ]
     },
     "metadata": {
      "needs_background": "light"
     },
     "output_type": "display_data"
    }
   ],
   "source": [
    "ticks = np.linspace(-30, 30, 1000)\n",
    "plt.plot(ticks, rho(ticks) * rho(-ticks))\n",
    "plt.title(\"rho(x)\")\n",
    "plt.show()"
   ]
  },
  {
   "cell_type": "code",
   "execution_count": 16,
   "id": "ab24f507",
   "metadata": {},
   "outputs": [],
   "source": [
    "p = 10\n",
    "M = 2\n",
    "n = 1000\n",
    "sigma_01 = 1\n",
    "sigma_list = np.linspace(start=0.1, stop=10.1, num=100)"
   ]
  },
  {
   "cell_type": "code",
   "execution_count": 47,
   "id": "705d55c8",
   "metadata": {},
   "outputs": [],
   "source": [
    "np.random.seed(0)\n",
    "beta_0 = np.ones((p, 1)) * 0.2\n",
    "X = np.random.uniform(size=(n, p))"
   ]
  },
  {
   "cell_type": "markdown",
   "id": "f8f8bd9c",
   "metadata": {},
   "source": [
    "- $\\rho(x) = \\frac{\\phi(x)}{\\Phi(x)}$"
   ]
  },
  {
   "cell_type": "code",
   "execution_count": 48,
   "id": "29f0fe86",
   "metadata": {},
   "outputs": [
    {
     "data": {
      "text/plain": [
       "[<matplotlib.lines.Line2D at 0x7f8630770520>]"
      ]
     },
     "execution_count": 48,
     "metadata": {},
     "output_type": "execute_result"
    },
    {
     "data": {
      "image/png": "[encoded data removed]",
      "text/plain": [
       "<Figure size 432x288 with 1 Axes>"
      ]
     },
     "metadata": {
      "needs_background": "light"
     },
     "output_type": "display_data"
    }
   ],
   "source": [
    "ticks = np.linspace(-10, 10, 1000)\n",
    "plt.plot(ticks, rho(ticks) * rho(-ticks))"
   ]
  },
  {
   "cell_type": "markdown",
   "id": "5ca8d64f",
   "metadata": {},
   "source": [
    "- $A_1$ 随 $\\sigma_1$ 变大的变化"
   ]
  },
  {
   "cell_type": "code",
   "execution_count": 49,
   "id": "06e9faf9",
   "metadata": {},
   "outputs": [],
   "source": [
    "## for 循环版本\n",
    "# AAA = 0\n",
    "# tmp = np.dot(X, beta_0) / sigma_01\n",
    "# tmp = tmp.reshape(-1)\n",
    "\n",
    "\n",
    "# for i in range(n):\n",
    "#     Xi = X[i].reshape((-1, 1))\n",
    "#     rho1 = rho(tmp[i]) # rho(np.dot(Xi.transpose(), beta_0) / sigma_01)\n",
    "#     rho2 = rho(-tmp[i])\n",
    "#     AAA += rho1 * rho2 * Xi * Xi.transpose() / n"
   ]
  },
  {
   "cell_type": "code",
   "execution_count": 50,
   "id": "31787a87",
   "metadata": {},
   "outputs": [],
   "source": [
    "# tmp = np.dot(X, beta_0) / sigma_01\n",
    "# tmp = tmp.reshape(-1)\n",
    "# rhos1 = np.diag(rho(tmp))\n",
    "# rhos2 = np.diag(rho(-tmp))\n",
    "# Z1 = np.dot(rhos1, X)\n",
    "# Z2 = np.dot(rhos2, X)\n",
    "# A = np.dot(Z1.transpose(), Z2) / n\n",
    "# A.shape"
   ]
  },
  {
   "cell_type": "code",
   "execution_count": 51,
   "id": "baeea4ee",
   "metadata": {},
   "outputs": [],
   "source": [
    "def compute_A(sigma, X, beta):\n",
    "    tmp = np.dot(X, beta) / sigma\n",
    "    tmp = tmp.reshape(-1)\n",
    "    rhos1 = np.diag(rho(tmp))\n",
    "    rhos2 = np.diag(rho(-tmp))\n",
    "    Z1 = np.dot(rhos1, X)\n",
    "    Z2 = np.dot(rhos2, X)\n",
    "    A = np.dot(Z1.transpose(), Z2) / n\n",
    "    return A"
   ]
  },
  {
   "cell_type": "code",
   "execution_count": 52,
   "id": "b56ae0bb",
   "metadata": {},
   "outputs": [
    {
     "data": {
      "text/plain": [
       "(10, 10)"
      ]
     },
     "execution_count": 52,
     "metadata": {},
     "output_type": "execute_result"
    }
   ],
   "source": [
    "Avar_list = []\n",
    "A_01 = compute_A(sigma_01, X, beta_0)\n",
    "A_01.shape"
   ]
  },
  {
   "cell_type": "code",
   "execution_count": 53,
   "id": "db1d4fcc",
   "metadata": {},
   "outputs": [],
   "source": [
    "for sigma in sigma_list:\n",
    "    A_02 = compute_A(sigma, X, beta_0)\n",
    "    tmp = np.dot(A_02, beta_0)\n",
    "    A = A_01 + (A_02 - np.dot(tmp, tmp.transpose()) / np.dot(beta_0.transpose(), tmp)) / sigma**2\n",
    "    Avar = np.linalg.inv(A) * M\n",
    "    Avar_list.append(Avar)"
   ]
  },
  {
   "cell_type": "code",
   "execution_count": 54,
   "id": "a51aa56e",
   "metadata": {
    "scrolled": true
   },
   "outputs": [
    {
     "data": {
      "text/plain": [
       "Text(0.5, 1.0, 'sigma1 = 1')"
      ]
     },
     "execution_count": 54,
     "metadata": {},
     "output_type": "execute_result"
    },
    {
     "data": {
      "image/png": "[encoded data removed]",
      "text/plain": [
       "<Figure size 432x288 with 1 Axes>"
      ]
     },
     "metadata": {
      "needs_background": "light"
     },
     "output_type": "display_data"
    }
   ],
   "source": [
    "k = 0\n",
    "plt.plot(sigma_list, [matrix[k, k] for matrix in Avar_list])\n",
    "plt.xlabel(\"sigma2\")\n",
    "plt.ylabel(f\"Avar[{k}, {k}]\")\n",
    "plt.title(f\"sigma1 = {sigma_01}\")"
   ]
  },
  {
   "cell_type": "code",
   "execution_count": 55,
   "id": "1cc77ee9",
   "metadata": {},
   "outputs": [
    {
     "data": {
      "text/plain": [
       "Text(0, 0.5, 'trace($\\\\Sigma_\\\\beta^{-1}$)')"
      ]
     },
     "execution_count": 55,
     "metadata": {},
     "output_type": "execute_result"
    },
    {
     "data": {
      "image/png": "[encoded data removed]",
      "text/plain": [
       "<Figure size 432x288 with 1 Axes>"
      ]
     },
     "metadata": {
      "needs_background": "light"
     },
     "output_type": "display_data"
    }
   ],
   "source": [
    "plt.plot(sigma_list, [np.trace(matrix) for matrix in Avar_list])\n",
    "plt.xlabel(r\"$\\sigma_{02}$\")\n",
    "plt.ylabel(r\"trace($\\Sigma_\\beta^{-1}$)\")\n",
    "# plt.title(r\"$\\sigma_1$ = 4\")"
   ]
  },
  {
   "cell_type": "code",
   "execution_count": 56,
   "id": "da1ef0f9",
   "metadata": {},
   "outputs": [
    {
     "data": {
      "text/html": [
       "<div>\n",
       "<style scoped>\n",
       "    .dataframe tbody tr th:only-of-type {\n",
       "        vertical-align: middle;\n",
       "    }\n",
       "\n",
       "    .dataframe tbody tr th {\n",
       "        vertical-align: top;\n",
       "    }\n",
       "\n",
       "    .dataframe thead th {\n",
       "        text-align: right;\n",
       "    }\n",
       "</style>\n",
       "<table border=\"1\" class=\"dataframe\">\n",
       "  <thead>\n",
       "    <tr style=\"text-align: right;\">\n",
       "      <th></th>\n",
       "      <th>sigma</th>\n",
       "      <th>trace</th>\n",
       "    </tr>\n",
       "  </thead>\n",
       "  <tbody>\n",
       "    <tr>\n",
       "      <th>0</th>\n",
       "      <td>0.10000</td>\n",
       "      <td>495.006461</td>\n",
       "    </tr>\n",
       "    <tr>\n",
       "      <th>1</th>\n",
       "      <td>0.20101</td>\n",
       "      <td>475.977262</td>\n",
       "    </tr>\n",
       "    <tr>\n",
       "      <th>2</th>\n",
       "      <td>0.30202</td>\n",
       "      <td>349.755327</td>\n",
       "    </tr>\n",
       "    <tr>\n",
       "      <th>3</th>\n",
       "      <td>0.40303</td>\n",
       "      <td>248.574974</td>\n",
       "    </tr>\n",
       "    <tr>\n",
       "      <th>4</th>\n",
       "      <td>0.50404</td>\n",
       "      <td>211.217525</td>\n",
       "    </tr>\n",
       "  </tbody>\n",
       "</table>\n",
       "</div>"
      ],
      "text/plain": [
       "     sigma       trace\n",
       "0  0.10000  495.006461\n",
       "1  0.20101  475.977262\n",
       "2  0.30202  349.755327\n",
       "3  0.40303  248.574974\n",
       "4  0.50404  211.217525"
      ]
     },
     "execution_count": 56,
     "metadata": {},
     "output_type": "execute_result"
    }
   ],
   "source": [
    "Avar_df = pd.DataFrame({\"sigma\": sigma_list, \n",
    "                        \"trace\": [np.trace(matrix) for matrix in Avar_list]})\n",
    "Avar_df.head()"
   ]
  },
  {
   "cell_type": "code",
   "execution_count": 57,
   "id": "bbedf521",
   "metadata": {},
   "outputs": [],
   "source": [
    "Avar_df.to_csv(\"/Users/helenology/Desktop/光华/ 论文/4-Crowdsourcing/codes/simulation/trace.csv\")"
   ]
  },
  {
   "cell_type": "code",
   "execution_count": 147,
   "id": "d3ef880b",
   "metadata": {},
   "outputs": [
    {
     "data": {
      "text/plain": [
       "2272.489886315778"
      ]
     },
     "execution_count": 147,
     "metadata": {},
     "output_type": "execute_result"
    }
   ],
   "source": [
    "np.trace(np.linalg.inv(A_01)) * M"
   ]
  },
  {
   "cell_type": "code",
   "execution_count": null,
   "id": "a0670620",
   "metadata": {},
   "outputs": [],
   "source": []
  }
 ],
 "metadata": {
  "kernelspec": {
   "display_name": "Python 3 (ipykernel)",
   "language": "python",
   "name": "python3"
  },
  "language_info": {
   "codemirror_mode": {
    "name": "ipython",
    "version": 3
   },
   "file_extension": ".py",
   "mimetype": "text/x-python",
   "name": "python",
   "nbconvert_exporter": "python",
   "pygments_lexer": "ipython3",
   "version": "3.9.7"
  },
  "toc": {
   "base_numbering": 1,
   "nav_menu": {},
   "number_sections": true,
   "sideBar": true,
   "skip_h1_title": false,
   "title_cell": "Table of Contents",
   "title_sidebar": "Contents",
   "toc_cell": false,
   "toc_position": {},
   "toc_section_display": true,
   "toc_window_display": false
  }
 },
 "nbformat": 4,
 "nbformat_minor": 5
}
